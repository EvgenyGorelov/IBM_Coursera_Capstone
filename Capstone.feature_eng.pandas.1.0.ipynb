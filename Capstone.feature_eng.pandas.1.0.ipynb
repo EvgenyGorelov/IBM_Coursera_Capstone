{
    "nbformat_minor": 2, 
    "cells": [
        {
            "source": "\n# Advanced Data Science Capstone\n\n## Correlation of air pollution and Prevalence of Asthma bronchiale in Germany  \n\n## Feature Creation and Feature engineering", 
            "cell_type": "markdown", 
            "metadata": {
                "collapsed": true
            }
        }, 
        {
            "source": "### The deliverables\nThe deliverables of the current stage:\n\n - Pandas data frame with disease prevalence column(s), county id, and some features extracted from air pollution data series for sensors located in corresponding county\n\n###  Feature creation\nThe basic features for air pollution levels are\n\n - Number of hours when pollutant concentration exceeded some certain value\n - Mean or Median concentration of the pollutant\n \n###  Feature quality check\n\n - Feature variance\n - Feature cross-correlation matrix\n \n First of all the necessary libraries and the datasets preprocessed at the ETL stage loaded:", 
            "cell_type": "markdown", 
            "metadata": {}
        }, 
        {
            "execution_count": 1, 
            "cell_type": "code", 
            "metadata": {}, 
            "outputs": [], 
            "source": "# Libraries:\nimport pandas as pd\nimport numpy as np\nimport matplotlib.pyplot as plt\nimport re\n"
        }, 
        {
            "execution_count": 2, 
            "cell_type": "code", 
            "metadata": {}, 
            "outputs": [], 
            "source": "# Files:\nSensorLocation = pd.read_csv('Capstone.ETL/Capstone.etl.SensorLocationCSV.1.0.csv')\ndfHeart = pd.read_csv('Capstone.ETL/Capstone.etl.dfHeartCSV.1.0.csv')\ndfAsthma = pd.read_csv('Capstone.ETL/Capstone.etl.dfAsthmaCSV.1.0.csv')\ndffAll = pd.read_csv('Capstone.ETL/Capstone.etl.wideCSV.1.0.gzip', compression='gzip', index_col=None)"
        }, 
        {
            "source": "###  Feature creation\n\nNow let's create some basic features, illustrating some integral quantities of air pollution over the year.\nFor the start the following features will be generated:\n - Average concentration of every kind of pollutant over the year (average over all sensors within the county)\n - 75th percentile of every kind pollutant over the year, that is also proportional to the number of days when pollutant concentration exceeded some certain value\n\n#### Selecting disease:\n", 
            "cell_type": "markdown", 
            "metadata": {}
        }, 
        {
            "execution_count": 3, 
            "cell_type": "code", 
            "metadata": {}, 
            "outputs": [], 
            "source": "#dfDisease = dfHeart\ndfDisease = dfAsthma"
        }, 
        {
            "source": "#### Mean pollutant concentration over the year\nThe quantity can be straightforward extracted using *.describe()* method of the data frame:", 
            "cell_type": "markdown", 
            "metadata": {}
        }, 
        {
            "execution_count": 4, 
            "cell_type": "code", 
            "metadata": {}, 
            "outputs": [], 
            "source": "dffAllSummary=dffAll.describe()\n\ndef MeanByPollutantCountyID(Pollutant, CountyID):\n    PollutantMasc='^.{8}' + Pollutant + '_'\n# collecting set of all sensors in the given county:    \n    CountyStationSet = SensorLocation.loc[SensorLocation['countyid']==CountyID]['SensorID'].tolist()\n    if (CountyStationSet == []) or ([col for col in dffAllSummary.columns if re.search('(^.{7})',col).group(1) in CountyStationSet if ('_'+Pollutant+'_') in col] == []):\n        return(np.nan)\n    try:\n        dffAllPollutantCountyID = dffAllSummary[[col for col in dffAllSummary.columns if re.search('(^.{7})',col).group(1) in CountyStationSet]].filter(regex=PollutantMasc,axis=1)\n        return(dffAllPollutantCountyID.loc[['mean']].mean(axis=1)[0])\n    except:    \n        return(np.nan)\n"
        }, 
        {
            "execution_count": 5, 
            "cell_type": "code", 
            "metadata": {}, 
            "outputs": [], 
            "source": "ListOfPollutants = ['CO','NO','NO2','NOx','O3','PM1','PM2', 'PM10', 'SO2', 'CHB', 'CH4', 'C8H10', 'CHT', 'CO2']\n\nfor pollutant in ListOfPollutants:\n    ColIndex=pollutant+'mean'\n    dfDisease[ColIndex] =dfDisease.apply(lambda x: MeanByPollutantCountyID(pollutant, x['Regions-ID']), axis=1)"
        }, 
        {
            "execution_count": 6, 
            "cell_type": "code", 
            "metadata": {}, 
            "outputs": [
                {
                    "execution_count": 6, 
                    "metadata": {}, 
                    "data": {
                        "text/plain": "Region          0\nRegions-ID      0\nKV              0\nKreistyp        0\nWert            0\nBundeswert      0\nCOmean        391\nNOmean        348\nNO2mean       348\nNOxmean       350\nO3mean        350\nPM1mean       352\nPM2mean       383\nPM10mean      402\nSO2mean       373\nCHBmean       391\nCH4mean       402\nC8H10mean     402\nCHTmean       391\nCO2mean       402\ndtype: int64"
                    }, 
                    "output_type": "execute_result"
                }
            ], 
            "source": "#dfDisease.head(53)\ndfDisease.isna().sum()"
        }, 
        {
            "source": "From the table above one can see, that only 5 pollutants (*NO, NO2, NOx, O3, PM1*) were measured in about a half of German counties (total number of counties mentioned in the *heart failures* and *asthma bronchiale* datasets is 402). Let's take a look, in how many counties all 6 pollutants were measured simultaneously:\n", 
            "cell_type": "markdown", 
            "metadata": {}
        }, 
        {
            "execution_count": 7, 
            "cell_type": "code", 
            "metadata": {}, 
            "outputs": [], 
            "source": "FeatureSetDenseMean = dfDisease[['Regions-ID','Wert','NOmean','NO2mean','NOxmean','O3mean','PM1mean']].dropna().reset_index(drop=True)\nFeatureSetDenseMean.columns=['CountyID','DiseaseR','NOmean','NO2mean','NOxmean','O3mean','PM1mean']"
        }, 
        {
            "execution_count": 8, 
            "cell_type": "code", 
            "metadata": {}, 
            "outputs": [
                {
                    "execution_count": 8, 
                    "metadata": {}, 
                    "data": {
                        "text/html": "<div>\n<style scoped>\n    .dataframe tbody tr th:only-of-type {\n        vertical-align: middle;\n    }\n\n    .dataframe tbody tr th {\n        vertical-align: top;\n    }\n\n    .dataframe thead th {\n        text-align: right;\n    }\n</style>\n<table border=\"1\" class=\"dataframe\">\n  <thead>\n    <tr style=\"text-align: right;\">\n      <th></th>\n      <th>CountyID</th>\n      <th>DiseaseR</th>\n      <th>NOmean</th>\n      <th>NO2mean</th>\n      <th>NOxmean</th>\n      <th>O3mean</th>\n      <th>PM1mean</th>\n    </tr>\n  </thead>\n  <tbody>\n    <tr>\n      <th>count</th>\n      <td>41.000000</td>\n      <td>41.000000</td>\n      <td>41.000000</td>\n      <td>41.000000</td>\n      <td>41.000000</td>\n      <td>41.000000</td>\n      <td>41.000000</td>\n    </tr>\n    <tr>\n      <th>mean</th>\n      <td>12808.853659</td>\n      <td>5.892683</td>\n      <td>10.915176</td>\n      <td>16.879199</td>\n      <td>32.991759</td>\n      <td>50.300838</td>\n      <td>15.403850</td>\n    </tr>\n    <tr>\n      <th>std</th>\n      <td>5116.970830</td>\n      <td>1.083834</td>\n      <td>12.508702</td>\n      <td>9.244565</td>\n      <td>28.075284</td>\n      <td>8.834913</td>\n      <td>3.595645</td>\n    </tr>\n    <tr>\n      <th>min</th>\n      <td>1002.000000</td>\n      <td>4.200000</td>\n      <td>0.163299</td>\n      <td>2.155348</td>\n      <td>2.637490</td>\n      <td>40.642753</td>\n      <td>7.460854</td>\n    </tr>\n    <tr>\n      <th>25%</th>\n      <td>14521.000000</td>\n      <td>5.200000</td>\n      <td>2.047583</td>\n      <td>9.932120</td>\n      <td>12.899541</td>\n      <td>44.599687</td>\n      <td>12.520184</td>\n    </tr>\n    <tr>\n      <th>50%</th>\n      <td>15003.000000</td>\n      <td>5.700000</td>\n      <td>6.803691</td>\n      <td>15.297707</td>\n      <td>25.471797</td>\n      <td>48.419621</td>\n      <td>15.508504</td>\n    </tr>\n    <tr>\n      <th>75%</th>\n      <td>16053.000000</td>\n      <td>6.700000</td>\n      <td>16.378347</td>\n      <td>21.588235</td>\n      <td>41.774936</td>\n      <td>52.279996</td>\n      <td>18.206161</td>\n    </tr>\n    <tr>\n      <th>max</th>\n      <td>16077.000000</td>\n      <td>8.700000</td>\n      <td>58.916103</td>\n      <td>41.784301</td>\n      <td>132.030190</td>\n      <td>83.072606</td>\n      <td>21.824518</td>\n    </tr>\n  </tbody>\n</table>\n</div>", 
                        "text/plain": "           CountyID   DiseaseR     NOmean    NO2mean     NOxmean     O3mean  \\\ncount     41.000000  41.000000  41.000000  41.000000   41.000000  41.000000   \nmean   12808.853659   5.892683  10.915176  16.879199   32.991759  50.300838   \nstd     5116.970830   1.083834  12.508702   9.244565   28.075284   8.834913   \nmin     1002.000000   4.200000   0.163299   2.155348    2.637490  40.642753   \n25%    14521.000000   5.200000   2.047583   9.932120   12.899541  44.599687   \n50%    15003.000000   5.700000   6.803691  15.297707   25.471797  48.419621   \n75%    16053.000000   6.700000  16.378347  21.588235   41.774936  52.279996   \nmax    16077.000000   8.700000  58.916103  41.784301  132.030190  83.072606   \n\n         PM1mean  \ncount  41.000000  \nmean   15.403850  \nstd     3.595645  \nmin     7.460854  \n25%    12.520184  \n50%    15.508504  \n75%    18.206161  \nmax    21.824518  "
                    }, 
                    "output_type": "execute_result"
                }
            ], 
            "source": "#FeatureSetDenseMean.tail(55)\nFeatureSetDenseMean.describe()\n#FeatureSetDenseMean.isna().sum()\n#FeatureSetDenseMean['NOmean'].mean()"
        }, 
        {
            "source": "From the table above one can conclude, that despite only about a third of German counties are included into the **FeatureSetDense** dataset, all the measured quantities have good variability. In order to illustrate it, the histograms are plotted:", 
            "cell_type": "markdown", 
            "metadata": {}
        }, 
        {
            "execution_count": 9, 
            "cell_type": "code", 
            "metadata": {}, 
            "outputs": [
                {
                    "output_type": "display_data", 
                    "data": {
                        "image/png": "[encoded data removed]", 
                        "text/plain": "<Figure size 432x288 with 6 Axes>"
                    }, 
                    "metadata": {
                        "needs_background": "light"
                    }
                }
            ], 
            "source": "FeatureSetDenseMean.hist(column=['NOmean','NO2mean','NOxmean','O3mean','PM1mean']);"
        }, 
        {
            "source": "We can also maximize number of counties in the dataset, removing 2 of 5 pollutants. It is found, that for the current dataset it will lead to increase of observations up to 199, almost a half of the counties:", 
            "cell_type": "markdown", 
            "metadata": {}
        }, 
        {
            "execution_count": 10, 
            "cell_type": "code", 
            "metadata": {}, 
            "outputs": [
                {
                    "execution_count": 10, 
                    "metadata": {}, 
                    "data": {
                        "text/html": "<div>\n<style scoped>\n    .dataframe tbody tr th:only-of-type {\n        vertical-align: middle;\n    }\n\n    .dataframe tbody tr th {\n        vertical-align: top;\n    }\n\n    .dataframe thead th {\n        text-align: right;\n    }\n</style>\n<table border=\"1\" class=\"dataframe\">\n  <thead>\n    <tr style=\"text-align: right;\">\n      <th></th>\n      <th>CountyID</th>\n      <th>DiseaseR</th>\n      <th>NOmean</th>\n      <th>NO2mean</th>\n      <th>PM1mean</th>\n    </tr>\n  </thead>\n  <tbody>\n    <tr>\n      <th>count</th>\n      <td>49.000000</td>\n      <td>49.000000</td>\n      <td>49.000000</td>\n      <td>49.000000</td>\n      <td>49.000000</td>\n    </tr>\n    <tr>\n      <th>mean</th>\n      <td>12407.571429</td>\n      <td>5.875510</td>\n      <td>12.369953</td>\n      <td>18.167614</td>\n      <td>15.935149</td>\n    </tr>\n    <tr>\n      <th>std</th>\n      <td>5314.798471</td>\n      <td>1.097066</td>\n      <td>12.653499</td>\n      <td>9.226942</td>\n      <td>3.599833</td>\n    </tr>\n    <tr>\n      <th>min</th>\n      <td>1001.000000</td>\n      <td>4.200000</td>\n      <td>0.163299</td>\n      <td>2.155348</td>\n      <td>7.460854</td>\n    </tr>\n    <tr>\n      <th>25%</th>\n      <td>12065.000000</td>\n      <td>5.000000</td>\n      <td>2.246570</td>\n      <td>11.887994</td>\n      <td>13.327512</td>\n    </tr>\n    <tr>\n      <th>50%</th>\n      <td>15001.000000</td>\n      <td>5.700000</td>\n      <td>7.809633</td>\n      <td>16.773922</td>\n      <td>16.167680</td>\n    </tr>\n    <tr>\n      <th>75%</th>\n      <td>16052.000000</td>\n      <td>6.700000</td>\n      <td>16.884384</td>\n      <td>23.017952</td>\n      <td>18.558537</td>\n    </tr>\n    <tr>\n      <th>max</th>\n      <td>16077.000000</td>\n      <td>8.700000</td>\n      <td>58.916103</td>\n      <td>41.784301</td>\n      <td>22.832089</td>\n    </tr>\n  </tbody>\n</table>\n</div>", 
                        "text/plain": "           CountyID   DiseaseR     NOmean    NO2mean    PM1mean\ncount     49.000000  49.000000  49.000000  49.000000  49.000000\nmean   12407.571429   5.875510  12.369953  18.167614  15.935149\nstd     5314.798471   1.097066  12.653499   9.226942   3.599833\nmin     1001.000000   4.200000   0.163299   2.155348   7.460854\n25%    12065.000000   5.000000   2.246570  11.887994  13.327512\n50%    15001.000000   5.700000   7.809633  16.773922  16.167680\n75%    16052.000000   6.700000  16.884384  23.017952  18.558537\nmax    16077.000000   8.700000  58.916103  41.784301  22.832089"
                    }, 
                    "output_type": "execute_result"
                }
            ], 
            "source": "FeatureSetLongMean = dfDisease[['Regions-ID','Wert','NOmean','NO2mean','PM1mean']].dropna().reset_index(drop=True)\nFeatureSetLongMean.columns=['CountyID','DiseaseR','NOmean','NO2mean','PM1mean']\nFeatureSetLongMean.describe()"
        }, 
        {
            "source": "Writing feature files:", 
            "cell_type": "markdown", 
            "metadata": {}
        }, 
        {
            "execution_count": 11, 
            "cell_type": "code", 
            "metadata": {}, 
            "outputs": [], 
            "source": "#!mkdir Capstone.FeatureEng\nFeatureSetDenseMean.to_csv('Capstone.FeatureEng/Capstone.feature_eng.DenseMean.1.0.csv', index=False)\nFeatureSetLongMean.to_csv('Capstone.FeatureEng/Capstone.feature_eng.LongMean.1.0.csv', index=False)"
        }, 
        {
            "source": "#### Quantile-based features\nConstructing the global distribution of selected pollutant concentration over all counties of interest,\none can find e.g. 75th quantile of this pollutant concentration distribution, \nand than count number of hours, when this concentration was exceeded in each county.\nThis quantity is some generalization of the *\"number of days when the pollutant limit has been exceeded\"* quantity, because it tune itself to pollution levels available in the dataset.", 
            "cell_type": "markdown", 
            "metadata": {}
        }, 
        {
            "execution_count": 12, 
            "cell_type": "code", 
            "metadata": {}, 
            "outputs": [], 
            "source": "# Function for Croppind of initial dffAll dataset to columns reflecting measurements \n# of pollutants in ListOfPollutants at counties in ListOfCountyIDs:\ndef CropPollutantsIDsTS(ListOfPollutants, ListOfCountyIDs):\n    CountyStationSet=[]\n    dffAllCrop=pd.DataFrame(dffAll['observation_period'])\n\n    for CountyID in ListOfCountyIDs:\n        CountyStationSet.extend(SensorLocation.loc[SensorLocation['countyid']==CountyID]['SensorID'].tolist())\n    for Pollutant in ListOfPollutants:\n        PollutantMasc='^.{8}' + Pollutant + '_' \n        dffAllCrop=dffAllCrop.join(dffAll[[col for col in dffAll.columns if re.search('(^.{7})',col).group(1) in CountyStationSet]].filter(regex=PollutantMasc,axis=1))\n    return(dffAllCrop)\n\n# Function for calculating Nth percentiles for pollutants in ListOfPollutants at counties in ListOfCountyIDs:\ndef ReturnNthPercentilePollutantsIDsTS(Percentile, ListOfPollutants, ListOfCountyIDs):\n    CountyStationSet=[]\n    NthPercentile=pd.DataFrame()\n\n    for CountyID in ListOfCountyIDs:\n        CountyStationSet.extend(SensorLocation.loc[SensorLocation['countyid']==CountyID]['SensorID'].tolist())\n    for Pollutant in ListOfPollutants:\n        PollutantMasc='^.{8}' + Pollutant + '_'\n        NthPercentile[Pollutant] = [(dffAll[[col for col in dffAll.columns if re.search('(^.{7})',col).group(1) in CountyStationSet]].filter(regex=PollutantMasc,axis=1)).stack().reset_index(drop=True).quantile(Percentile/100.0)]\n    return(NthPercentile)\n\n# Function for calculating Feature matrix, containing average (over sensors) number of hours for each county, when pollutant concentration\n# was exceeding Nth global percentiles for the pollutant at counties of interest (in ListOfCountyIDs):\ndef FeatureMatrixNthPercentile(Percentile, ListOfPollutants, ListOfCountyIDs):\n    NthPercentile=ReturnNthPercentilePollutantsIDsTS(Percentile, ListOfPollutants, ListOfCountyIDs)\n    dffAllCrop=CropPollutantsIDsTS(ListOfPollutants, ListOfCountyIDs)\n\n    FeatureMatrix=pd.DataFrame({'CountyID': dfDisease.loc[dfDisease['Regions-ID'].isin(ListOfCountyIDs)]['Regions-ID'], 'DiseaseR': dfDisease.loc[dfDisease['Regions-ID'].isin(ListOfCountyIDs)]['Wert']}).reset_index(drop=True)\n    for Pollutant in ListOfPollutants:\n        PollutantHoursExceed=[]\n        PollutantMasc='^.{8}' + Pollutant + '_'\n        for CountyID in ListOfCountyIDs:\n            CountyStationSet=[]\n            CountyStationSet.extend(SensorLocation.loc[SensorLocation['countyid']==CountyID]['SensorID'].tolist())\n\n            dffPollutantCounty = dffAllCrop[[col for col in dffAllCrop.columns if re.search('(^.{7})',col).group(1) in CountyStationSet]].filter(regex=PollutantMasc,axis=1)\n            NumPollutantStationsAtCounty = dffPollutantCounty.shape[1]\n            PollutantHoursExceed.append((dffPollutantCounty.stack().reset_index(drop=True)>NthPercentile[Pollutant][0]).reset_index(drop=True).sum()/NumPollutantStationsAtCounty)\n        FeatureMatrix = FeatureMatrix.reset_index(drop=True).join(pd.DataFrame({Pollutant : PollutantHoursExceed}))        \n    return(FeatureMatrix)"
        }, 
        {
            "source": "The same way as it was done for the pollutant mean as a feature, the quantile-based features with two types of pollutant lists (*Dense* and *Long*) and two percentile values (50 and 75) will be created:", 
            "cell_type": "markdown", 
            "metadata": {}
        }, 
        {
            "execution_count": 13, 
            "cell_type": "code", 
            "metadata": {}, 
            "outputs": [], 
            "source": "ListOfPollutantsDense = ['NO','NO2','NOx','O3','PM1']\nListOfCountyIDsDense = FeatureSetDenseMean['CountyID']\nFeatureSetDensePerc50 = FeatureMatrixNthPercentile(50, ListOfPollutantsDense, ListOfCountyIDsDense)\nFeatureSetDensePerc75 = FeatureMatrixNthPercentile(75, ListOfPollutantsDense, ListOfCountyIDsDense)\n\nListOfPollutantsLong = ['NO','NO2','PM1']\nListOfCountyIDsLong = FeatureSetLongMean['CountyID']\nFeatureSetLongPerc50 = FeatureMatrixNthPercentile(50, ListOfPollutantsLong, ListOfCountyIDsLong)\nFeatureSetLongPerc75 = FeatureMatrixNthPercentile(75, ListOfPollutantsLong, ListOfCountyIDsLong)\n\nFeatureSetDensePerc50.to_csv('Capstone.FeatureEng/Capstone.feature_eng.DensePerc50.1.0.csv', index=False)\nFeatureSetDensePerc75.to_csv('Capstone.FeatureEng/Capstone.feature_eng.DensePerc75.1.0.csv', index=False)\n\nFeatureSetLongPerc50.to_csv('Capstone.FeatureEng/Capstone.feature_eng.LongPerc50.1.0.csv', index=False)\nFeatureSetLongPerc75.to_csv('Capstone.FeatureEng/Capstone.feature_eng.LongPerc75.1.0.csv', index=False)"
        }, 
        {
            "execution_count": 14, 
            "cell_type": "code", 
            "metadata": {}, 
            "outputs": [
                {
                    "execution_count": 14, 
                    "metadata": {}, 
                    "data": {
                        "text/html": "<div>\n<style scoped>\n    .dataframe tbody tr th:only-of-type {\n        vertical-align: middle;\n    }\n\n    .dataframe tbody tr th {\n        vertical-align: top;\n    }\n\n    .dataframe thead th {\n        text-align: right;\n    }\n</style>\n<table border=\"1\" class=\"dataframe\">\n  <thead>\n    <tr style=\"text-align: right;\">\n      <th></th>\n      <th>CountyID</th>\n      <th>DiseaseR</th>\n      <th>NO</th>\n      <th>NO2</th>\n      <th>NOx</th>\n      <th>O3</th>\n      <th>PM1</th>\n    </tr>\n  </thead>\n  <tbody>\n    <tr>\n      <th>31</th>\n      <td>14522</td>\n      <td>5.0</td>\n      <td>3860.5</td>\n      <td>3479.0</td>\n      <td>3772.0</td>\n      <td>6771.000000</td>\n      <td>3075.000000</td>\n    </tr>\n    <tr>\n      <th>32</th>\n      <td>14625</td>\n      <td>5.0</td>\n      <td>5829.0</td>\n      <td>4664.0</td>\n      <td>5112.0</td>\n      <td>3884.000000</td>\n      <td>5182.000000</td>\n    </tr>\n    <tr>\n      <th>33</th>\n      <td>14521</td>\n      <td>4.8</td>\n      <td>7164.0</td>\n      <td>5508.0</td>\n      <td>6428.0</td>\n      <td>6125.666667</td>\n      <td>1654.000000</td>\n    </tr>\n    <tr>\n      <th>34</th>\n      <td>14626</td>\n      <td>4.8</td>\n      <td>4421.0</td>\n      <td>3854.0</td>\n      <td>4133.0</td>\n      <td>3896.000000</td>\n      <td>5301.666667</td>\n    </tr>\n    <tr>\n      <th>35</th>\n      <td>15085</td>\n      <td>4.7</td>\n      <td>2074.0</td>\n      <td>2037.0</td>\n      <td>1950.0</td>\n      <td>5085.250000</td>\n      <td>3537.666667</td>\n    </tr>\n    <tr>\n      <th>36</th>\n      <td>8315</td>\n      <td>4.6</td>\n      <td>135.0</td>\n      <td>87.0</td>\n      <td>166.0</td>\n      <td>8447.000000</td>\n      <td>1545.000000</td>\n    </tr>\n    <tr>\n      <th>37</th>\n      <td>15091</td>\n      <td>4.6</td>\n      <td>5425.5</td>\n      <td>5141.5</td>\n      <td>5269.0</td>\n      <td>3998.000000</td>\n      <td>5300.500000</td>\n    </tr>\n    <tr>\n      <th>38</th>\n      <td>15081</td>\n      <td>4.4</td>\n      <td>836.0</td>\n      <td>1077.0</td>\n      <td>965.0</td>\n      <td>3789.000000</td>\n      <td>3382.000000</td>\n    </tr>\n    <tr>\n      <th>39</th>\n      <td>13073</td>\n      <td>4.3</td>\n      <td>398.0</td>\n      <td>645.0</td>\n      <td>512.0</td>\n      <td>5850.000000</td>\n      <td>2666.000000</td>\n    </tr>\n    <tr>\n      <th>40</th>\n      <td>16064</td>\n      <td>4.2</td>\n      <td>6066.5</td>\n      <td>5785.5</td>\n      <td>5649.0</td>\n      <td>3538.000000</td>\n      <td>5284.500000</td>\n    </tr>\n  </tbody>\n</table>\n</div>", 
                        "text/plain": "    CountyID  DiseaseR      NO     NO2     NOx           O3          PM1\n31     14522       5.0  3860.5  3479.0  3772.0  6771.000000  3075.000000\n32     14625       5.0  5829.0  4664.0  5112.0  3884.000000  5182.000000\n33     14521       4.8  7164.0  5508.0  6428.0  6125.666667  1654.000000\n34     14626       4.8  4421.0  3854.0  4133.0  3896.000000  5301.666667\n35     15085       4.7  2074.0  2037.0  1950.0  5085.250000  3537.666667\n36      8315       4.6   135.0    87.0   166.0  8447.000000  1545.000000\n37     15091       4.6  5425.5  5141.5  5269.0  3998.000000  5300.500000\n38     15081       4.4   836.0  1077.0   965.0  3789.000000  3382.000000\n39     13073       4.3   398.0   645.0   512.0  5850.000000  2666.000000\n40     16064       4.2  6066.5  5785.5  5649.0  3538.000000  5284.500000"
                    }, 
                    "output_type": "execute_result"
                }
            ], 
            "source": "FeatureSetDensePerc50.tail(10)\n#FeatureSetLongPerc50.tail(10)\n#FeatureSetDensePerc75.tail(10)\n#FeatureSetLongPerc75.tail(10)\n"
        }, 
        {
            "source": "###  Feature transformation\n\nIn this part the following notation is used:\n - *X, y* - features and labels of initial feature matrix.\n - *X_train0, X_test0, y_train0, y_test0* initial feature matrix, splitted into train and test sets\n - *X_train, X_test, y_train, y_test* normalized feature matrix, splitted into train and test sets\n - *X_train_XXX, X_test_XXX, y_train_XXX, y_test_XXX* transformed (XXX is the name of transformation) feature matrix, splitted into train and test sets\n \n\n#### Normalization\nFor use in the machine-learning and especially deep learning frameworks the features have to be normalized:", 
            "cell_type": "markdown", 
            "metadata": {}
        }, 
        {
            "execution_count": 15, 
            "cell_type": "code", 
            "metadata": {}, 
            "outputs": [], 
            "source": "FeatureSet = FeatureSetDensePerc50\n\n#from sklearn import preprocessing\nfrom sklearn.preprocessing import MinMaxScaler\nfrom sklearn.model_selection import train_test_split\nfrom sklearn import decomposition\nfrom sklearn.preprocessing import PolynomialFeatures\n\nX, y = FeatureSet.drop(['CountyID', 'DiseaseR'], axis=1), FeatureSet['DiseaseR']\nX_train0, X_test0, y_train0, y_test0 = train_test_split(X, y, random_state=0)\n\n\n# default scaler: maps to [0:1]\nscaler = MinMaxScaler()\n\nscaler.fit(X_train0)\n# apply transform\nX_train = scaler.transform(X_train0)\nX_test  = scaler.transform(X_test0)\n\n# inverse transform\ninverse = scaler.inverse_transform(X_train)\n# also, maybe lognorm-like distribution can be converted to ~normal with box-cox."
        }, 
        {
            "source": "checking inversibility of the scaling procedure:", 
            "cell_type": "markdown", 
            "metadata": {}
        }, 
        {
            "execution_count": 16, 
            "cell_type": "code", 
            "metadata": {}, 
            "outputs": [
                {
                    "output_type": "stream", 
                    "name": "stdout", 
                    "text": "        NO     NO2     NOx      O3     PM1\n20  1812.0  3200.0  3012.0  4515.0  4231.0\n38   836.0  1077.0   965.0  3789.0  3382.0\n2   4360.0  4951.0  4361.0  3582.0  4558.0\n40  6066.5  5785.5  5649.0  3538.0  5284.5\n[[1812.  3200.  3012.  4515.  4231. ]\n [ 836.  1077.   965.  3789.  3382. ]\n [4360.  4951.  4361.  3582.  4558. ]\n [6066.5 5785.5 5649.  3538.  5284.5]]\n"
                }
            ], 
            "source": "print(X_train0[0:4])\nprint(inverse[0:4])"
        }, 
        {
            "source": "#### Principal Component Analysis (PCA)\nThe 5 features from the initial dataset are projected onto 3 eigenvectors, corresponding to 3 extreme eigenvalues of the feature matrix:", 
            "cell_type": "markdown", 
            "metadata": {}
        }, 
        {
            "execution_count": 17, 
            "cell_type": "code", 
            "metadata": {}, 
            "outputs": [
                {
                    "output_type": "stream", 
                    "name": "stdout", 
                    "text": "PCA explained variance: [0.90999021 0.0618724  0.01652114]\n"
                }
            ], 
            "source": "pca = decomposition.PCA(n_components=3)\npca.fit(X_train0)\nprint(\"PCA explained variance:\", pca.explained_variance_ratio_)\nX_train_PCA = pca.transform(X_train0)\nX_test_PCA = pca.transform(X_test0)"
        }, 
        {
            "source": "#### Polynomial Features\nIn order to capture nonlinear behavior of the model,  one can extend the basis set from x<sub>1</sub>, x<sub>2</sub>, x<sub>3</sub> to 1, x<sub>1</sub>, x<sub>1</sub><sup>2</sup>, x<sub>2</sub>, x<sub>2</sub><sup>2</sup>, x<sub>3</sub>, x<sub>3</sub><sup>2</sup>:", 
            "cell_type": "markdown", 
            "metadata": {}
        }, 
        {
            "execution_count": 18, 
            "cell_type": "code", 
            "metadata": {}, 
            "outputs": [], 
            "source": "FeatureSet = FeatureSetLongPerc50\nX, y = FeatureSet.drop(['CountyID', 'DiseaseR'], axis=1), FeatureSet['DiseaseR']\nX_train0, X_test0, y_train0, y_test0 = train_test_split(X, y, random_state=0)\n\n\npoly = PolynomialFeatures(2)\npoly.fit_transform(X_train0)\nX_train_UpToSquares = poly.transform(X_train0)\nX_test_UpToSquares = poly.transform(X_test0)"
        }, 
        {
            "source": "In order to treat potential interactions between the feature variables,  one can extend the basis set from x<sub>1</sub>, x<sub>2</sub>, x<sub>3</sub> to 1, x<sub>1</sub>, x<sub>2</sub>, x<sub>3</sub>, x<sup>1</sup>x<sub>2</sub>, x<sub>1</sub>x<sub>3</sub>, x<sub>2</sub>x<sub>3</sub>, x<sub>1</sub>x<sub>2</sub>x<sub>3</sub>:", 
            "cell_type": "markdown", 
            "metadata": {}
        }, 
        {
            "execution_count": 19, 
            "cell_type": "code", 
            "metadata": {}, 
            "outputs": [], 
            "source": "poly = PolynomialFeatures(degree=3, interaction_only=True)\npoly.fit_transform(X_train0)\nX_train_UpToCube = poly.transform(X_train0)\nX_test_UpToCube = poly.transform(X_test0)"
        }, 
        {
            "source": "#### Correlation matrix\nThe matrices with correlations between features can be plotted for both (Dense and Long) datasets:", 
            "cell_type": "markdown", 
            "metadata": {}
        }, 
        {
            "execution_count": 20, 
            "cell_type": "code", 
            "metadata": {}, 
            "outputs": [
                {
                    "execution_count": 20, 
                    "metadata": {}, 
                    "data": {
                        "text/html": "<style  type=\"text/css\" >\n    #T_d2f7b95e_bab8_11e9_91b6_e9aad492f51crow0_col0 {\n            background-color:  #b40426;\n            color:  #f1f1f1;\n        }    #T_d2f7b95e_bab8_11e9_91b6_e9aad492f51crow0_col1 {\n            background-color:  #536edd;\n            color:  #000000;\n        }    #T_d2f7b95e_bab8_11e9_91b6_e9aad492f51crow0_col2 {\n            background-color:  #5d7ce6;\n            color:  #000000;\n        }    #T_d2f7b95e_bab8_11e9_91b6_e9aad492f51crow0_col3 {\n            background-color:  #6180e9;\n            color:  #000000;\n        }    #T_d2f7b95e_bab8_11e9_91b6_e9aad492f51crow0_col4 {\n            background-color:  #5d7ce6;\n            color:  #000000;\n        }    #T_d2f7b95e_bab8_11e9_91b6_e9aad492f51crow0_col5 {\n            background-color:  #b7cff9;\n            color:  #000000;\n        }    #T_d2f7b95e_bab8_11e9_91b6_e9aad492f51crow0_col6 {\n            background-color:  #a7c5fe;\n            color:  #000000;\n        }    #T_d2f7b95e_bab8_11e9_91b6_e9aad492f51crow1_col0 {\n            background-color:  #5977e3;\n            color:  #000000;\n        }    #T_d2f7b95e_bab8_11e9_91b6_e9aad492f51crow1_col1 {\n            background-color:  #b40426;\n            color:  #f1f1f1;\n        }    #T_d2f7b95e_bab8_11e9_91b6_e9aad492f51crow1_col2 {\n            background-color:  #a9c6fd;\n            color:  #000000;\n        }    #T_d2f7b95e_bab8_11e9_91b6_e9aad492f51crow1_col3 {\n            background-color:  #bbd1f8;\n            color:  #000000;\n        }    #T_d2f7b95e_bab8_11e9_91b6_e9aad492f51crow1_col4 {\n            background-color:  #b1cbfc;\n            color:  #000000;\n        }    #T_d2f7b95e_bab8_11e9_91b6_e9aad492f51crow1_col5 {\n            background-color:  #8db0fe;\n            color:  #000000;\n        }    #T_d2f7b95e_bab8_11e9_91b6_e9aad492f51crow1_col6 {\n            background-color:  #b9d0f9;\n            color:  #000000;\n        }    #T_d2f7b95e_bab8_11e9_91b6_e9aad492f51crow2_col0 {\n            background-color:  #4358cb;\n            color:  #f1f1f1;\n        }    #T_d2f7b95e_bab8_11e9_91b6_e9aad492f51crow2_col1 {\n            background-color:  #8db0fe;\n            color:  #000000;\n        }    #T_d2f7b95e_bab8_11e9_91b6_e9aad492f51crow2_col2 {\n            background-color:  #b40426;\n            color:  #f1f1f1;\n        }    #T_d2f7b95e_bab8_11e9_91b6_e9aad492f51crow2_col3 {\n            background-color:  #bb1b2c;\n            color:  #f1f1f1;\n        }    #T_d2f7b95e_bab8_11e9_91b6_e9aad492f51crow2_col4 {\n            background-color:  #b40426;\n            color:  #f1f1f1;\n        }    #T_d2f7b95e_bab8_11e9_91b6_e9aad492f51crow2_col5 {\n            background-color:  #6f92f3;\n            color:  #000000;\n        }    #T_d2f7b95e_bab8_11e9_91b6_e9aad492f51crow2_col6 {\n            background-color:  #ee8669;\n            color:  #000000;\n        }    #T_d2f7b95e_bab8_11e9_91b6_e9aad492f51crow3_col0 {\n            background-color:  #3b4cc0;\n            color:  #f1f1f1;\n        }    #T_d2f7b95e_bab8_11e9_91b6_e9aad492f51crow3_col1 {\n            background-color:  #9abbff;\n            color:  #000000;\n        }    #T_d2f7b95e_bab8_11e9_91b6_e9aad492f51crow3_col2 {\n            background-color:  #bb1b2c;\n            color:  #f1f1f1;\n        }    #T_d2f7b95e_bab8_11e9_91b6_e9aad492f51crow3_col3 {\n            background-color:  #b40426;\n            color:  #f1f1f1;\n        }    #T_d2f7b95e_bab8_11e9_91b6_e9aad492f51crow3_col4 {\n            background-color:  #b70d28;\n            color:  #f1f1f1;\n        }    #T_d2f7b95e_bab8_11e9_91b6_e9aad492f51crow3_col5 {\n            background-color:  #6282ea;\n            color:  #000000;\n        }    #T_d2f7b95e_bab8_11e9_91b6_e9aad492f51crow3_col6 {\n            background-color:  #e7745b;\n            color:  #000000;\n        }    #T_d2f7b95e_bab8_11e9_91b6_e9aad492f51crow4_col0 {\n            background-color:  #3e51c5;\n            color:  #f1f1f1;\n        }    #T_d2f7b95e_bab8_11e9_91b6_e9aad492f51crow4_col1 {\n            background-color:  #94b6ff;\n            color:  #000000;\n        }    #T_d2f7b95e_bab8_11e9_91b6_e9aad492f51crow4_col2 {\n            background-color:  #b40426;\n            color:  #f1f1f1;\n        }    #T_d2f7b95e_bab8_11e9_91b6_e9aad492f51crow4_col3 {\n            background-color:  #b70d28;\n            color:  #f1f1f1;\n        }    #T_d2f7b95e_bab8_11e9_91b6_e9aad492f51crow4_col4 {\n            background-color:  #b40426;\n            color:  #f1f1f1;\n        }    #T_d2f7b95e_bab8_11e9_91b6_e9aad492f51crow4_col5 {\n            background-color:  #6a8bef;\n            color:  #000000;\n        }    #T_d2f7b95e_bab8_11e9_91b6_e9aad492f51crow4_col6 {\n            background-color:  #ec7f63;\n            color:  #000000;\n        }    #T_d2f7b95e_bab8_11e9_91b6_e9aad492f51crow5_col0 {\n            background-color:  #7597f6;\n            color:  #000000;\n        }    #T_d2f7b95e_bab8_11e9_91b6_e9aad492f51crow5_col1 {\n            background-color:  #3b4cc0;\n            color:  #f1f1f1;\n        }    #T_d2f7b95e_bab8_11e9_91b6_e9aad492f51crow5_col2 {\n            background-color:  #3b4cc0;\n            color:  #f1f1f1;\n        }    #T_d2f7b95e_bab8_11e9_91b6_e9aad492f51crow5_col3 {\n            background-color:  #3b4cc0;\n            color:  #f1f1f1;\n        }    #T_d2f7b95e_bab8_11e9_91b6_e9aad492f51crow5_col4 {\n            background-color:  #3b4cc0;\n            color:  #f1f1f1;\n        }    #T_d2f7b95e_bab8_11e9_91b6_e9aad492f51crow5_col5 {\n            background-color:  #b40426;\n            color:  #f1f1f1;\n        }    #T_d2f7b95e_bab8_11e9_91b6_e9aad492f51crow5_col6 {\n            background-color:  #3b4cc0;\n            color:  #f1f1f1;\n        }    #T_d2f7b95e_bab8_11e9_91b6_e9aad492f51crow6_col0 {\n            background-color:  #6180e9;\n            color:  #000000;\n        }    #T_d2f7b95e_bab8_11e9_91b6_e9aad492f51crow6_col1 {\n            background-color:  #7093f3;\n            color:  #000000;\n        }    #T_d2f7b95e_bab8_11e9_91b6_e9aad492f51crow6_col2 {\n            background-color:  #f4987a;\n            color:  #000000;\n        }    #T_d2f7b95e_bab8_11e9_91b6_e9aad492f51crow6_col3 {\n            background-color:  #ec7f63;\n            color:  #000000;\n        }    #T_d2f7b95e_bab8_11e9_91b6_e9aad492f51crow6_col4 {\n            background-color:  #f18d6f;\n            color:  #000000;\n        }    #T_d2f7b95e_bab8_11e9_91b6_e9aad492f51crow6_col5 {\n            background-color:  #3b4cc0;\n            color:  #f1f1f1;\n        }    #T_d2f7b95e_bab8_11e9_91b6_e9aad492f51crow6_col6 {\n            background-color:  #b40426;\n            color:  #f1f1f1;\n        }</style><table id=\"T_d2f7b95e_bab8_11e9_91b6_e9aad492f51c\" ><thead>    <tr>        <th class=\"blank level0\" ></th>        <th class=\"col_heading level0 col0\" >CountyID</th>        <th class=\"col_heading level0 col1\" >DiseaseR</th>        <th class=\"col_heading level0 col2\" >NO</th>        <th class=\"col_heading level0 col3\" >NO2</th>        <th class=\"col_heading level0 col4\" >NOx</th>        <th class=\"col_heading level0 col5\" >O3</th>        <th class=\"col_heading level0 col6\" >PM1</th>    </tr></thead><tbody>\n                <tr>\n                        <th id=\"T_d2f7b95e_bab8_11e9_91b6_e9aad492f51clevel0_row0\" class=\"row_heading level0 row0\" >CountyID</th>\n                        <td id=\"T_d2f7b95e_bab8_11e9_91b6_e9aad492f51crow0_col0\" class=\"data row0 col0\" >1</td>\n                        <td id=\"T_d2f7b95e_bab8_11e9_91b6_e9aad492f51crow0_col1\" class=\"data row0 col1\" >-0.120212</td>\n                        <td id=\"T_d2f7b95e_bab8_11e9_91b6_e9aad492f51crow0_col2\" class=\"data row0 col2\" >-0.204374</td>\n                        <td id=\"T_d2f7b95e_bab8_11e9_91b6_e9aad492f51crow0_col3\" class=\"data row0 col3\" >-0.241785</td>\n                        <td id=\"T_d2f7b95e_bab8_11e9_91b6_e9aad492f51crow0_col4\" class=\"data row0 col4\" >-0.223619</td>\n                        <td id=\"T_d2f7b95e_bab8_11e9_91b6_e9aad492f51crow0_col5\" class=\"data row0 col5\" >-0.0140099</td>\n                        <td id=\"T_d2f7b95e_bab8_11e9_91b6_e9aad492f51crow0_col6\" class=\"data row0 col6\" >-0.0907928</td>\n            </tr>\n            <tr>\n                        <th id=\"T_d2f7b95e_bab8_11e9_91b6_e9aad492f51clevel0_row1\" class=\"row_heading level0 row1\" >DiseaseR</th>\n                        <td id=\"T_d2f7b95e_bab8_11e9_91b6_e9aad492f51crow1_col0\" class=\"data row1 col0\" >-0.120212</td>\n                        <td id=\"T_d2f7b95e_bab8_11e9_91b6_e9aad492f51crow1_col1\" class=\"data row1 col1\" >1</td>\n                        <td id=\"T_d2f7b95e_bab8_11e9_91b6_e9aad492f51crow1_col2\" class=\"data row1 col2\" >0.0914543</td>\n                        <td id=\"T_d2f7b95e_bab8_11e9_91b6_e9aad492f51crow1_col3\" class=\"data row1 col3\" >0.132045</td>\n                        <td id=\"T_d2f7b95e_bab8_11e9_91b6_e9aad492f51crow1_col4\" class=\"data row1 col4\" >0.11209</td>\n                        <td id=\"T_d2f7b95e_bab8_11e9_91b6_e9aad492f51crow1_col5\" class=\"data row1 col5\" >-0.216256</td>\n                        <td id=\"T_d2f7b95e_bab8_11e9_91b6_e9aad492f51crow1_col6\" class=\"data row1 col6\" >-0.00838124</td>\n            </tr>\n            <tr>\n                        <th id=\"T_d2f7b95e_bab8_11e9_91b6_e9aad492f51clevel0_row2\" class=\"row_heading level0 row2\" >NO</th>\n                        <td id=\"T_d2f7b95e_bab8_11e9_91b6_e9aad492f51crow2_col0\" class=\"data row2 col0\" >-0.204374</td>\n                        <td id=\"T_d2f7b95e_bab8_11e9_91b6_e9aad492f51crow2_col1\" class=\"data row2 col1\" >0.0914543</td>\n                        <td id=\"T_d2f7b95e_bab8_11e9_91b6_e9aad492f51crow2_col2\" class=\"data row2 col2\" >1</td>\n                        <td id=\"T_d2f7b95e_bab8_11e9_91b6_e9aad492f51crow2_col3\" class=\"data row2 col3\" >0.969169</td>\n                        <td id=\"T_d2f7b95e_bab8_11e9_91b6_e9aad492f51crow2_col4\" class=\"data row2 col4\" >0.99603</td>\n                        <td id=\"T_d2f7b95e_bab8_11e9_91b6_e9aad492f51crow2_col5\" class=\"data row2 col5\" >-0.352665</td>\n                        <td id=\"T_d2f7b95e_bab8_11e9_91b6_e9aad492f51crow2_col6\" class=\"data row2 col6\" >0.665337</td>\n            </tr>\n            <tr>\n                        <th id=\"T_d2f7b95e_bab8_11e9_91b6_e9aad492f51clevel0_row3\" class=\"row_heading level0 row3\" >NO2</th>\n                        <td id=\"T_d2f7b95e_bab8_11e9_91b6_e9aad492f51crow3_col0\" class=\"data row3 col0\" >-0.241785</td>\n                        <td id=\"T_d2f7b95e_bab8_11e9_91b6_e9aad492f51crow3_col1\" class=\"data row3 col1\" >0.132045</td>\n                        <td id=\"T_d2f7b95e_bab8_11e9_91b6_e9aad492f51crow3_col2\" class=\"data row3 col2\" >0.969169</td>\n                        <td id=\"T_d2f7b95e_bab8_11e9_91b6_e9aad492f51crow3_col3\" class=\"data row3 col3\" >1</td>\n                        <td id=\"T_d2f7b95e_bab8_11e9_91b6_e9aad492f51crow3_col4\" class=\"data row3 col4\" >0.986871</td>\n                        <td id=\"T_d2f7b95e_bab8_11e9_91b6_e9aad492f51crow3_col5\" class=\"data row3 col5\" >-0.413459</td>\n                        <td id=\"T_d2f7b95e_bab8_11e9_91b6_e9aad492f51crow3_col6\" class=\"data row3 col6\" >0.731455</td>\n            </tr>\n            <tr>\n                        <th id=\"T_d2f7b95e_bab8_11e9_91b6_e9aad492f51clevel0_row4\" class=\"row_heading level0 row4\" >NOx</th>\n                        <td id=\"T_d2f7b95e_bab8_11e9_91b6_e9aad492f51crow4_col0\" class=\"data row4 col0\" >-0.223619</td>\n                        <td id=\"T_d2f7b95e_bab8_11e9_91b6_e9aad492f51crow4_col1\" class=\"data row4 col1\" >0.11209</td>\n                        <td id=\"T_d2f7b95e_bab8_11e9_91b6_e9aad492f51crow4_col2\" class=\"data row4 col2\" >0.99603</td>\n                        <td id=\"T_d2f7b95e_bab8_11e9_91b6_e9aad492f51crow4_col3\" class=\"data row4 col3\" >0.986871</td>\n                        <td id=\"T_d2f7b95e_bab8_11e9_91b6_e9aad492f51crow4_col4\" class=\"data row4 col4\" >1</td>\n                        <td id=\"T_d2f7b95e_bab8_11e9_91b6_e9aad492f51crow4_col5\" class=\"data row4 col5\" >-0.37688</td>\n                        <td id=\"T_d2f7b95e_bab8_11e9_91b6_e9aad492f51crow4_col6\" class=\"data row4 col6\" >0.694772</td>\n            </tr>\n            <tr>\n                        <th id=\"T_d2f7b95e_bab8_11e9_91b6_e9aad492f51clevel0_row5\" class=\"row_heading level0 row5\" >O3</th>\n                        <td id=\"T_d2f7b95e_bab8_11e9_91b6_e9aad492f51crow5_col0\" class=\"data row5 col0\" >-0.0140099</td>\n                        <td id=\"T_d2f7b95e_bab8_11e9_91b6_e9aad492f51crow5_col1\" class=\"data row5 col1\" >-0.216256</td>\n                        <td id=\"T_d2f7b95e_bab8_11e9_91b6_e9aad492f51crow5_col2\" class=\"data row5 col2\" >-0.352665</td>\n                        <td id=\"T_d2f7b95e_bab8_11e9_91b6_e9aad492f51crow5_col3\" class=\"data row5 col3\" >-0.413459</td>\n                        <td id=\"T_d2f7b95e_bab8_11e9_91b6_e9aad492f51crow5_col4\" class=\"data row5 col4\" >-0.37688</td>\n                        <td id=\"T_d2f7b95e_bab8_11e9_91b6_e9aad492f51crow5_col5\" class=\"data row5 col5\" >1</td>\n                        <td id=\"T_d2f7b95e_bab8_11e9_91b6_e9aad492f51crow5_col6\" class=\"data row5 col6\" >-0.622261</td>\n            </tr>\n            <tr>\n                        <th id=\"T_d2f7b95e_bab8_11e9_91b6_e9aad492f51clevel0_row6\" class=\"row_heading level0 row6\" >PM1</th>\n                        <td id=\"T_d2f7b95e_bab8_11e9_91b6_e9aad492f51crow6_col0\" class=\"data row6 col0\" >-0.0907928</td>\n                        <td id=\"T_d2f7b95e_bab8_11e9_91b6_e9aad492f51crow6_col1\" class=\"data row6 col1\" >-0.00838124</td>\n                        <td id=\"T_d2f7b95e_bab8_11e9_91b6_e9aad492f51crow6_col2\" class=\"data row6 col2\" >0.665337</td>\n                        <td id=\"T_d2f7b95e_bab8_11e9_91b6_e9aad492f51crow6_col3\" class=\"data row6 col3\" >0.731455</td>\n                        <td id=\"T_d2f7b95e_bab8_11e9_91b6_e9aad492f51crow6_col4\" class=\"data row6 col4\" >0.694772</td>\n                        <td id=\"T_d2f7b95e_bab8_11e9_91b6_e9aad492f51crow6_col5\" class=\"data row6 col5\" >-0.622261</td>\n                        <td id=\"T_d2f7b95e_bab8_11e9_91b6_e9aad492f51crow6_col6\" class=\"data row6 col6\" >1</td>\n            </tr>\n    </tbody></table>", 
                        "text/plain": "<pandas.io.formats.style.Styler at 0x7fa2744f44e0>"
                    }, 
                    "output_type": "execute_result"
                }
            ], 
            "source": "corr = FeatureSetDensePerc75.corr()\ncorr.style.background_gradient(cmap='coolwarm')"
        }, 
        {
            "execution_count": 21, 
            "cell_type": "code", 
            "metadata": {}, 
            "outputs": [
                {
                    "execution_count": 21, 
                    "metadata": {}, 
                    "data": {
                        "text/html": "<style  type=\"text/css\" >\n    #T_d303818a_bab8_11e9_91b6_e9aad492f51crow0_col0 {\n            background-color:  #b40426;\n            color:  #f1f1f1;\n        }    #T_d303818a_bab8_11e9_91b6_e9aad492f51crow0_col1 {\n            background-color:  #3b4cc0;\n            color:  #f1f1f1;\n        }    #T_d303818a_bab8_11e9_91b6_e9aad492f51crow0_col2 {\n            background-color:  #3b4cc0;\n            color:  #f1f1f1;\n        }    #T_d303818a_bab8_11e9_91b6_e9aad492f51crow0_col3 {\n            background-color:  #3b4cc0;\n            color:  #f1f1f1;\n        }    #T_d303818a_bab8_11e9_91b6_e9aad492f51crow0_col4 {\n            background-color:  #3b4cc0;\n            color:  #f1f1f1;\n        }    #T_d303818a_bab8_11e9_91b6_e9aad492f51crow1_col0 {\n            background-color:  #5a78e4;\n            color:  #000000;\n        }    #T_d303818a_bab8_11e9_91b6_e9aad492f51crow1_col1 {\n            background-color:  #b40426;\n            color:  #f1f1f1;\n        }    #T_d303818a_bab8_11e9_91b6_e9aad492f51crow1_col2 {\n            background-color:  #a6c4fe;\n            color:  #000000;\n        }    #T_d303818a_bab8_11e9_91b6_e9aad492f51crow1_col3 {\n            background-color:  #b3cdfb;\n            color:  #000000;\n        }    #T_d303818a_bab8_11e9_91b6_e9aad492f51crow1_col4 {\n            background-color:  #6282ea;\n            color:  #000000;\n        }    #T_d303818a_bab8_11e9_91b6_e9aad492f51crow2_col0 {\n            background-color:  #3e51c5;\n            color:  #f1f1f1;\n        }    #T_d303818a_bab8_11e9_91b6_e9aad492f51crow2_col1 {\n            background-color:  #8db0fe;\n            color:  #000000;\n        }    #T_d303818a_bab8_11e9_91b6_e9aad492f51crow2_col2 {\n            background-color:  #b40426;\n            color:  #f1f1f1;\n        }    #T_d303818a_bab8_11e9_91b6_e9aad492f51crow2_col3 {\n            background-color:  #bd1f2d;\n            color:  #f1f1f1;\n        }    #T_d303818a_bab8_11e9_91b6_e9aad492f51crow2_col4 {\n            background-color:  #f39475;\n            color:  #000000;\n        }    #T_d303818a_bab8_11e9_91b6_e9aad492f51crow3_col0 {\n            background-color:  #3b4cc0;\n            color:  #f1f1f1;\n        }    #T_d303818a_bab8_11e9_91b6_e9aad492f51crow3_col1 {\n            background-color:  #9abbff;\n            color:  #000000;\n        }    #T_d303818a_bab8_11e9_91b6_e9aad492f51crow3_col2 {\n            background-color:  #bd1f2d;\n            color:  #f1f1f1;\n        }    #T_d303818a_bab8_11e9_91b6_e9aad492f51crow3_col3 {\n            background-color:  #b40426;\n            color:  #f1f1f1;\n        }    #T_d303818a_bab8_11e9_91b6_e9aad492f51crow3_col4 {\n            background-color:  #f08a6c;\n            color:  #000000;\n        }    #T_d303818a_bab8_11e9_91b6_e9aad492f51crow4_col0 {\n            background-color:  #6180e9;\n            color:  #000000;\n        }    #T_d303818a_bab8_11e9_91b6_e9aad492f51crow4_col1 {\n            background-color:  #688aef;\n            color:  #000000;\n        }    #T_d303818a_bab8_11e9_91b6_e9aad492f51crow4_col2 {\n            background-color:  #ef886b;\n            color:  #000000;\n        }    #T_d303818a_bab8_11e9_91b6_e9aad492f51crow4_col3 {\n            background-color:  #eb7d62;\n            color:  #000000;\n        }    #T_d303818a_bab8_11e9_91b6_e9aad492f51crow4_col4 {\n            background-color:  #b40426;\n            color:  #f1f1f1;\n        }</style><table id=\"T_d303818a_bab8_11e9_91b6_e9aad492f51c\" ><thead>    <tr>        <th class=\"blank level0\" ></th>        <th class=\"col_heading level0 col0\" >CountyID</th>        <th class=\"col_heading level0 col1\" >DiseaseR</th>        <th class=\"col_heading level0 col2\" >NO</th>        <th class=\"col_heading level0 col3\" >NO2</th>        <th class=\"col_heading level0 col4\" >PM1</th>    </tr></thead><tbody>\n                <tr>\n                        <th id=\"T_d303818a_bab8_11e9_91b6_e9aad492f51clevel0_row0\" class=\"row_heading level0 row0\" >CountyID</th>\n                        <td id=\"T_d303818a_bab8_11e9_91b6_e9aad492f51crow0_col0\" class=\"data row0 col0\" >1</td>\n                        <td id=\"T_d303818a_bab8_11e9_91b6_e9aad492f51crow0_col1\" class=\"data row0 col1\" >-0.22302</td>\n                        <td id=\"T_d303818a_bab8_11e9_91b6_e9aad492f51crow0_col2\" class=\"data row0 col2\" >-0.344179</td>\n                        <td id=\"T_d303818a_bab8_11e9_91b6_e9aad492f51crow0_col3\" class=\"data row0 col3\" >-0.362879</td>\n                        <td id=\"T_d303818a_bab8_11e9_91b6_e9aad492f51crow0_col4\" class=\"data row0 col4\" >-0.194311</td>\n            </tr>\n            <tr>\n                        <th id=\"T_d303818a_bab8_11e9_91b6_e9aad492f51clevel0_row1\" class=\"row_heading level0 row1\" >DiseaseR</th>\n                        <td id=\"T_d303818a_bab8_11e9_91b6_e9aad492f51crow1_col0\" class=\"data row1 col0\" >-0.22302</td>\n                        <td id=\"T_d303818a_bab8_11e9_91b6_e9aad492f51crow1_col1\" class=\"data row1 col1\" >1</td>\n                        <td id=\"T_d303818a_bab8_11e9_91b6_e9aad492f51crow1_col2\" class=\"data row1 col2\" >0.0869107</td>\n                        <td id=\"T_d303818a_bab8_11e9_91b6_e9aad492f51crow1_col3\" class=\"data row1 col3\" >0.13016</td>\n                        <td id=\"T_d303818a_bab8_11e9_91b6_e9aad492f51crow1_col4\" class=\"data row1 col4\" >-0.0434655</td>\n            </tr>\n            <tr>\n                        <th id=\"T_d303818a_bab8_11e9_91b6_e9aad492f51clevel0_row2\" class=\"row_heading level0 row2\" >NO</th>\n                        <td id=\"T_d303818a_bab8_11e9_91b6_e9aad492f51crow2_col0\" class=\"data row2 col0\" >-0.344179</td>\n                        <td id=\"T_d303818a_bab8_11e9_91b6_e9aad492f51crow2_col1\" class=\"data row2 col1\" >0.0869107</td>\n                        <td id=\"T_d303818a_bab8_11e9_91b6_e9aad492f51crow2_col2\" class=\"data row2 col2\" >1</td>\n                        <td id=\"T_d303818a_bab8_11e9_91b6_e9aad492f51crow2_col3\" class=\"data row2 col3\" >0.967557</td>\n                        <td id=\"T_d303818a_bab8_11e9_91b6_e9aad492f51crow2_col4\" class=\"data row2 col4\" >0.71683</td>\n            </tr>\n            <tr>\n                        <th id=\"T_d303818a_bab8_11e9_91b6_e9aad492f51clevel0_row3\" class=\"row_heading level0 row3\" >NO2</th>\n                        <td id=\"T_d303818a_bab8_11e9_91b6_e9aad492f51crow3_col0\" class=\"data row3 col0\" >-0.362879</td>\n                        <td id=\"T_d303818a_bab8_11e9_91b6_e9aad492f51crow3_col1\" class=\"data row3 col1\" >0.13016</td>\n                        <td id=\"T_d303818a_bab8_11e9_91b6_e9aad492f51crow3_col2\" class=\"data row3 col2\" >0.967557</td>\n                        <td id=\"T_d303818a_bab8_11e9_91b6_e9aad492f51crow3_col3\" class=\"data row3 col3\" >1</td>\n                        <td id=\"T_d303818a_bab8_11e9_91b6_e9aad492f51crow3_col4\" class=\"data row3 col4\" >0.745844</td>\n            </tr>\n            <tr>\n                        <th id=\"T_d303818a_bab8_11e9_91b6_e9aad492f51clevel0_row4\" class=\"row_heading level0 row4\" >PM1</th>\n                        <td id=\"T_d303818a_bab8_11e9_91b6_e9aad492f51crow4_col0\" class=\"data row4 col0\" >-0.194311</td>\n                        <td id=\"T_d303818a_bab8_11e9_91b6_e9aad492f51crow4_col1\" class=\"data row4 col1\" >-0.0434655</td>\n                        <td id=\"T_d303818a_bab8_11e9_91b6_e9aad492f51crow4_col2\" class=\"data row4 col2\" >0.71683</td>\n                        <td id=\"T_d303818a_bab8_11e9_91b6_e9aad492f51crow4_col3\" class=\"data row4 col3\" >0.745844</td>\n                        <td id=\"T_d303818a_bab8_11e9_91b6_e9aad492f51crow4_col4\" class=\"data row4 col4\" >1</td>\n            </tr>\n    </tbody></table>", 
                        "text/plain": "<pandas.io.formats.style.Styler at 0x7fa199932dd8>"
                    }, 
                    "output_type": "execute_result"
                }
            ], 
            "source": "corr = FeatureSetLongPerc75.corr()\ncorr.style.background_gradient(cmap='coolwarm')"
        }, 
        {
            "source": "It becomes clear, that the concentrations of different nitrogen oxides are highly correlated.\nSo, additional features engineering (e.g. polynomial) would be favorable w.r.t. keeping all the oxide's measurements.", 
            "cell_type": "markdown", 
            "metadata": {}
        }, 
        {
            "execution_count": null, 
            "cell_type": "code", 
            "metadata": {}, 
            "outputs": [], 
            "source": ""
        }
    ], 
    "metadata": {
        "kernelspec": {
            "display_name": "Python 3.6", 
            "name": "python3", 
            "language": "python"
        }, 
        "language_info": {
            "mimetype": "text/x-python", 
            "nbconvert_exporter": "python", 
            "version": "3.6.8", 
            "name": "python", 
            "file_extension": ".py", 
            "pygments_lexer": "ipython3", 
            "codemirror_mode": {
                "version": 3, 
                "name": "ipython"
            }
        }
    }, 
    "nbformat": 4
}