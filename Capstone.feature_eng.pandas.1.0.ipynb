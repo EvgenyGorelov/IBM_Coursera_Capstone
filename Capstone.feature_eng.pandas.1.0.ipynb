{
 "cells": [
  {
   "cell_type": "markdown",
   "metadata": {
    "collapsed": true
   },
   "source": [
    "\n",
    "# Advanced Data Science Capstone\n",
    "\n",
    "## Correlation of air pollution and Prevalence of Heart failures in Germany  \n",
    "\n",
    "## Feature Creation and Feature engineering"
   ]
  },
  {
   "cell_type": "markdown",
   "metadata": {},
   "source": [
    "### The deliverables\n",
    "The deliverables of the current stage:\n",
    "\n",
    " - Pandas dataframe with disease prevalence column(s), county id, and some features extracted from air pollution data series for sensors located in corresponding county\n",
    "\n",
    "###  Feature creation\n",
    "The basic features for air pollution levels are\n",
    "\n",
    " - Number of hours when pollutant concentration exceeded some certain value\n",
    " - Mean or Median concentration of the pollutant\n",
    " \n",
    "###  Feature quality check\n",
    "\n",
    " - Feature variance\n",
    " - Feature cross-correlation matrix\n",
    " \n",
    " First of all the necessary libraries and the datasets preprocessed at the ETL stage loaded:"
   ]
  },
  {
   "cell_type": "code",
   "execution_count": 316,
   "metadata": {},
   "outputs": [],
   "source": [
    "# Libraries:\n",
    "import pandas as pd\n",
    "import numpy as np\n",
    "import matplotlib.pyplot as plt\n",
    "import re\n"
   ]
  },
  {
   "cell_type": "code",
   "execution_count": 317,
   "metadata": {},
   "outputs": [],
   "source": [
    "# Files:\n",
    "SensorLocation = pd.read_csv('Capstone.ETL/Capstone.etl.SensorLocationCSV.1.0.csv')\n",
    "dfHeart = pd.read_csv('Capstone.ETL/Capstone.etl.dfHeartCSV.1.0.csv')\n",
    "dffAll = pd.read_csv('Capstone.ETL/Capstone.etl.wideCSV.1.0.gzip', compression='gzip', index_col=None)"
   ]
  },
  {
   "cell_type": "markdown",
   "metadata": {},
   "source": [
    "###  Feature creation\n",
    "\n",
    "Now let's create some basic features, illustrating some integral quantities of air pollution over the year.\n",
    "For the start the following features will be generated:\n",
    " - Average concentration of every kind of pollutant over the year (average over all sensors within the county)\n",
    " - 75th percentile of every kind pollutant over the year, that is also proportional to the number of days when pollutant concentration exceeded some certain value\n",
    "\n",
    "#### Mean pollutant concentration over the year\n",
    "The quantity can be straightforward extracted using *.describe()* method of the dataframe:"
   ]
  },
  {
   "cell_type": "code",
   "execution_count": 336,
   "metadata": {},
   "outputs": [],
   "source": [
    "dffAllSummary=dffAll.describe()\n",
    "\n",
    "def MeanByPollutantCountyID(Pollutant, CountyID):\n",
    "    PollutantMasc='^.{8}' + Pollutant + '_'\n",
    "# collecting set of all sensors in the given county:    \n",
    "    CountyStationSet = SensorLocation.loc[SensorLocation['countyid']==CountyID]['SensorID'].tolist()\n",
    "    if CountyStationSet == []:\n",
    "        return(np.nan)\n",
    "    try:\n",
    "        dffAllPollutantCountyID = dffAllSummary[[col for col in dffAllSummary.columns if re.search('(^.{7})',col).group(1) in CountyStationSet]].filter(regex=PollutantMasc,axis=1)\n",
    "        return(dffAllPollutantCountyID.loc[['mean']].mean(axis=1))\n",
    "    except:    \n",
    "        return(np.nan)\n"
   ]
  },
  {
   "cell_type": "code",
   "execution_count": 337,
   "metadata": {},
   "outputs": [],
   "source": [
    "ListOfPollutants = ['CO','NO','NO2','NOx','O3','PM1','PM2', 'PM10', 'SO2', 'CHB', 'CH4', 'C8H10', 'CHT', 'CO2']\n",
    "\n",
    "for pollutant in ListOfPollutants:\n",
    "    ColIndex=pollutant+'mean'\n",
    "    dfHeart[ColIndex] =dfHeart.apply(lambda x: MeanByPollutantCountyID(pollutant, x['Regions-ID']), axis=1)"
   ]
  },
  {
   "cell_type": "code",
   "execution_count": 338,
   "metadata": {},
   "outputs": [
    {
     "data": {
      "text/plain": [
       "Region          0\n",
       "Regions-ID      0\n",
       "KV              0\n",
       "Kreistyp        0\n",
       "Wert            0\n",
       "Bundeswert      0\n",
       "COmean        336\n",
       "NOmean        187\n",
       "NO2mean       186\n",
       "NOxmean       213\n",
       "O3mean        208\n",
       "PM1mean       197\n",
       "PM2mean       300\n",
       "PM10mean      402\n",
       "SO2mean       315\n",
       "CHBmean       385\n",
       "CH4mean       392\n",
       "C8H10mean     399\n",
       "CHTmean       385\n",
       "CO2mean       396\n",
       "dtype: int64"
      ]
     },
     "execution_count": 338,
     "metadata": {},
     "output_type": "execute_result"
    }
   ],
   "source": [
    "#dfHeart.head(53)\n",
    "dfHeart.isna().sum()"
   ]
  },
  {
   "cell_type": "markdown",
   "metadata": {},
   "source": [
    "From the table above one can see, that only 5 pollutants (*NO, NO2, NOx, O3, PM1*) were measured in about a half of german counties (total number of counties mentioned in the *heart failures* dataset is 402). Let's take a look, in how many counties all 6 pollutants were measured simultaneously:"
   ]
  },
  {
   "cell_type": "code",
   "execution_count": 339,
   "metadata": {},
   "outputs": [],
   "source": [
    "FeatureSetDenseMean = dfHeart[['Regions-ID','Wert','NOmean','NO2mean','NOxmean','O3mean','PM1mean']].dropna().reset_index(drop=True)\n",
    "FeatureSetDenseMean.columns=['CountyID','HeartFailR','NOmean','NO2mean','NOxmean','O3mean','PM1mean']"
   ]
  },
  {
   "cell_type": "code",
   "execution_count": 340,
   "metadata": {},
   "outputs": [
    {
     "data": {
      "text/html": [
       "<div>\n",
       "<style scoped>\n",
       "    .dataframe tbody tr th:only-of-type {\n",
       "        vertical-align: middle;\n",
       "    }\n",
       "\n",
       "    .dataframe tbody tr th {\n",
       "        vertical-align: top;\n",
       "    }\n",
       "\n",
       "    .dataframe thead th {\n",
       "        text-align: right;\n",
       "    }\n",
       "</style>\n",
       "<table border=\"1\" class=\"dataframe\">\n",
       "  <thead>\n",
       "    <tr style=\"text-align: right;\">\n",
       "      <th></th>\n",
       "      <th>CountyID</th>\n",
       "      <th>HeartFailR</th>\n",
       "      <th>NOmean</th>\n",
       "      <th>NO2mean</th>\n",
       "      <th>NOxmean</th>\n",
       "      <th>O3mean</th>\n",
       "      <th>PM1mean</th>\n",
       "    </tr>\n",
       "  </thead>\n",
       "  <tbody>\n",
       "    <tr>\n",
       "      <th>count</th>\n",
       "      <td>144.000000</td>\n",
       "      <td>144.000000</td>\n",
       "      <td>144.000000</td>\n",
       "      <td>144.000000</td>\n",
       "      <td>144.000000</td>\n",
       "      <td>144.000000</td>\n",
       "      <td>144.000000</td>\n",
       "    </tr>\n",
       "    <tr>\n",
       "      <th>mean</th>\n",
       "      <td>8910.180556</td>\n",
       "      <td>3.216597</td>\n",
       "      <td>10.451816</td>\n",
       "      <td>18.664292</td>\n",
       "      <td>33.863397</td>\n",
       "      <td>48.741819</td>\n",
       "      <td>16.313968</td>\n",
       "    </tr>\n",
       "    <tr>\n",
       "      <th>std</th>\n",
       "      <td>4487.436430</td>\n",
       "      <td>1.031290</td>\n",
       "      <td>10.155415</td>\n",
       "      <td>10.028704</td>\n",
       "      <td>25.147107</td>\n",
       "      <td>8.196358</td>\n",
       "      <td>3.277536</td>\n",
       "    </tr>\n",
       "    <tr>\n",
       "      <th>min</th>\n",
       "      <td>1003.000000</td>\n",
       "      <td>1.500000</td>\n",
       "      <td>0.289135</td>\n",
       "      <td>4.256108</td>\n",
       "      <td>2.356005</td>\n",
       "      <td>33.445765</td>\n",
       "      <td>7.480554</td>\n",
       "    </tr>\n",
       "    <tr>\n",
       "      <th>25%</th>\n",
       "      <td>5329.500000</td>\n",
       "      <td>2.545000</td>\n",
       "      <td>2.105451</td>\n",
       "      <td>9.795802</td>\n",
       "      <td>12.781112</td>\n",
       "      <td>43.053047</td>\n",
       "      <td>14.178934</td>\n",
       "    </tr>\n",
       "    <tr>\n",
       "      <th>50%</th>\n",
       "      <td>7314.500000</td>\n",
       "      <td>2.995000</td>\n",
       "      <td>6.319397</td>\n",
       "      <td>16.191621</td>\n",
       "      <td>26.157668</td>\n",
       "      <td>47.696601</td>\n",
       "      <td>16.410147</td>\n",
       "    </tr>\n",
       "    <tr>\n",
       "      <th>75%</th>\n",
       "      <td>13071.250000</td>\n",
       "      <td>3.632500</td>\n",
       "      <td>16.390253</td>\n",
       "      <td>26.398841</td>\n",
       "      <td>49.249128</td>\n",
       "      <td>52.295473</td>\n",
       "      <td>18.590476</td>\n",
       "    </tr>\n",
       "    <tr>\n",
       "      <th>max</th>\n",
       "      <td>16077.000000</td>\n",
       "      <td>6.160000</td>\n",
       "      <td>39.808819</td>\n",
       "      <td>42.477908</td>\n",
       "      <td>100.943063</td>\n",
       "      <td>71.032766</td>\n",
       "      <td>23.129197</td>\n",
       "    </tr>\n",
       "  </tbody>\n",
       "</table>\n",
       "</div>"
      ],
      "text/plain": [
       "           CountyID  HeartFailR      NOmean     NO2mean     NOxmean  \\\n",
       "count    144.000000  144.000000  144.000000  144.000000  144.000000   \n",
       "mean    8910.180556    3.216597   10.451816   18.664292   33.863397   \n",
       "std     4487.436430    1.031290   10.155415   10.028704   25.147107   \n",
       "min     1003.000000    1.500000    0.289135    4.256108    2.356005   \n",
       "25%     5329.500000    2.545000    2.105451    9.795802   12.781112   \n",
       "50%     7314.500000    2.995000    6.319397   16.191621   26.157668   \n",
       "75%    13071.250000    3.632500   16.390253   26.398841   49.249128   \n",
       "max    16077.000000    6.160000   39.808819   42.477908  100.943063   \n",
       "\n",
       "           O3mean     PM1mean  \n",
       "count  144.000000  144.000000  \n",
       "mean    48.741819   16.313968  \n",
       "std      8.196358    3.277536  \n",
       "min     33.445765    7.480554  \n",
       "25%     43.053047   14.178934  \n",
       "50%     47.696601   16.410147  \n",
       "75%     52.295473   18.590476  \n",
       "max     71.032766   23.129197  "
      ]
     },
     "execution_count": 340,
     "metadata": {},
     "output_type": "execute_result"
    }
   ],
   "source": [
    "FeatureSetDenseMean.describe()"
   ]
  },
  {
   "cell_type": "markdown",
   "metadata": {},
   "source": [
    "From the table above one can conclude, that despite only about a third of german counties are included into the **FeatureSetDense** dataset, all the measured quantities have good variability. In order to illustrate it, the histograms are plotted:"
   ]
  },
  {
   "cell_type": "code",
   "execution_count": 341,
   "metadata": {},
   "outputs": [
    {
     "data": {
      "image/png": "[encoded data removed]",
      "text/plain": [
       "<Figure size 432x288 with 6 Axes>"
      ]
     },
     "metadata": {
      "needs_background": "light"
     },
     "output_type": "display_data"
    }
   ],
   "source": [
    "FeatureSetDenseMean.hist(column=['NOmean','NO2mean','NOxmean','O3mean','PM1mean']);"
   ]
  },
  {
   "cell_type": "markdown",
   "metadata": {},
   "source": [
    "We can also maximize number of counties in the dataset, removing 2 of 5 pollutants. It is found, that for the current dataset it will lead to increase of observations up to 199, almost a half of the counties:"
   ]
  },
  {
   "cell_type": "code",
   "execution_count": 342,
   "metadata": {},
   "outputs": [
    {
     "data": {
      "text/html": [
       "<div>\n",
       "<style scoped>\n",
       "    .dataframe tbody tr th:only-of-type {\n",
       "        vertical-align: middle;\n",
       "    }\n",
       "\n",
       "    .dataframe tbody tr th {\n",
       "        vertical-align: top;\n",
       "    }\n",
       "\n",
       "    .dataframe thead th {\n",
       "        text-align: right;\n",
       "    }\n",
       "</style>\n",
       "<table border=\"1\" class=\"dataframe\">\n",
       "  <thead>\n",
       "    <tr style=\"text-align: right;\">\n",
       "      <th></th>\n",
       "      <th>CountyID</th>\n",
       "      <th>HeartFailR</th>\n",
       "      <th>NOmean</th>\n",
       "      <th>NO2mean</th>\n",
       "      <th>PM1mean</th>\n",
       "    </tr>\n",
       "  </thead>\n",
       "  <tbody>\n",
       "    <tr>\n",
       "      <th>count</th>\n",
       "      <td>199.000000</td>\n",
       "      <td>199.000000</td>\n",
       "      <td>199.000000</td>\n",
       "      <td>199.000000</td>\n",
       "      <td>199.000000</td>\n",
       "    </tr>\n",
       "    <tr>\n",
       "      <th>mean</th>\n",
       "      <td>8718.924623</td>\n",
       "      <td>3.110101</td>\n",
       "      <td>13.009667</td>\n",
       "      <td>21.039965</td>\n",
       "      <td>16.777042</td>\n",
       "    </tr>\n",
       "    <tr>\n",
       "      <th>std</th>\n",
       "      <td>4126.990729</td>\n",
       "      <td>0.977749</td>\n",
       "      <td>12.702115</td>\n",
       "      <td>10.630969</td>\n",
       "      <td>3.299534</td>\n",
       "    </tr>\n",
       "    <tr>\n",
       "      <th>min</th>\n",
       "      <td>1001.000000</td>\n",
       "      <td>1.500000</td>\n",
       "      <td>0.289135</td>\n",
       "      <td>4.256108</td>\n",
       "      <td>7.480554</td>\n",
       "    </tr>\n",
       "    <tr>\n",
       "      <th>25%</th>\n",
       "      <td>5558.000000</td>\n",
       "      <td>2.470000</td>\n",
       "      <td>2.980229</td>\n",
       "      <td>12.436634</td>\n",
       "      <td>15.136554</td>\n",
       "    </tr>\n",
       "    <tr>\n",
       "      <th>50%</th>\n",
       "      <td>8211.000000</td>\n",
       "      <td>2.850000</td>\n",
       "      <td>9.598045</td>\n",
       "      <td>20.293349</td>\n",
       "      <td>16.868519</td>\n",
       "    </tr>\n",
       "    <tr>\n",
       "      <th>75%</th>\n",
       "      <td>12064.500000</td>\n",
       "      <td>3.480000</td>\n",
       "      <td>19.242869</td>\n",
       "      <td>28.149118</td>\n",
       "      <td>18.813398</td>\n",
       "    </tr>\n",
       "    <tr>\n",
       "      <th>max</th>\n",
       "      <td>16077.000000</td>\n",
       "      <td>6.160000</td>\n",
       "      <td>74.765378</td>\n",
       "      <td>56.669541</td>\n",
       "      <td>28.322063</td>\n",
       "    </tr>\n",
       "  </tbody>\n",
       "</table>\n",
       "</div>"
      ],
      "text/plain": [
       "           CountyID  HeartFailR      NOmean     NO2mean     PM1mean\n",
       "count    199.000000  199.000000  199.000000  199.000000  199.000000\n",
       "mean    8718.924623    3.110101   13.009667   21.039965   16.777042\n",
       "std     4126.990729    0.977749   12.702115   10.630969    3.299534\n",
       "min     1001.000000    1.500000    0.289135    4.256108    7.480554\n",
       "25%     5558.000000    2.470000    2.980229   12.436634   15.136554\n",
       "50%     8211.000000    2.850000    9.598045   20.293349   16.868519\n",
       "75%    12064.500000    3.480000   19.242869   28.149118   18.813398\n",
       "max    16077.000000    6.160000   74.765378   56.669541   28.322063"
      ]
     },
     "execution_count": 342,
     "metadata": {},
     "output_type": "execute_result"
    }
   ],
   "source": [
    "FeatureSetLongMean = dfHeart[['Regions-ID','Wert','NOmean','NO2mean','PM1mean']].dropna().reset_index(drop=True)\n",
    "FeatureSetLongMean.columns=['CountyID','HeartFailR','NOmean','NO2mean','PM1mean']\n",
    "FeatureSetLongMean.describe()"
   ]
  },
  {
   "cell_type": "markdown",
   "metadata": {},
   "source": [
    "#### Quantile-based features\n",
    "Constructing the global distribution of selected pollutant concentration over all counties of interest,\n",
    "one can find e.g. 75th quantile of this pollutant concentration distribution, \n",
    "and than count number of hours, when this concentration was exceeded in each county.\n",
    "This quantity is some generalization of the *\"number of days when the pollutant limit has been exceeded\"* quantity, because it tune itself to pollution levels available in the dataset."
   ]
  },
  {
   "cell_type": "code",
   "execution_count": 343,
   "metadata": {},
   "outputs": [],
   "source": [
    "# Function for Croppind of initial dffAll dataset to columns reflecting measurements \n",
    "# of pollutants in ListOfPollutants at counties in ListOfCountyIDs:\n",
    "def CropPollutantsIDsTS(ListOfPollutants, ListOfCountyIDs):\n",
    "    CountyStationSet=[]\n",
    "    dffAllCrop=pd.DataFrame(dffAll['observation_period'])\n",
    "\n",
    "    for CountyID in ListOfCountyIDs:\n",
    "        CountyStationSet.extend(SensorLocation.loc[SensorLocation['countyid']==CountyID]['SensorID'].tolist())\n",
    "    for Pollutant in ListOfPollutants:\n",
    "        PollutantMasc='^.{8}' + Pollutant + '_' \n",
    "        dffAllCrop=dffAllCrop.join(dffAll[[col for col in dffAll.columns if re.search('(^.{7})',col).group(1) in CountyStationSet]].filter(regex=PollutantMasc,axis=1))\n",
    "    return(dffAllCrop)\n",
    "\n",
    "# Function for calculating Nth percentiles for pollutants in ListOfPollutants at counties in ListOfCountyIDs:\n",
    "def ReturnNthPercentilePollutantsIDsTS(Percentile, ListOfPollutants, ListOfCountyIDs):\n",
    "    CountyStationSet=[]\n",
    "    NthPercentile=pd.DataFrame()\n",
    "\n",
    "    for CountyID in ListOfCountyIDs:\n",
    "        CountyStationSet.extend(SensorLocation.loc[SensorLocation['countyid']==CountyID]['SensorID'].tolist())\n",
    "    for Pollutant in ListOfPollutants:\n",
    "        PollutantMasc='^.{8}' + Pollutant + '_'\n",
    "        NthPercentile[Pollutant] = [(dffAll[[col for col in dffAll.columns if re.search('(^.{7})',col).group(1) in CountyStationSet]].filter(regex=PollutantMasc,axis=1)).stack().reset_index(drop=True).quantile(Percentile/100.0)]\n",
    "    return(NthPercentile)\n",
    "\n",
    "# Function for calculating Feature matrix, containing average (over sensors) number of hours for each county, when pollutant concentration\n",
    "# was exceeding Nth global percentiles for the pollutant at counties of interest (in ListOfCountyIDs):\n",
    "def FeatureMatrixNthPercentile(Percentile, ListOfPollutants, ListOfCountyIDs):\n",
    "    NthPercentile=ReturnNthPercentilePollutantsIDsTS(Percentile, ListOfPollutants, ListOfCountyIDs)\n",
    "    dffAllCrop=CropPollutantsIDsTS(ListOfPollutants, ListOfCountyIDs)\n",
    "\n",
    "    FeatureMatrix=pd.DataFrame({'CountyID': dfHeart.loc[dfHeart['Regions-ID'].isin(ListOfCountyIDs)]['Regions-ID'], 'HeartFailR': dfHeart.loc[dfHeart['Regions-ID'].isin(ListOfCountyIDs)]['Wert']}).reset_index(drop=True)\n",
    "    for Pollutant in ListOfPollutants:\n",
    "        PollutantHoursExceed=[]\n",
    "        PollutantMasc='^.{8}' + Pollutant + '_'\n",
    "        for CountyID in ListOfCountyIDs:\n",
    "            CountyStationSet=[]\n",
    "            CountyStationSet.extend(SensorLocation.loc[SensorLocation['countyid']==CountyID]['SensorID'].tolist())\n",
    "\n",
    "            dffPollutantCounty = dffAllCrop[[col for col in dffAllCrop.columns if re.search('(^.{7})',col).group(1) in CountyStationSet]].filter(regex=PollutantMasc,axis=1)\n",
    "            NumPollutantStationsAtCounty = dffPollutantCounty.shape[1]\n",
    "            PollutantHoursExceed.append((dffPollutantCounty.stack().reset_index(drop=True)>NthPercentile[Pollutant][0]).reset_index(drop=True).sum()/NumPollutantStationsAtCounty)\n",
    "        FeatureMatrix = FeatureMatrix.reset_index(drop=True).join(pd.DataFrame({Pollutant : PollutantHoursExceed}))        \n",
    "    return(FeatureMatrix)"
   ]
  },
  {
   "cell_type": "markdown",
   "metadata": {},
   "source": [
    "The same way as it was done for the pollutant mean as a feature, the quantile-based features with two types of pollutant lists (*Dense* and *Long*) and two percentile values (50 and 75) will be created:"
   ]
  },
  {
   "cell_type": "code",
   "execution_count": 344,
   "metadata": {},
   "outputs": [],
   "source": [
    "ListOfPollutantsDense = ['NO','NO2','NOx','O3','PM1']\n",
    "ListOfCountyIDsDense = FeatureSetDenseMean['CountyID']\n",
    "FeatureSetDensePerc50 = FeatureMatrixNthPercentile(50, ListOfPollutantsDense, ListOfCountyIDsDense)\n",
    "FeatureSetDensePerc75 = FeatureMatrixNthPercentile(75, ListOfPollutantsDense, ListOfCountyIDsDense)\n",
    "\n",
    "ListOfPollutantsLong = ['NO','NO2','PM1']\n",
    "ListOfCountyIDsLong = FeatureSetLongMean['CountyID']\n",
    "FeatureSetLongPerc50 = FeatureMatrixNthPercentile(50, ListOfPollutantsLong, ListOfCountyIDsLong)\n",
    "FeatureSetLongPerc75 = FeatureMatrixNthPercentile(75, ListOfPollutantsLong, ListOfCountyIDsLong)"
   ]
  },
  {
   "cell_type": "code",
   "execution_count": 345,
   "metadata": {},
   "outputs": [
    {
     "data": {
      "text/html": [
       "<div>\n",
       "<style scoped>\n",
       "    .dataframe tbody tr th:only-of-type {\n",
       "        vertical-align: middle;\n",
       "    }\n",
       "\n",
       "    .dataframe tbody tr th {\n",
       "        vertical-align: top;\n",
       "    }\n",
       "\n",
       "    .dataframe thead th {\n",
       "        text-align: right;\n",
       "    }\n",
       "</style>\n",
       "<table border=\"1\" class=\"dataframe\">\n",
       "  <thead>\n",
       "    <tr style=\"text-align: right;\">\n",
       "      <th></th>\n",
       "      <th>CountyID</th>\n",
       "      <th>HeartFailR</th>\n",
       "      <th>NO</th>\n",
       "      <th>NO2</th>\n",
       "      <th>NOx</th>\n",
       "      <th>O3</th>\n",
       "      <th>PM1</th>\n",
       "    </tr>\n",
       "  </thead>\n",
       "  <tbody>\n",
       "    <tr>\n",
       "      <th>134</th>\n",
       "      <td>5711</td>\n",
       "      <td>1.90</td>\n",
       "      <td>6779.500000</td>\n",
       "      <td>6341.000000</td>\n",
       "      <td>6569.000000</td>\n",
       "      <td>3455.0</td>\n",
       "      <td>5881.500000</td>\n",
       "    </tr>\n",
       "    <tr>\n",
       "      <th>135</th>\n",
       "      <td>12051</td>\n",
       "      <td>1.85</td>\n",
       "      <td>4646.500000</td>\n",
       "      <td>4198.000000</td>\n",
       "      <td>4543.500000</td>\n",
       "      <td>4190.0</td>\n",
       "      <td>4853.000000</td>\n",
       "    </tr>\n",
       "    <tr>\n",
       "      <th>136</th>\n",
       "      <td>3402</td>\n",
       "      <td>1.80</td>\n",
       "      <td>3373.000000</td>\n",
       "      <td>3349.000000</td>\n",
       "      <td>3220.000000</td>\n",
       "      <td>4889.0</td>\n",
       "      <td>3906.000000</td>\n",
       "    </tr>\n",
       "    <tr>\n",
       "      <th>137</th>\n",
       "      <td>6414</td>\n",
       "      <td>1.77</td>\n",
       "      <td>7468.666667</td>\n",
       "      <td>7699.666667</td>\n",
       "      <td>7701.333333</td>\n",
       "      <td>2938.0</td>\n",
       "      <td>5276.000000</td>\n",
       "    </tr>\n",
       "    <tr>\n",
       "      <th>138</th>\n",
       "      <td>6412</td>\n",
       "      <td>1.77</td>\n",
       "      <td>7732.000000</td>\n",
       "      <td>7904.333333</td>\n",
       "      <td>7944.666667</td>\n",
       "      <td>2629.5</td>\n",
       "      <td>5378.666667</td>\n",
       "    </tr>\n",
       "    <tr>\n",
       "      <th>139</th>\n",
       "      <td>7315</td>\n",
       "      <td>1.68</td>\n",
       "      <td>6843.200000</td>\n",
       "      <td>7082.000000</td>\n",
       "      <td>7159.400000</td>\n",
       "      <td>3336.0</td>\n",
       "      <td>5267.333333</td>\n",
       "    </tr>\n",
       "    <tr>\n",
       "      <th>140</th>\n",
       "      <td>6411</td>\n",
       "      <td>1.64</td>\n",
       "      <td>6369.000000</td>\n",
       "      <td>6899.500000</td>\n",
       "      <td>6794.500000</td>\n",
       "      <td>2969.0</td>\n",
       "      <td>5316.000000</td>\n",
       "    </tr>\n",
       "    <tr>\n",
       "      <th>141</th>\n",
       "      <td>6433</td>\n",
       "      <td>1.63</td>\n",
       "      <td>4621.000000</td>\n",
       "      <td>5022.000000</td>\n",
       "      <td>4963.000000</td>\n",
       "      <td>3207.0</td>\n",
       "      <td>4583.500000</td>\n",
       "    </tr>\n",
       "    <tr>\n",
       "      <th>142</th>\n",
       "      <td>8315</td>\n",
       "      <td>1.63</td>\n",
       "      <td>2087.000000</td>\n",
       "      <td>2171.000000</td>\n",
       "      <td>39.000000</td>\n",
       "      <td>6394.5</td>\n",
       "      <td>2656.000000</td>\n",
       "    </tr>\n",
       "    <tr>\n",
       "      <th>143</th>\n",
       "      <td>7111</td>\n",
       "      <td>1.50</td>\n",
       "      <td>7703.500000</td>\n",
       "      <td>7765.500000</td>\n",
       "      <td>7849.500000</td>\n",
       "      <td>2300.0</td>\n",
       "      <td>4933.000000</td>\n",
       "    </tr>\n",
       "  </tbody>\n",
       "</table>\n",
       "</div>"
      ],
      "text/plain": [
       "     CountyID  HeartFailR           NO          NO2          NOx      O3  \\\n",
       "134      5711        1.90  6779.500000  6341.000000  6569.000000  3455.0   \n",
       "135     12051        1.85  4646.500000  4198.000000  4543.500000  4190.0   \n",
       "136      3402        1.80  3373.000000  3349.000000  3220.000000  4889.0   \n",
       "137      6414        1.77  7468.666667  7699.666667  7701.333333  2938.0   \n",
       "138      6412        1.77  7732.000000  7904.333333  7944.666667  2629.5   \n",
       "139      7315        1.68  6843.200000  7082.000000  7159.400000  3336.0   \n",
       "140      6411        1.64  6369.000000  6899.500000  6794.500000  2969.0   \n",
       "141      6433        1.63  4621.000000  5022.000000  4963.000000  3207.0   \n",
       "142      8315        1.63  2087.000000  2171.000000    39.000000  6394.5   \n",
       "143      7111        1.50  7703.500000  7765.500000  7849.500000  2300.0   \n",
       "\n",
       "             PM1  \n",
       "134  5881.500000  \n",
       "135  4853.000000  \n",
       "136  3906.000000  \n",
       "137  5276.000000  \n",
       "138  5378.666667  \n",
       "139  5267.333333  \n",
       "140  5316.000000  \n",
       "141  4583.500000  \n",
       "142  2656.000000  \n",
       "143  4933.000000  "
      ]
     },
     "execution_count": 345,
     "metadata": {},
     "output_type": "execute_result"
    }
   ],
   "source": [
    "FeatureSetDensePerc50.tail(10)\n",
    "#FeatureSetLongPerc50.tail(10)\n",
    "#FeatureSetDensePerc75.tail(10)\n",
    "#FeatureSetLongPerc75.tail(10)\n"
   ]
  },
  {
   "cell_type": "markdown",
   "metadata": {},
   "source": [
    "###  Feature transformation\n",
    "\n",
    "In this part the following notation is used:\n",
    " - *X, y* - features and labels of initial feature matrix.\n",
    " - *X_train0, X_test0, y_train0, y_test0* initial feature matrix, splitted into train and test sets\n",
    " - *X_train, X_test, y_train, y_test* normalized feature matrix, splitted into train and test sets\n",
    " - *X_train_XXX, X_test_XXX, y_train_XXX, y_test_XXX* transformed (XXX is the name of transformation) feature matrix, splitted into train and test sets\n",
    " \n",
    "\n",
    "#### Normalization\n",
    "For use in the machine-learning and especially deep learning frameworks the features have to be normalized:"
   ]
  },
  {
   "cell_type": "code",
   "execution_count": 359,
   "metadata": {},
   "outputs": [],
   "source": [
    "FeatureSet = FeatureSetDensePerc50\n",
    "\n",
    "#from sklearn import preprocessing\n",
    "from sklearn.preprocessing import MinMaxScaler\n",
    "from sklearn.model_selection import train_test_split\n",
    "from sklearn import decomposition\n",
    "from sklearn.preprocessing import PolynomialFeatures\n",
    "\n",
    "X, y = FeatureSet.drop(['CountyID', 'HeartFailR'], axis=1), FeatureSet['HeartFailR']\n",
    "X_train0, X_test0, y_train0, y_test0 = train_test_split(X, y, random_state=0)\n",
    "\n",
    "\n",
    "# default scaler: maps to [0:1]\n",
    "scaler = MinMaxScaler()\n",
    "\n",
    "scaler.fit(X_train0)\n",
    "# apply transform\n",
    "X_train = scaler.transform(X_train0)\n",
    "X_test  = scaler.transform(X_test0)\n",
    "\n",
    "# inverse transform\n",
    "inverse = scaler.inverse_transform(X_train)\n",
    "# also, maybe lognorm-like distribution can be converted to ~normal with box-cox."
   ]
  },
  {
   "cell_type": "markdown",
   "metadata": {},
   "source": [
    "checking inversibility of the scaling procedure:"
   ]
  },
  {
   "cell_type": "code",
   "execution_count": 355,
   "metadata": {},
   "outputs": [
    {
     "name": "stdout",
     "output_type": "stream",
     "text": [
      "         NO     NO2     NOx      O3     PM1\n",
      "76   3299.0  3948.0  3934.0  3816.0  4450.0\n",
      "105  3521.5  2385.0  2552.5  3900.0  4614.5\n",
      "56   2943.0  2286.0  2410.5  4601.0  4760.0\n",
      "108  4129.0  4364.0  4086.0  3585.0  4890.0\n",
      "[[3299.  3948.  3934.  3816.  4450. ]\n",
      " [3521.5 2385.  2552.5 3900.  4614.5]\n",
      " [2943.  2286.  2410.5 4601.  4760. ]\n",
      " [4129.  4364.  4086.  3585.  4890. ]]\n"
     ]
    }
   ],
   "source": [
    "print(X_train0[0:4])\n",
    "print(inverse[0:4])"
   ]
  },
  {
   "cell_type": "markdown",
   "metadata": {},
   "source": [
    "#### Principal Component Analysis (PCA)\n",
    "The 5 features from the initial dataset are projected onto 3 eigenvectors, corresponding to 3 extreme eigenvalues of the feature matrix:"
   ]
  },
  {
   "cell_type": "code",
   "execution_count": 364,
   "metadata": {},
   "outputs": [
    {
     "name": "stdout",
     "output_type": "stream",
     "text": [
      "PCA explained variance: [0.92668993 0.04759515 0.01215964]\n"
     ]
    }
   ],
   "source": [
    "pca = decomposition.PCA(n_components=3)\n",
    "pca.fit(X_train0)\n",
    "print(\"PCA explained variance:\", pca.explained_variance_ratio_)\n",
    "X_train_PCA = pca.transform(X_train0)\n",
    "X_test_PCA = pca.transform(X_test0)"
   ]
  },
  {
   "cell_type": "markdown",
   "metadata": {},
   "source": [
    "#### Polynomial Features\n",
    "In order to capture nonlinear behavior of the model,  one can extend the basis set from x<sub>1</sub>, x<sub>2</sub>, x<sub>3</sub> to 1, x<sub>1</sub>, x<sub>1</sub><sup>2</sup>, x<sub>2</sub>, x<sub>2</sub><sup>2</sup>, x<sub>3</sub>, x<sub>3</sub><sup>2</sup>:"
   ]
  },
  {
   "cell_type": "code",
   "execution_count": 365,
   "metadata": {},
   "outputs": [],
   "source": [
    "FeatureSet = FeatureSetLongPerc50\n",
    "X, y = FeatureSet.drop(['CountyID', 'HeartFailR'], axis=1), FeatureSet['HeartFailR']\n",
    "X_train0, X_test0, y_train0, y_test0 = train_test_split(X, y, random_state=0)\n",
    "\n",
    "\n",
    "poly = PolynomialFeatures(2)\n",
    "poly.fit_transform(X_train0)\n",
    "X_train_UpToSquares = poly.transform(X_train0)\n",
    "X_test_UpToSquares = poly.transform(X_test0)"
   ]
  },
  {
   "cell_type": "markdown",
   "metadata": {},
   "source": [
    "In order to treat potential interactions between the feature variables,  one can extend the basis set from x<sub>1</sub>, x<sub>2</sub>, x<sub>3</sub> to 1, x<sub>1</sub>, x<sub>2</sub>, x<sub>3</sub>, x<sup>1</sup>x<sub>2</sub>, x<sub>1</sub>x<sub>3</sub>, x<sub>2</sub>x<sub>3</sub>, x<sub>1</sub>x<sub>2</sub>x<sub>3</sub>:"
   ]
  },
  {
   "cell_type": "code",
   "execution_count": 366,
   "metadata": {},
   "outputs": [],
   "source": [
    "poly = PolynomialFeatures(degree=3, interaction_only=True)\n",
    "poly.fit_transform(X_train0)\n",
    "X_train_UpToCube = poly.transform(X_train0)\n",
    "X_test_UpToCube = poly.transform(X_test0)"
   ]
  },
  {
   "cell_type": "code",
   "execution_count": null,
   "metadata": {},
   "outputs": [],
   "source": []
  }
 ],
 "metadata": {
  "kernelspec": {
   "display_name": "Python 3",
   "language": "python",
   "name": "python3"
  },
  "language_info": {
   "codemirror_mode": {
    "name": "ipython",
    "version": 3
   },
   "file_extension": ".py",
   "mimetype": "text/x-python",
   "name": "python",
   "nbconvert_exporter": "python",
   "pygments_lexer": "ipython3",
   "version": "3.7.2"
  }
 },
 "nbformat": 4,
 "nbformat_minor": 2
}
