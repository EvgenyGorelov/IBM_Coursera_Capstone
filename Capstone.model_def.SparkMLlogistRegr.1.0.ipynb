{
    "nbformat_minor": 2, 
    "cells": [
        {
            "source": "# Advanced Data Science Capstone\n\n## Correlation of air pollution and Prevalence of Asthma bronchiale in Germany  \n\n## Model definition: Logistic Regression in SparkML", 
            "cell_type": "markdown", 
            "metadata": {}
        }, 
        {
            "execution_count": 1, 
            "cell_type": "code", 
            "metadata": {}, 
            "outputs": [], 
            "source": "!ls ./\n#Capstone.FeatureEng/"
        }, 
        {
            "source": "### Data ETL and feature generation block for the current environment", 
            "cell_type": "markdown", 
            "metadata": {}
        }, 
        {
            "execution_count": 9, 
            "cell_type": "code", 
            "metadata": {}, 
            "outputs": [], 
            "source": "# Libraries:\nimport pandas as pd\nimport numpy as np\nimport matplotlib.pyplot as plt\nimport re\nimport urllib.request\nimport collections\nfrom io import StringIO\nimport os, fnmatch\nimport xml.etree.ElementTree as ET\nfrom lxml import etree\n\n"
        }, 
        {
            "execution_count": 5, 
            "cell_type": "code", 
            "metadata": {}, 
            "outputs": [
                {
                    "output_type": "stream", 
                    "name": "stdout", 
                    "text": "total 0\nArchive:  Capstone.rawData/AQD_DE_E1a_2016/AQD_DE_E1a_2016.zip\n  inflating: Capstone.rawData/AQD_DE_E1a_2016/DE_SH_2016_NO2_hour.xml  \n  inflating: Capstone.rawData/AQD_DE_E1a_2016/DE_SH_2016_NOx_hour.xml  \n  inflating: Capstone.rawData/AQD_DE_E1a_2016/DE_SH_2016_NO_hour.xml  \n  inflating: Capstone.rawData/AQD_DE_E1a_2016/DE_SH_2016_O3_hour.xml  \n  inflating: Capstone.rawData/AQD_DE_E1a_2016/DE_SH_2016_PM1_day.xml  \n  inflating: Capstone.rawData/AQD_DE_E1a_2016/DE_SH_2016_PM1_hour.xml  \n  inflating: Capstone.rawData/AQD_DE_E1a_2016/DE_SH_2016_PM2_day.xml  \n  inflating: Capstone.rawData/AQD_DE_E1a_2016/DE_SH_2016_PM2_hour.xml  \n  inflating: Capstone.rawData/AQD_DE_E1a_2016/DE_SH_2016_SO2_hour.xml  \n  inflating: Capstone.rawData/AQD_DE_E1a_2016/DE_SL_2016_CO_hour.xml  \n  inflating: Capstone.rawData/AQD_DE_E1a_2016/DE_SL_2016_NO2_hour.xml  \n  inflating: Capstone.rawData/AQD_DE_E1a_2016/DE_SL_2016_NO_hour.xml  \n  inflating: Capstone.rawData/AQD_DE_E1a_2016/DE_SL_2016_O3_hour.xml  \n  inflating: Capstone.rawData/AQD_DE_E1a_2016/DE_SL_2016_PM1_day.xml  \n  inflating: Capstone.rawData/AQD_DE_E1a_2016/DE_SL_2016_PM1_hour.xml  \n  inflating: Capstone.rawData/AQD_DE_E1a_2016/DE_SL_2016_PM2_hour.xml  \n  inflating: Capstone.rawData/AQD_DE_E1a_2016/DE_SL_2016_SO2_hour.xml  \n  inflating: Capstone.rawData/AQD_DE_E1a_2016/DE_SN_2016_CHB_hour.xml  \n  inflating: Capstone.rawData/AQD_DE_E1a_2016/DE_SN_2016_CHT_hour.xml  \n  inflating: Capstone.rawData/AQD_DE_E1a_2016/DE_SN_2016_NO2_hour.xml  \n  inflating: Capstone.rawData/AQD_DE_E1a_2016/DE_SN_2016_NOx_hour.xml  \n  inflating: Capstone.rawData/AQD_DE_E1a_2016/DE_SN_2016_NO_hour.xml  \n  inflating: Capstone.rawData/AQD_DE_E1a_2016/DE_SN_2016_O3_hour.xml  \n  inflating: Capstone.rawData/AQD_DE_E1a_2016/DE_SN_2016_PM1_day.xml  \n  inflating: Capstone.rawData/AQD_DE_E1a_2016/DE_SN_2016_PM1_hour.xml  \n  inflating: Capstone.rawData/AQD_DE_E1a_2016/DE_SN_2016_PM2_day.xml  \n  inflating: Capstone.rawData/AQD_DE_E1a_2016/DE_SN_2016_SO2_hour.xml  \n  inflating: Capstone.rawData/AQD_DE_E1a_2016/DE_ST_2016_CHB_hour.xml  \n  inflating: Capstone.rawData/AQD_DE_E1a_2016/DE_ST_2016_CHT_hour.xml  \n  inflating: Capstone.rawData/AQD_DE_E1a_2016/DE_ST_2016_CO_hour.xml  \n  inflating: Capstone.rawData/AQD_DE_E1a_2016/DE_ST_2016_H2S_hour.xml  \n  inflating: Capstone.rawData/AQD_DE_E1a_2016/DE_ST_2016_NO2_hour.xml  \n  inflating: Capstone.rawData/AQD_DE_E1a_2016/DE_ST_2016_NOx_hour.xml  \n  inflating: Capstone.rawData/AQD_DE_E1a_2016/DE_ST_2016_NO_hour.xml  \n  inflating: Capstone.rawData/AQD_DE_E1a_2016/DE_ST_2016_O3_hour.xml  \n  inflating: Capstone.rawData/AQD_DE_E1a_2016/DE_ST_2016_PM1_day.xml  \n  inflating: Capstone.rawData/AQD_DE_E1a_2016/DE_ST_2016_PM1_hour.xml  \n  inflating: Capstone.rawData/AQD_DE_E1a_2016/DE_ST_2016_PM2_day.xml  \n  inflating: Capstone.rawData/AQD_DE_E1a_2016/DE_ST_2016_PM2_hour.xml  \n  inflating: Capstone.rawData/AQD_DE_E1a_2016/DE_ST_2016_SO2_hour.xml  \n  inflating: Capstone.rawData/AQD_DE_E1a_2016/DE_TH_2016_CHB_hour.xml  \n  inflating: Capstone.rawData/AQD_DE_E1a_2016/DE_TH_2016_CHT_hour.xml  \n  inflating: Capstone.rawData/AQD_DE_E1a_2016/DE_TH_2016_CO_hour.xml  \n  inflating: Capstone.rawData/AQD_DE_E1a_2016/DE_TH_2016_NO2_hour.xml  \n  inflating: Capstone.rawData/AQD_DE_E1a_2016/DE_TH_2016_NOx_hour.xml  \n  inflating: Capstone.rawData/AQD_DE_E1a_2016/DE_TH_2016_NO_hour.xml  \n  inflating: Capstone.rawData/AQD_DE_E1a_2016/DE_TH_2016_O3_hour.xml  \n  inflating: Capstone.rawData/AQD_DE_E1a_2016/DE_TH_2016_PM1_hour.xml  \n  inflating: Capstone.rawData/AQD_DE_E1a_2016/DE_TH_2016_PM2_hour.xml  \n  inflating: Capstone.rawData/AQD_DE_E1a_2016/DE_TH_2016_SO2_hour.xml  \n  inflating: Capstone.rawData/AQD_DE_E1a_2016/DE_UB_2016_CO_hour.xml  \n  inflating: Capstone.rawData/AQD_DE_E1a_2016/DE_UB_2016_HG_day.xml  \n  inflating: Capstone.rawData/AQD_DE_E1a_2016/DE_UB_2016_NO2_hour.xml  \n  inflating: Capstone.rawData/AQD_DE_E1a_2016/DE_UB_2016_NOx_hour.xml  \n  inflating: Capstone.rawData/AQD_DE_E1a_2016/DE_UB_2016_NO_hour.xml  \n  inflating: Capstone.rawData/AQD_DE_E1a_2016/DE_UB_2016_O3_hour.xml  \n  inflating: Capstone.rawData/AQD_DE_E1a_2016/DE_UB_2016_PM0_day.xml  \n  inflating: Capstone.rawData/AQD_DE_E1a_2016/DE_UB_2016_PM1_day.xml  \n  inflating: Capstone.rawData/AQD_DE_E1a_2016/DE_UB_2016_PM1_hour.xml  \n  inflating: Capstone.rawData/AQD_DE_E1a_2016/DE_UB_2016_PM2_day.xml  \n  inflating: Capstone.rawData/AQD_DE_E1a_2016/DE_UB_2016_PM2_hour.xml  \n  inflating: Capstone.rawData/AQD_DE_E1a_2016/DE_UB_2016_SO2_hour.xml  \nArchive:  Capstone.rawData/AQD_DE_D_2017.zip\n   creating: Capstone.rawData/AQD_DE_D_2017/\n  inflating: Capstone.rawData/AQD_DE_D_2017/DE_D_allInOne_metaMeasurements_2017.xml  \n  inflating: Capstone.rawData/AQD_DE_D_2017/DE_D_Model_2017.xml  \nArchive:  Capstone.rawData/GV100AD3107.zip\n  inflating: Capstone.rawData/GV100AD3107/Datensatzbeschreibung_GV100AD.pdf  \n  inflating: Capstone.rawData/GV100AD3107/GV100AD_310719.ASC  \n  inflating: Capstone.rawData/GV100AD3107/Hinweise.txt  \nxls sheet names:  ['Hintergrundinformationen', 'Daten']\n      Region  Regions-ID  KV             Kreistyp  Wert  Bundeswert\n0   Eisenach       16056  TH    L\u00e4ndliches Umland   8.9         5.7\n1  Sonneberg       16072  TH      L\u00e4ndlicher Raum   8.7         5.7\n2  Ammerland        3451  NI  Verdichtetes Umland   8.5         5.7\nLength of the dataset:  402\nxls sheet names:  ['Hintergrundinformationen', 'Daten']\n             Region  Regions-ID  KV           Kreistyp  Wert  Bundeswert\n0            Lk.Hof        9475  BY  L\u00e4ndliches Umland  6.43        3.11\n1  Mansfeld-S\u00fcdharz       15087  ST    L\u00e4ndlicher Raum  6.37        3.11\n2               Hof        9464  BY  L\u00e4ndliches Umland  6.36        3.11\nLength of the dataset:  402\n"
                }, 
                {
                    "execution_count": 5, 
                    "metadata": {}, 
                    "data": {
                        "text/plain": "array([[<matplotlib.axes._subplots.AxesSubplot object at 0x7f30680dfa20>]],\n      dtype=object)"
                    }, 
                    "output_type": "execute_result"
                }, 
                {
                    "output_type": "display_data", 
                    "data": {
                        "text/plain": "<Figure size 432x288 with 0 Axes>"
                    }, 
                    "metadata": {}
                }, 
                {
                    "output_type": "display_data", 
                    "data": {
                        "image/png": "[encoded data removed]", 
                        "text/plain": "<Figure size 432x288 with 1 Axes>"
                    }, 
                    "metadata": {
                        "needs_background": "light"
                    }
                }, 
                {
                    "output_type": "display_data", 
                    "data": {
                        "text/plain": "<Figure size 432x288 with 0 Axes>"
                    }, 
                    "metadata": {}
                }, 
                {
                    "output_type": "display_data", 
                    "data": {
                        "image/png": "[encoded data removed]", 
                        "text/plain": "<Figure size 432x288 with 1 Axes>"
                    }, 
                    "metadata": {
                        "needs_background": "light"
                    }
                }
            ], 
            "source": "!rm -rf ./Capstone.rawData\n## Download and decompress the dataset itself:\n!mkdir Capstone.rawData\n!ls -l Capstone.rawData/\n\n##### Pollution 2016\n!mkdir Capstone.rawData/AQD_DE_E1a_2016\nurllib.request.urlretrieve(\"https://datahub.uba.de/server/rest/directories/arcgisforinspire/INSPIRE/aqd_MapServer/Daten/AQD_DE_E1a_2016.zip\", \"Capstone.rawData/AQD_DE_E1a_2016.zip\")\n!mv Capstone.rawData/AQD_DE_E1a_2016.zip Capstone.rawData/AQD_DE_E1a_2016/\n!unzip Capstone.rawData/AQD_DE_E1a_2016/AQD_DE_E1a_2016.zip -d Capstone.rawData/\n!rm Capstone.rawData/AQD_DE_E1a_2016/AQD_DE_E1a_2016.zip\n\n##Download Sensor positions\nurllib.request.urlretrieve(\"https://datahub.uba.de/server/rest/directories/arcgisforinspire/INSPIRE/aqd_MapServer/Daten/AQD_DE_D_2017.zip\", \"Capstone.rawData/AQD_DE_D_2017.zip\")\n!unzip Capstone.rawData/AQD_DE_D_2017.zip -d Capstone.rawData/\n!rm Capstone.rawData/AQD_DE_D_2017.zip\n\n## Download Town-county dataset:\nurllib.request.urlretrieve(\"https://www.destatis.de/DE/Themen/Laender-Regionen/Regionales/Gemeindeverzeichnis/Administrativ/Archiv/GV100ADQ/GV100AD3107.zip?__blob=publicationFile\",\n                           \"Capstone.rawData/GV100AD3107.zip\")\n!mkdir Capstone.rawData/GV100AD3107\n!unzip Capstone.rawData/GV100AD3107.zip -d Capstone.rawData/GV100AD3107/\n!rm Capstone.rawData/GV100AD3107.zip\n\n!mkdir Capstone.rawData/Asthma_2016\nurllib.request.urlretrieve(\"https://www.versorgungsatlas.de/fileadmin/excel/data_id_92_kreis11_1_j_1451606400.xlsx\", \"Capstone.rawData/Asthma_2016/data_id_92_kreis11_1_j_1451606400.xlsx\")\n\nxlsx_file = pd.ExcelFile(\"Capstone.rawData/Asthma_2016/data_id_92_kreis11_1_j_1451606400.xlsx\")\nprint(\"xls sheet names: \",xlsx_file.sheet_names)\ndfAsthma = xlsx_file.parse('Daten', header=3, decimal=\",\") \nprint(dfAsthma.head(3))\nprint(\"Length of the dataset: \",len(dfAsthma))\nplt.figure()\ndfAsthma.hist(column='Wert')\n\n!mkdir Capstone.rawData/Heart_2017\nurllib.request.urlretrieve(\"https://www.versorgungsatlas.de/fileadmin/excel/data_id_97_kreis11_2_j_1483228800.xlsx\", \"Capstone.rawData/Heart_2017/data_id_97_kreis11_2_j_1483228800.xlsx\")\n\nxlsx_file = pd.ExcelFile(\"Capstone.rawData/Heart_2017/data_id_97_kreis11_2_j_1483228800.xlsx\")\nprint(\"xls sheet names: \",xlsx_file.sheet_names)\ndfHeart = xlsx_file.parse('Daten', header=3, decimal=\",\") \nprint(dfHeart.head(3))\nprint(\"Length of the dataset: \",len(dfHeart))\nplt.figure()\ndfHeart.hist(column='Wert')\n"
        }, 
        {
            "execution_count": 11, 
            "cell_type": "code", 
            "metadata": {}, 
            "outputs": [], 
            "source": "def FetchXMLentryByWord(varName, NumToPrint):\n    varFull = [s for s in AllTags if varName in s][NumToPrint]\n    print(varFull)\n    print([(varr.attrib, varr.text) for varr in Eroot.iter(varFull)][NumToPrint])\n    print('\\n')\ndef FetchAllXMLentriesByWord(varName):\n    varFull = [s for s in AllTags if varName in s][0]\n    print([(varr.attrib) for varr in Eroot.iter(varFull)])\n    print('\\n')\ndef FetchAllXMLsensorID():\n    varFull = [s for s in AllTags if 'value' in s][0]\n    print([re.sub(r'[^a-zA-Z0-9:]*\\'{http(.*)$', r'', re.sub(r'^.*AQD\\/SPO.DE_', r'', str(varr.attrib))) for varr in Eroot.iter(varFull) if 'AQD' in str(varr.attrib)]) \n    print('\\n')\ndef SelectAllXMLsensorID():\n    varFull = [s for s in AllTags if 'value' in s][0]\n    return([re.sub(r'[^a-zA-Z0-9:]*\\'{http(.*)$', r'', re.sub(r'^.*AQD\\/SPO.DE_', r'', str(varr.attrib))) for varr in Eroot.iter(varFull) if 'AQD' in str(varr.attrib)]) \n"
        }, 
        {
            "execution_count": 12, 
            "cell_type": "code", 
            "metadata": {}, 
            "outputs": [
                {
                    "output_type": "stream", 
                    "name": "stdout", 
                    "text": "Number of files in the dataset 51\n"
                }
            ], 
            "source": "AirE1aDir='Capstone.rawData/AQD_DE_E1a_2016/'\n\n#!ls Capstone.rawData/AQD_DE_E1a_2017/*hour*\nFilesHour=[]\n\nfor file in os.listdir(AirE1aDir):\n    if fnmatch.fnmatch(file, '*hour*'):\n        FilesHour.append(file)\nprint(\"Number of files in the dataset\", len(FilesHour))\n\n# shortening the process for debugging purposes\n#FilesHour=FilesHour[0:3]        \n\ndffAll=pd.DataFrame(index=range(0,8760))  # 8760 hours in the year\n\n# add First column with Observation Times:\ndff=[]  # Temporary list for DataFrames\n\nfile=FilesHour[0]\nEtree = ET.parse(AirE1aDir+file)\nEroot = Etree.getroot()\nEroot.tag\nEroot.attrib\nAllTags = [elem.tag for elem in Eroot.iter()]\nvarFull = [s for s in AllTags if 'values' in s][0]\nfor varr in Eroot.iter(varFull):\n    dff.append(pd.read_csv(StringIO((varr.text).replace(\"@@\",\"\\n\")), sep=\",\", header=None))\ndffAll=pd.concat([dffAll, dff[0][[0]]], axis=1)\ndffAll.columns=['observation_period']\n\n\n# get all tags in xml file; Note, that the actual data is kept as a TEXT of *values* tags \nfor file in FilesHour:\n    Etree = ET.parse(AirE1aDir+file)\n    Eroot = Etree.getroot()\n    Eroot.tag\n    Eroot.attrib\n    AllTags = [elem.tag for elem in Eroot.iter()]\n    \n    ColNamesExp=SelectAllXMLsensorID()\n# Compare column names with file names, they should encode same country, state and pollutant\n    for ColName in ColNamesExp:\n        if ((ColName[0:2]!=file[0:2]) or (ColName[2:4]!=file[3:5]) or (ColName[8:11]!=file[11:14])):\n            print(\"Inconsistency in file and column names: \", file, ColName)\n            exit()\n    \n    varFull = [s for s in AllTags if 'values' in s][0]\n    \n    dff=[] # Temporary list for DataFrames\n# reading actual pollutant data fiom the text field:    \n    for varr in Eroot.iter(varFull):\n        dff.append(pd.read_csv(StringIO((varr.text).replace(\"@@\",\"\\n\")), sep=\",\", header=None))\n\n# checking, that measurment timestamps are identical in the files read       \n    for s in range(0,len(dff)):\n        if not (dffAll['observation_period']).equals(dff[s][0]):\n            print(\"Inconsistency of observation times in the following files: \", file, FilesHour[0])\n            exit()\n\n        \n# select column 4 - pollutant concentration:\n    dff=pd.concat([dff[s][4] for s in range(0,len(dff))], axis=1)\n    dff.columns=ColNamesExp\n   \n    dffAll=pd.concat([dffAll, dff], axis=1)"
        }, 
        {
            "execution_count": 13, 
            "cell_type": "code", 
            "metadata": {}, 
            "outputs": [
                {
                    "output_type": "stream", 
                    "name": "stderr", 
                    "text": "/opt/conda/envs/Python36/lib/python3.6/site-packages/ipykernel/__main__.py:3: FutureWarning: Series.nonzero() is deprecated and will be removed in a future version.Use Series.to_numpy().nonzero() instead\n  app.launch_new_instance()\n"
                }, 
                {
                    "output_type": "stream", 
                    "name": "stdout", 
                    "text": "The number of corrupted columns is  10  of  526\n"
                }, 
                {
                    "output_type": "stream", 
                    "name": "stderr", 
                    "text": "/opt/conda/envs/Python36/lib/python3.6/site-packages/pandas/core/arrays/datetimes.py:1172: UserWarning: Converting to PeriodArray/Index representation will drop timezone information.\n  \"will drop timezone information.\", UserWarning)\n"
                }, 
                {
                    "execution_count": 13, 
                    "metadata": {}, 
                    "data": {
                        "text/html": "<div>\n<style scoped>\n    .dataframe tbody tr th:only-of-type {\n        vertical-align: middle;\n    }\n\n    .dataframe tbody tr th {\n        vertical-align: top;\n    }\n\n    .dataframe thead th {\n        text-align: right;\n    }\n</style>\n<table border=\"1\" class=\"dataframe\">\n  <thead>\n    <tr style=\"text-align: right;\">\n      <th></th>\n      <th>observation_period</th>\n      <th>DESL002_O3_dataGroup1</th>\n      <th>DESL003_O3_dataGroup1</th>\n      <th>DESL011_O3_dataGroup1</th>\n      <th>DESL012_O3_dataGroup1</th>\n      <th>DESL017_O3_dataGroup1</th>\n      <th>DESL018_O3_dataGroup1</th>\n      <th>DESL019_O3_dataGroup1</th>\n      <th>DESL020_O3_dataGroup1</th>\n      <th>DEST002_NOx_dataGroup1</th>\n      <th>...</th>\n      <th>DETH041_NOx_dataGroup1</th>\n      <th>DETH042_NOx_dataGroup1</th>\n      <th>DETH043_NOx_dataGroup1</th>\n      <th>DETH060_NOx_dataGroup1</th>\n      <th>DETH061_NOx_dataGroup1</th>\n      <th>DETH072_NOx_dataGroup1</th>\n      <th>DETH083_NOx_dataGroup1</th>\n      <th>DETH091_NOx_dataGroup1</th>\n      <th>DETH093_NOx_dataGroup1</th>\n      <th>DETH095_NOx_dataGroup1</th>\n    </tr>\n  </thead>\n  <tbody>\n    <tr>\n      <th>8781</th>\n      <td>2016-12-31 21:00</td>\n      <td>1.64</td>\n      <td>5.08</td>\n      <td>2.90</td>\n      <td>4.00</td>\n      <td>4.19</td>\n      <td>2.42</td>\n      <td>25.44</td>\n      <td>2.72</td>\n      <td>15.716239</td>\n      <td>...</td>\n      <td>77.027954</td>\n      <td>30.488693</td>\n      <td>90.341911</td>\n      <td>60.260674</td>\n      <td>16.560911</td>\n      <td>57.726231</td>\n      <td>132.491394</td>\n      <td>96.647903</td>\n      <td>142.340775</td>\n      <td>113.357315</td>\n    </tr>\n    <tr>\n      <th>8782</th>\n      <td>2016-12-31 22:00</td>\n      <td>2.02</td>\n      <td>10.67</td>\n      <td>3.10</td>\n      <td>3.91</td>\n      <td>4.29</td>\n      <td>2.35</td>\n      <td>28.11</td>\n      <td>2.41</td>\n      <td>14.546514</td>\n      <td>...</td>\n      <td>80.224121</td>\n      <td>31.683720</td>\n      <td>72.076004</td>\n      <td>61.261394</td>\n      <td>17.742168</td>\n      <td>67.070229</td>\n      <td>111.189499</td>\n      <td>100.438667</td>\n      <td>99.762787</td>\n      <td>88.717621</td>\n    </tr>\n    <tr>\n      <th>8783</th>\n      <td>2016-12-31 23:00</td>\n      <td>3.32</td>\n      <td>5.73</td>\n      <td>4.13</td>\n      <td>4.25</td>\n      <td>4.25</td>\n      <td>2.88</td>\n      <td>23.48</td>\n      <td>6.45</td>\n      <td>9.365071</td>\n      <td>...</td>\n      <td>71.562309</td>\n      <td>33.108055</td>\n      <td>79.259933</td>\n      <td>76.318123</td>\n      <td>18.049219</td>\n      <td>74.662857</td>\n      <td>101.533669</td>\n      <td>58.314323</td>\n      <td>52.971664</td>\n      <td>59.788193</td>\n    </tr>\n  </tbody>\n</table>\n<p>3 rows \u00d7 516 columns</p>\n</div>", 
                        "text/plain": "     observation_period  DESL002_O3_dataGroup1  DESL003_O3_dataGroup1  \\\n8781   2016-12-31 21:00                   1.64                   5.08   \n8782   2016-12-31 22:00                   2.02                  10.67   \n8783   2016-12-31 23:00                   3.32                   5.73   \n\n      DESL011_O3_dataGroup1  DESL012_O3_dataGroup1  DESL017_O3_dataGroup1  \\\n8781                   2.90                   4.00                   4.19   \n8782                   3.10                   3.91                   4.29   \n8783                   4.13                   4.25                   4.25   \n\n      DESL018_O3_dataGroup1  DESL019_O3_dataGroup1  DESL020_O3_dataGroup1  \\\n8781                   2.42                  25.44                   2.72   \n8782                   2.35                  28.11                   2.41   \n8783                   2.88                  23.48                   6.45   \n\n      DEST002_NOx_dataGroup1  ...  DETH041_NOx_dataGroup1  \\\n8781               15.716239  ...               77.027954   \n8782               14.546514  ...               80.224121   \n8783                9.365071  ...               71.562309   \n\n      DETH042_NOx_dataGroup1  DETH043_NOx_dataGroup1  DETH060_NOx_dataGroup1  \\\n8781               30.488693               90.341911               60.260674   \n8782               31.683720               72.076004               61.261394   \n8783               33.108055               79.259933               76.318123   \n\n      DETH061_NOx_dataGroup1  DETH072_NOx_dataGroup1  DETH083_NOx_dataGroup1  \\\n8781               16.560911               57.726231              132.491394   \n8782               17.742168               67.070229              111.189499   \n8783               18.049219               74.662857              101.533669   \n\n      DETH091_NOx_dataGroup1  DETH093_NOx_dataGroup1  DETH095_NOx_dataGroup1  \n8781               96.647903              142.340775              113.357315  \n8782              100.438667               99.762787               88.717621  \n8783               58.314323               52.971664               59.788193  \n\n[3 rows x 516 columns]"
                    }, 
                    "output_type": "execute_result"
                }
            ], 
            "source": "dffAll[dffAll.loc[:, dffAll.columns != 'observation_period'] < 0.0] = np.NaN\ndffAll.interpolate(method='linear', inplace=True, axis=0, limit=876, limit_direction='both')\nprint('The number of corrupted columns is ', len(dffAll.isna().sum().nonzero()[0]), ' of ', len(dffAll.columns))\ndffAll = dffAll.dropna(axis=1)\ndffAll['observation_period']=pd.to_datetime(dffAll['observation_period'])\ndffAll['observation_period']=dffAll['observation_period'].dt.to_period('H')\n#dffAll['observation_period'][0].end_time\ndffAll.tail(3)"
        }, 
        {
            "execution_count": 14, 
            "cell_type": "code", 
            "metadata": {}, 
            "outputs": [], 
            "source": "#!rm -rf ./Capstone.ETL\n#!mkdir ./Capstone.ETL\n#dffAll.to_csv('Capstone.ETL/Capstone.etl.wideCSV.1.0.gzip', compression='gzip', index=False)"
        }, 
        {
            "execution_count": 15, 
            "cell_type": "code", 
            "metadata": {}, 
            "outputs": [
                {
                    "execution_count": 15, 
                    "metadata": {}, 
                    "data": {
                        "text/html": "<div>\n<style scoped>\n    .dataframe tbody tr th:only-of-type {\n        vertical-align: middle;\n    }\n\n    .dataframe tbody tr th {\n        vertical-align: top;\n    }\n\n    .dataframe thead th {\n        text-align: right;\n    }\n</style>\n<table border=\"1\" class=\"dataframe\">\n  <thead>\n    <tr style=\"text-align: right;\">\n      <th></th>\n      <th>SensorID</th>\n      <th>SensorTown</th>\n    </tr>\n  </thead>\n  <tbody>\n    <tr>\n      <th>803</th>\n      <td>DEUB005</td>\n      <td>L\u00fcder</td>\n    </tr>\n    <tr>\n      <th>804</th>\n      <td>DEUB028</td>\n      <td>Zingst</td>\n    </tr>\n    <tr>\n      <th>805</th>\n      <td>DEUB029</td>\n      <td>Suhl</td>\n    </tr>\n    <tr>\n      <th>806</th>\n      <td>DEUB030</td>\n      <td>Stechlin</td>\n    </tr>\n    <tr>\n      <th>807</th>\n      <td>DEUB044</td>\n      <td>Garmisch-Partenkirchen</td>\n    </tr>\n  </tbody>\n</table>\n</div>", 
                        "text/plain": "    SensorID              SensorTown\n803  DEUB005                   L\u00fcder\n804  DEUB028                  Zingst\n805  DEUB029                    Suhl\n806  DEUB030                Stechlin\n807  DEUB044  Garmisch-Partenkirchen"
                    }, 
                    "output_type": "execute_result"
                }
            ], 
            "source": "# pick all tags from the XML file\nEtree = etree.parse(\"Capstone.rawData/AQD_DE_D_2017/DE_D_allInOne_metaMeasurements_2017.xml\")\nEroot = Etree.getroot()\nEroot.tag\nEroot.attrib\nAllTags = [elem.tag for elem in Eroot.iter()]\n\n# get correct tag names for 'municipality', 'EUStationCode' and 'featureMember':\nvarMUN = [s for s in AllTags if 'municipality' in s][0]\nvarID  = [s for s in AllTags if 'EUStationCode' in s][0]\nvarFeatMem = [s for s in AllTags if 'featureMember' in s][0]\n\nIDs=[]\nMUNs=[]\n# read 'municipality' and 'EUStationCode' to SensorLocation dataframe:\nfor varr in Eroot.iter(varFeatMem):\n    for child in varr.iter(varMUN):\n        MUNs.append(child.text)\n        for child2 in varr.iter(varID):\n            IDs.append(child2.text)\nSensorLocation=pd.DataFrame({'SensorID': IDs, 'SensorTown': MUNs})\nSensorLocation.tail(5)"
        }, 
        {
            "execution_count": 16, 
            "cell_type": "code", 
            "metadata": {}, 
            "outputs": [
                {
                    "execution_count": 16, 
                    "metadata": {}, 
                    "data": {
                        "text/html": "<div>\n<style scoped>\n    .dataframe tbody tr th:only-of-type {\n        vertical-align: middle;\n    }\n\n    .dataframe tbody tr th {\n        vertical-align: top;\n    }\n\n    .dataframe thead th {\n        text-align: right;\n    }\n</style>\n<table border=\"1\" class=\"dataframe\">\n  <thead>\n    <tr style=\"text-align: right;\">\n      <th></th>\n      <th>countyid</th>\n      <th>town</th>\n      <th>county</th>\n    </tr>\n  </thead>\n  <tbody>\n    <tr>\n      <th>16116</th>\n      <td>16077</td>\n      <td>Starkenberg</td>\n      <td>Schm\u00f6lln/Th\u00fcr.</td>\n    </tr>\n    <tr>\n      <th>16117</th>\n      <td>16077</td>\n      <td>Thonhausen</td>\n      <td>Schm\u00f6lln/Th\u00fcr.</td>\n    </tr>\n    <tr>\n      <th>16118</th>\n      <td>16077</td>\n      <td>Treben</td>\n      <td>Schm\u00f6lln/Th\u00fcr.</td>\n    </tr>\n    <tr>\n      <th>16119</th>\n      <td>16077</td>\n      <td>Vollmershain</td>\n      <td>Schm\u00f6lln/Th\u00fcr.</td>\n    </tr>\n    <tr>\n      <th>16120</th>\n      <td>16077</td>\n      <td>Windischleuba</td>\n      <td>Schm\u00f6lln/Th\u00fcr.</td>\n    </tr>\n  </tbody>\n</table>\n</div>", 
                        "text/plain": "       countyid           town          county\n16116     16077    Starkenberg  Schm\u00f6lln/Th\u00fcr.\n16117     16077     Thonhausen  Schm\u00f6lln/Th\u00fcr.\n16118     16077         Treben  Schm\u00f6lln/Th\u00fcr.\n16119     16077   Vollmershain  Schm\u00f6lln/Th\u00fcr.\n16120     16077  Windischleuba  Schm\u00f6lln/Th\u00fcr."
                    }, 
                    "output_type": "execute_result"
                }
            ], 
            "source": "columns = [(10, 15), (22, 71), (72, 121)]\ndfCT = pd.read_fwf(\"Capstone.rawData/GV100AD3107/GV100AD_310719.ASC\", \n                     colspecs=columns, names=['countyid','town','county'],\n                     encoding=\"iso8859_1\")\ndfCT=dfCT.fillna(method='ffill')\n\ndfCT['town'] = dfCT['town'].str.split(\",\").str[0]\ndfCT.tail(5)"
        }, 
        {
            "execution_count": 17, 
            "cell_type": "code", 
            "metadata": {}, 
            "outputs": [
                {
                    "output_type": "stream", 
                    "name": "stdout", 
                    "text": "xls sheet names:  ['Hintergrundinformationen', 'Daten']\n             Region  Regions-ID  KV           Kreistyp  Wert  Bundeswert\n0            Lk.Hof        9475  BY  L\u00e4ndliches Umland  6.43        3.11\n1  Mansfeld-S\u00fcdharz       15087  ST    L\u00e4ndlicher Raum  6.37        3.11\n2               Hof        9464  BY  L\u00e4ndliches Umland  6.36        3.11\nNumber of duplicates in Regions-ID column:  0\n"
                }
            ], 
            "source": "xlsx_file = pd.ExcelFile(\"Capstone.rawData/Heart_2017/data_id_97_kreis11_2_j_1483228800.xlsx\")\nprint(\"xls sheet names: \",xlsx_file.sheet_names)\ndfHeart = xlsx_file.parse('Daten', header=3, decimal=\",\") \nprint(dfHeart.head(3))\nprint(\"Number of duplicates in Regions-ID column: \", dfHeart.duplicated(['Regions-ID']).sum())"
        }, 
        {
            "execution_count": 18, 
            "cell_type": "code", 
            "metadata": {}, 
            "outputs": [
                {
                    "execution_count": 18, 
                    "metadata": {}, 
                    "data": {
                        "text/html": "<div>\n<style scoped>\n    .dataframe tbody tr th:only-of-type {\n        vertical-align: middle;\n    }\n\n    .dataframe tbody tr th {\n        vertical-align: top;\n    }\n\n    .dataframe thead th {\n        text-align: right;\n    }\n</style>\n<table border=\"1\" class=\"dataframe\">\n  <thead>\n    <tr style=\"text-align: right;\">\n      <th></th>\n      <th>SensorID</th>\n      <th>SensorTown</th>\n      <th>countyid</th>\n    </tr>\n  </thead>\n  <tbody>\n    <tr>\n      <th>0</th>\n      <td>DEBB007</td>\n      <td>Elsterwerda</td>\n      <td>12062</td>\n    </tr>\n    <tr>\n      <th>1</th>\n      <td>DEBB021</td>\n      <td>Potsdam</td>\n      <td>12054</td>\n    </tr>\n    <tr>\n      <th>2</th>\n      <td>DEBB026</td>\n      <td>Spremberg</td>\n      <td>12071</td>\n    </tr>\n    <tr>\n      <th>3</th>\n      <td>DEBB029</td>\n      <td>Schwedt/Oder</td>\n      <td>12073</td>\n    </tr>\n    <tr>\n      <th>4</th>\n      <td>DEBB032</td>\n      <td>Eisenh\u00fcttenstadt</td>\n      <td>12067</td>\n    </tr>\n  </tbody>\n</table>\n</div>", 
                        "text/plain": "  SensorID        SensorTown  countyid\n0  DEBB007       Elsterwerda     12062\n1  DEBB021           Potsdam     12054\n2  DEBB026         Spremberg     12071\n3  DEBB029      Schwedt/Oder     12073\n4  DEBB032  Eisenh\u00fcttenstadt     12067"
                    }, 
                    "output_type": "execute_result"
                }
            ], 
            "source": "SensorLocation = (SensorLocation.join(dfCT[['countyid','town']].set_index('town'),\n                                      on='SensorTown')).drop_duplicates(subset=['SensorID'])\nSensorLocation=SensorLocation.dropna()\nSensorLocation=SensorLocation.astype({'countyid':int})\nSensorLocation.head(5)"
        }, 
        {
            "execution_count": 19, 
            "cell_type": "code", 
            "metadata": {}, 
            "outputs": [
                {
                    "output_type": "stream", 
                    "name": "stdout", 
                    "text": "xls sheet names:  ['Hintergrundinformationen', 'Daten']\n      Region  Regions-ID  KV             Kreistyp  Wert  Bundeswert\n0   Eisenach       16056  TH    L\u00e4ndliches Umland   8.9         5.7\n1  Sonneberg       16072  TH      L\u00e4ndlicher Raum   8.7         5.7\n2  Ammerland        3451  NI  Verdichtetes Umland   8.5         5.7\nNumber of duplicates in Regions-ID column:  0\n"
                }
            ], 
            "source": "xlsx_file = pd.ExcelFile(\"Capstone.rawData/Asthma_2016/data_id_92_kreis11_1_j_1451606400.xlsx\")\nprint(\"xls sheet names: \",xlsx_file.sheet_names)\ndfAsthma = xlsx_file.parse('Daten', header=3, decimal=\",\") \nprint(dfAsthma.head(3))\nprint(\"Number of duplicates in Regions-ID column: \", dfAsthma.duplicated(['Regions-ID']).sum())\n#dfAsthma.to_csv('Capstone.ETL/Capstone.etl.dfAsthmaCSV.1.0.csv', index=False)"
        }, 
        {
            "execution_count": 20, 
            "cell_type": "code", 
            "metadata": {}, 
            "outputs": [], 
            "source": "# Files:\n#SensorLocation = pd.read_csv('Capstone.ETL/Capstone.etl.SensorLocationCSV.1.0.csv')\n#dfHeart = pd.read_csv('Capstone.ETL/Capstone.etl.dfHeartCSV.1.0.csv')\n#dfAsthma = pd.read_csv('Capstone.ETL/Capstone.etl.dfAsthmaCSV.1.0.csv')\n#dffAll = pd.read_csv('Capstone.ETL/Capstone.etl.wideCSV.1.0.gzip', compression='gzip', index_col=None)\n\ndfDisease = dfAsthma"
        }, 
        {
            "source": "#### Mean pollutant concentration over the year\nThe quantity can be straightforward extracted using *.describe()* method of the data frame:", 
            "cell_type": "markdown", 
            "metadata": {}
        }, 
        {
            "execution_count": 21, 
            "cell_type": "code", 
            "metadata": {}, 
            "outputs": [], 
            "source": "dffAllSummary=dffAll.describe()\n\ndef MeanByPollutantCountyID(Pollutant, CountyID):\n    PollutantMasc='^.{8}' + Pollutant + '_'\n# collecting set of all sensors in the given county:    \n    CountyStationSet = SensorLocation.loc[SensorLocation['countyid']==CountyID]['SensorID'].tolist()\n    if (CountyStationSet == []) or ([col for col in dffAllSummary.columns if re.search('(^.{7})',col).group(1) in CountyStationSet if ('_'+Pollutant+'_') in col] == []):\n        return(np.nan)\n    try:\n        dffAllPollutantCountyID = dffAllSummary[[col for col in dffAllSummary.columns if re.search('(^.{7})',col).group(1) in CountyStationSet]].filter(regex=PollutantMasc,axis=1)\n        return(dffAllPollutantCountyID.loc[['mean']].mean(axis=1)[0])\n    except:    \n        return(np.nan)"
        }, 
        {
            "execution_count": 22, 
            "cell_type": "code", 
            "metadata": {}, 
            "outputs": [
                {
                    "execution_count": 22, 
                    "metadata": {}, 
                    "data": {
                        "text/plain": "Region          0\nRegions-ID      0\nKV              0\nKreistyp        0\nWert            0\nBundeswert      0\nCOmean        391\nNOmean        348\nNO2mean       348\nNOxmean       350\nO3mean        350\nPM1mean       352\nPM2mean       383\nPM10mean      402\nSO2mean       373\nCHBmean       391\nCH4mean       402\nC8H10mean     402\nCHTmean       391\nCO2mean       402\ndtype: int64"
                    }, 
                    "output_type": "execute_result"
                }
            ], 
            "source": "ListOfPollutants = ['CO','NO','NO2','NOx','O3','PM1','PM2', 'PM10', 'SO2', 'CHB', 'CH4', 'C8H10', 'CHT', 'CO2']\n\nfor pollutant in ListOfPollutants:\n    ColIndex=pollutant+'mean'\n    dfDisease[ColIndex] =dfDisease.apply(lambda x: MeanByPollutantCountyID(pollutant, x['Regions-ID']), axis=1)\n    \n#dfDisease.head(53)\ndfDisease.isna().sum()    "
        }, 
        {
            "source": "From the table above one can see, that only 5 pollutants (*NO, NO2, NOx, O3, PM1*) were measured in about a half of German counties (total number of counties mentioned in the *heart failures* and *asthma bronchiale* datasets is 402). Let's take a look, in how many counties all 6 pollutants were measured simultaneously:", 
            "cell_type": "markdown", 
            "metadata": {}
        }, 
        {
            "execution_count": 23, 
            "cell_type": "code", 
            "metadata": {}, 
            "outputs": [], 
            "source": "FeatureSetDenseMean = dfDisease[['Regions-ID','Wert','NOmean','NO2mean','NOxmean','O3mean','PM1mean']].dropna().reset_index(drop=True)\nFeatureSetDenseMean.columns=['CountyID','DiseaseR','NOmean','NO2mean','NOxmean','O3mean','PM1mean']"
        }, 
        {
            "execution_count": 24, 
            "cell_type": "code", 
            "metadata": {}, 
            "outputs": [
                {
                    "execution_count": 24, 
                    "metadata": {}, 
                    "data": {
                        "text/html": "<div>\n<style scoped>\n    .dataframe tbody tr th:only-of-type {\n        vertical-align: middle;\n    }\n\n    .dataframe tbody tr th {\n        vertical-align: top;\n    }\n\n    .dataframe thead th {\n        text-align: right;\n    }\n</style>\n<table border=\"1\" class=\"dataframe\">\n  <thead>\n    <tr style=\"text-align: right;\">\n      <th></th>\n      <th>CountyID</th>\n      <th>DiseaseR</th>\n      <th>NOmean</th>\n      <th>NO2mean</th>\n      <th>NOxmean</th>\n      <th>O3mean</th>\n      <th>PM1mean</th>\n    </tr>\n  </thead>\n  <tbody>\n    <tr>\n      <th>count</th>\n      <td>41.000000</td>\n      <td>41.000000</td>\n      <td>41.000000</td>\n      <td>41.000000</td>\n      <td>41.000000</td>\n      <td>41.000000</td>\n      <td>41.000000</td>\n    </tr>\n    <tr>\n      <th>mean</th>\n      <td>12808.853659</td>\n      <td>5.892683</td>\n      <td>10.915176</td>\n      <td>16.879199</td>\n      <td>32.991759</td>\n      <td>50.300838</td>\n      <td>15.403850</td>\n    </tr>\n    <tr>\n      <th>std</th>\n      <td>5116.970830</td>\n      <td>1.083834</td>\n      <td>12.508702</td>\n      <td>9.244565</td>\n      <td>28.075284</td>\n      <td>8.834913</td>\n      <td>3.595645</td>\n    </tr>\n    <tr>\n      <th>min</th>\n      <td>1002.000000</td>\n      <td>4.200000</td>\n      <td>0.163299</td>\n      <td>2.155348</td>\n      <td>2.637490</td>\n      <td>40.642753</td>\n      <td>7.460854</td>\n    </tr>\n    <tr>\n      <th>25%</th>\n      <td>14521.000000</td>\n      <td>5.200000</td>\n      <td>2.047583</td>\n      <td>9.932120</td>\n      <td>12.899541</td>\n      <td>44.599687</td>\n      <td>12.520184</td>\n    </tr>\n    <tr>\n      <th>50%</th>\n      <td>15003.000000</td>\n      <td>5.700000</td>\n      <td>6.803691</td>\n      <td>15.297707</td>\n      <td>25.471797</td>\n      <td>48.419621</td>\n      <td>15.508504</td>\n    </tr>\n    <tr>\n      <th>75%</th>\n      <td>16053.000000</td>\n      <td>6.700000</td>\n      <td>16.378347</td>\n      <td>21.588235</td>\n      <td>41.774936</td>\n      <td>52.279996</td>\n      <td>18.206161</td>\n    </tr>\n    <tr>\n      <th>max</th>\n      <td>16077.000000</td>\n      <td>8.700000</td>\n      <td>58.916103</td>\n      <td>41.784301</td>\n      <td>132.030190</td>\n      <td>83.072606</td>\n      <td>21.824518</td>\n    </tr>\n  </tbody>\n</table>\n</div>", 
                        "text/plain": "           CountyID   DiseaseR     NOmean    NO2mean     NOxmean     O3mean  \\\ncount     41.000000  41.000000  41.000000  41.000000   41.000000  41.000000   \nmean   12808.853659   5.892683  10.915176  16.879199   32.991759  50.300838   \nstd     5116.970830   1.083834  12.508702   9.244565   28.075284   8.834913   \nmin     1002.000000   4.200000   0.163299   2.155348    2.637490  40.642753   \n25%    14521.000000   5.200000   2.047583   9.932120   12.899541  44.599687   \n50%    15003.000000   5.700000   6.803691  15.297707   25.471797  48.419621   \n75%    16053.000000   6.700000  16.378347  21.588235   41.774936  52.279996   \nmax    16077.000000   8.700000  58.916103  41.784301  132.030190  83.072606   \n\n         PM1mean  \ncount  41.000000  \nmean   15.403850  \nstd     3.595645  \nmin     7.460854  \n25%    12.520184  \n50%    15.508504  \n75%    18.206161  \nmax    21.824518  "
                    }, 
                    "output_type": "execute_result"
                }
            ], 
            "source": "#FeatureSetDenseMean.tail(55)\nFeatureSetDenseMean.describe()\n#FeatureSetDenseMean.isna().sum()\n#FeatureSetDenseMean['NOmean'].mean()"
        }, 
        {
            "execution_count": 25, 
            "cell_type": "code", 
            "metadata": {}, 
            "outputs": [
                {
                    "execution_count": 25, 
                    "metadata": {}, 
                    "data": {
                        "text/html": "<div>\n<style scoped>\n    .dataframe tbody tr th:only-of-type {\n        vertical-align: middle;\n    }\n\n    .dataframe tbody tr th {\n        vertical-align: top;\n    }\n\n    .dataframe thead th {\n        text-align: right;\n    }\n</style>\n<table border=\"1\" class=\"dataframe\">\n  <thead>\n    <tr style=\"text-align: right;\">\n      <th></th>\n      <th>CountyID</th>\n      <th>DiseaseR</th>\n      <th>NOmean</th>\n      <th>NO2mean</th>\n      <th>PM1mean</th>\n    </tr>\n  </thead>\n  <tbody>\n    <tr>\n      <th>count</th>\n      <td>49.000000</td>\n      <td>49.000000</td>\n      <td>49.000000</td>\n      <td>49.000000</td>\n      <td>49.000000</td>\n    </tr>\n    <tr>\n      <th>mean</th>\n      <td>12407.571429</td>\n      <td>5.875510</td>\n      <td>12.369953</td>\n      <td>18.167614</td>\n      <td>15.935149</td>\n    </tr>\n    <tr>\n      <th>std</th>\n      <td>5314.798471</td>\n      <td>1.097066</td>\n      <td>12.653499</td>\n      <td>9.226942</td>\n      <td>3.599833</td>\n    </tr>\n    <tr>\n      <th>min</th>\n      <td>1001.000000</td>\n      <td>4.200000</td>\n      <td>0.163299</td>\n      <td>2.155348</td>\n      <td>7.460854</td>\n    </tr>\n    <tr>\n      <th>25%</th>\n      <td>12065.000000</td>\n      <td>5.000000</td>\n      <td>2.246570</td>\n      <td>11.887994</td>\n      <td>13.327512</td>\n    </tr>\n    <tr>\n      <th>50%</th>\n      <td>15001.000000</td>\n      <td>5.700000</td>\n      <td>7.809633</td>\n      <td>16.773922</td>\n      <td>16.167680</td>\n    </tr>\n    <tr>\n      <th>75%</th>\n      <td>16052.000000</td>\n      <td>6.700000</td>\n      <td>16.884384</td>\n      <td>23.017952</td>\n      <td>18.558537</td>\n    </tr>\n    <tr>\n      <th>max</th>\n      <td>16077.000000</td>\n      <td>8.700000</td>\n      <td>58.916103</td>\n      <td>41.784301</td>\n      <td>22.832089</td>\n    </tr>\n  </tbody>\n</table>\n</div>", 
                        "text/plain": "           CountyID   DiseaseR     NOmean    NO2mean    PM1mean\ncount     49.000000  49.000000  49.000000  49.000000  49.000000\nmean   12407.571429   5.875510  12.369953  18.167614  15.935149\nstd     5314.798471   1.097066  12.653499   9.226942   3.599833\nmin     1001.000000   4.200000   0.163299   2.155348   7.460854\n25%    12065.000000   5.000000   2.246570  11.887994  13.327512\n50%    15001.000000   5.700000   7.809633  16.773922  16.167680\n75%    16052.000000   6.700000  16.884384  23.017952  18.558537\nmax    16077.000000   8.700000  58.916103  41.784301  22.832089"
                    }, 
                    "output_type": "execute_result"
                }
            ], 
            "source": "FeatureSetLongMean = dfDisease[['Regions-ID','Wert','NOmean','NO2mean','PM1mean']].dropna().reset_index(drop=True)\nFeatureSetLongMean.columns=['CountyID','DiseaseR','NOmean','NO2mean','PM1mean']\nFeatureSetLongMean.describe()"
        }, 
        {
            "execution_count": 26, 
            "cell_type": "code", 
            "metadata": {}, 
            "outputs": [], 
            "source": "!rm -rf Capstone.FeatureEng\n!mkdir Capstone.FeatureEng\n#FeatureSetDenseMean.to_csv('Capstone.FeatureEng/Capstone.feature_eng.DenseMean.1.0.csv', index=False)\n#FeatureSetLongMean.to_csv('Capstone.FeatureEng/Capstone.feature_eng.LongMean.1.0.csv', index=False)"
        }, 
        {
            "source": "##### Quantile-based features\n\nConstructing the global distribution of selected pollutant concentration over all counties of interest, one can find e.g. 75th quantile of this pollutant concentration distribution, and than count number of hours, when this concentration was exceeded in each county. This quantity is some generalization of the \"number of days when the pollutant limit has been exceeded\" quantity, because it tune itself to pollution levels available in the dataset.\n", 
            "cell_type": "markdown", 
            "metadata": {}
        }, 
        {
            "execution_count": 27, 
            "cell_type": "code", 
            "metadata": {}, 
            "outputs": [], 
            "source": "# Function for Croppind of initial dffAll dataset to columns reflecting measurements \n# of pollutants in ListOfPollutants at counties in ListOfCountyIDs:\ndef CropPollutantsIDsTS(ListOfPollutants, ListOfCountyIDs):\n    CountyStationSet=[]\n    dffAllCrop=pd.DataFrame(dffAll['observation_period'])\n\n    for CountyID in ListOfCountyIDs:\n        CountyStationSet.extend(SensorLocation.loc[SensorLocation['countyid']==CountyID]['SensorID'].tolist())\n    for Pollutant in ListOfPollutants:\n        PollutantMasc='^.{8}' + Pollutant + '_' \n        dffAllCrop=dffAllCrop.join(dffAll[[col for col in dffAll.columns if re.search('(^.{7})',col).group(1) in CountyStationSet]].filter(regex=PollutantMasc,axis=1))\n    return(dffAllCrop)\n\n# Function for calculating Nth percentiles for pollutants in ListOfPollutants at counties in ListOfCountyIDs:\ndef ReturnNthPercentilePollutantsIDsTS(Percentile, ListOfPollutants, ListOfCountyIDs):\n    CountyStationSet=[]\n    NthPercentile=pd.DataFrame()\n\n    for CountyID in ListOfCountyIDs:\n        CountyStationSet.extend(SensorLocation.loc[SensorLocation['countyid']==CountyID]['SensorID'].tolist())\n    for Pollutant in ListOfPollutants:\n        PollutantMasc='^.{8}' + Pollutant + '_'\n        NthPercentile[Pollutant] = [(dffAll[[col for col in dffAll.columns if re.search('(^.{7})',col).group(1) in CountyStationSet]].filter(regex=PollutantMasc,axis=1)).stack().reset_index(drop=True).quantile(Percentile/100.0)]\n    return(NthPercentile)\n\n# Function for calculating Feature matrix, containing average (over sensors) number of hours for each county, when pollutant concentration\n# was exceeding Nth global percentiles for the pollutant at counties of interest (in ListOfCountyIDs):\ndef FeatureMatrixNthPercentile(Percentile, ListOfPollutants, ListOfCountyIDs):\n    NthPercentile=ReturnNthPercentilePollutantsIDsTS(Percentile, ListOfPollutants, ListOfCountyIDs)\n    dffAllCrop=CropPollutantsIDsTS(ListOfPollutants, ListOfCountyIDs)\n\n    FeatureMatrix=pd.DataFrame({'CountyID': dfDisease.loc[dfDisease['Regions-ID'].isin(ListOfCountyIDs)]['Regions-ID'], 'DiseaseR': dfDisease.loc[dfDisease['Regions-ID'].isin(ListOfCountyIDs)]['Wert']}).reset_index(drop=True)\n    for Pollutant in ListOfPollutants:\n        PollutantHoursExceed=[]\n        PollutantMasc='^.{8}' + Pollutant + '_'\n        for CountyID in ListOfCountyIDs:\n            CountyStationSet=[]\n            CountyStationSet.extend(SensorLocation.loc[SensorLocation['countyid']==CountyID]['SensorID'].tolist())\n\n            dffPollutantCounty = dffAllCrop[[col for col in dffAllCrop.columns if re.search('(^.{7})',col).group(1) in CountyStationSet]].filter(regex=PollutantMasc,axis=1)\n            NumPollutantStationsAtCounty = dffPollutantCounty.shape[1]\n            PollutantHoursExceed.append((dffPollutantCounty.stack().reset_index(drop=True)>NthPercentile[Pollutant][0]).reset_index(drop=True).sum()/NumPollutantStationsAtCounty)\n        FeatureMatrix = FeatureMatrix.reset_index(drop=True).join(pd.DataFrame({Pollutant : PollutantHoursExceed}))        \n    return(FeatureMatrix)"
        }, 
        {
            "execution_count": 28, 
            "cell_type": "code", 
            "metadata": {}, 
            "outputs": [
                {
                    "ename": "KeyboardInterrupt", 
                    "evalue": "", 
                    "traceback": [
                        "\u001b[0;31m---------------------------------------------------------------------------\u001b[0m", 
                        "\u001b[0;31mKeyboardInterrupt\u001b[0m                         Traceback (most recent call last)", 
                        "\u001b[0;32m<ipython-input-28-ec5c45369d2b>\u001b[0m in \u001b[0;36m<module>\u001b[0;34m\u001b[0m\n\u001b[1;32m      1\u001b[0m \u001b[0mListOfPollutantsDense\u001b[0m \u001b[0;34m=\u001b[0m \u001b[0;34m[\u001b[0m\u001b[0;34m'NO'\u001b[0m\u001b[0;34m,\u001b[0m\u001b[0;34m'NO2'\u001b[0m\u001b[0;34m,\u001b[0m\u001b[0;34m'NOx'\u001b[0m\u001b[0;34m,\u001b[0m\u001b[0;34m'O3'\u001b[0m\u001b[0;34m,\u001b[0m\u001b[0;34m'PM1'\u001b[0m\u001b[0;34m]\u001b[0m\u001b[0;34m\u001b[0m\u001b[0;34m\u001b[0m\u001b[0m\n\u001b[1;32m      2\u001b[0m \u001b[0mListOfCountyIDsDense\u001b[0m \u001b[0;34m=\u001b[0m \u001b[0mFeatureSetDenseMean\u001b[0m\u001b[0;34m[\u001b[0m\u001b[0;34m'CountyID'\u001b[0m\u001b[0;34m]\u001b[0m\u001b[0;34m\u001b[0m\u001b[0;34m\u001b[0m\u001b[0m\n\u001b[0;32m----> 3\u001b[0;31m \u001b[0mFeatureSetDensePerc50\u001b[0m \u001b[0;34m=\u001b[0m \u001b[0mFeatureMatrixNthPercentile\u001b[0m\u001b[0;34m(\u001b[0m\u001b[0;36m50\u001b[0m\u001b[0;34m,\u001b[0m \u001b[0mListOfPollutantsDense\u001b[0m\u001b[0;34m,\u001b[0m \u001b[0mListOfCountyIDsDense\u001b[0m\u001b[0;34m)\u001b[0m\u001b[0;34m\u001b[0m\u001b[0;34m\u001b[0m\u001b[0m\n\u001b[0m\u001b[1;32m      4\u001b[0m \u001b[0mFeatureSetDensePerc75\u001b[0m \u001b[0;34m=\u001b[0m \u001b[0mFeatureMatrixNthPercentile\u001b[0m\u001b[0;34m(\u001b[0m\u001b[0;36m75\u001b[0m\u001b[0;34m,\u001b[0m \u001b[0mListOfPollutantsDense\u001b[0m\u001b[0;34m,\u001b[0m \u001b[0mListOfCountyIDsDense\u001b[0m\u001b[0;34m)\u001b[0m\u001b[0;34m\u001b[0m\u001b[0;34m\u001b[0m\u001b[0m\n\u001b[1;32m      5\u001b[0m \u001b[0;34m\u001b[0m\u001b[0m\n", 
                        "\u001b[0;32m<ipython-input-27-55bb964f031c>\u001b[0m in \u001b[0;36mFeatureMatrixNthPercentile\u001b[0;34m(Percentile, ListOfPollutants, ListOfCountyIDs)\u001b[0m\n\u001b[1;32m     28\u001b[0m \u001b[0;32mdef\u001b[0m \u001b[0mFeatureMatrixNthPercentile\u001b[0m\u001b[0;34m(\u001b[0m\u001b[0mPercentile\u001b[0m\u001b[0;34m,\u001b[0m \u001b[0mListOfPollutants\u001b[0m\u001b[0;34m,\u001b[0m \u001b[0mListOfCountyIDs\u001b[0m\u001b[0;34m)\u001b[0m\u001b[0;34m:\u001b[0m\u001b[0;34m\u001b[0m\u001b[0;34m\u001b[0m\u001b[0m\n\u001b[1;32m     29\u001b[0m     \u001b[0mNthPercentile\u001b[0m\u001b[0;34m=\u001b[0m\u001b[0mReturnNthPercentilePollutantsIDsTS\u001b[0m\u001b[0;34m(\u001b[0m\u001b[0mPercentile\u001b[0m\u001b[0;34m,\u001b[0m \u001b[0mListOfPollutants\u001b[0m\u001b[0;34m,\u001b[0m \u001b[0mListOfCountyIDs\u001b[0m\u001b[0;34m)\u001b[0m\u001b[0;34m\u001b[0m\u001b[0;34m\u001b[0m\u001b[0m\n\u001b[0;32m---> 30\u001b[0;31m     \u001b[0mdffAllCrop\u001b[0m\u001b[0;34m=\u001b[0m\u001b[0mCropPollutantsIDsTS\u001b[0m\u001b[0;34m(\u001b[0m\u001b[0mListOfPollutants\u001b[0m\u001b[0;34m,\u001b[0m \u001b[0mListOfCountyIDs\u001b[0m\u001b[0;34m)\u001b[0m\u001b[0;34m\u001b[0m\u001b[0;34m\u001b[0m\u001b[0m\n\u001b[0m\u001b[1;32m     31\u001b[0m \u001b[0;34m\u001b[0m\u001b[0m\n\u001b[1;32m     32\u001b[0m     \u001b[0mFeatureMatrix\u001b[0m\u001b[0;34m=\u001b[0m\u001b[0mpd\u001b[0m\u001b[0;34m.\u001b[0m\u001b[0mDataFrame\u001b[0m\u001b[0;34m(\u001b[0m\u001b[0;34m{\u001b[0m\u001b[0;34m'CountyID'\u001b[0m\u001b[0;34m:\u001b[0m \u001b[0mdfDisease\u001b[0m\u001b[0;34m.\u001b[0m\u001b[0mloc\u001b[0m\u001b[0;34m[\u001b[0m\u001b[0mdfDisease\u001b[0m\u001b[0;34m[\u001b[0m\u001b[0;34m'Regions-ID'\u001b[0m\u001b[0;34m]\u001b[0m\u001b[0;34m.\u001b[0m\u001b[0misin\u001b[0m\u001b[0;34m(\u001b[0m\u001b[0mListOfCountyIDs\u001b[0m\u001b[0;34m)\u001b[0m\u001b[0;34m]\u001b[0m\u001b[0;34m[\u001b[0m\u001b[0;34m'Regions-ID'\u001b[0m\u001b[0;34m]\u001b[0m\u001b[0;34m,\u001b[0m \u001b[0;34m'DiseaseR'\u001b[0m\u001b[0;34m:\u001b[0m \u001b[0mdfDisease\u001b[0m\u001b[0;34m.\u001b[0m\u001b[0mloc\u001b[0m\u001b[0;34m[\u001b[0m\u001b[0mdfDisease\u001b[0m\u001b[0;34m[\u001b[0m\u001b[0;34m'Regions-ID'\u001b[0m\u001b[0;34m]\u001b[0m\u001b[0;34m.\u001b[0m\u001b[0misin\u001b[0m\u001b[0;34m(\u001b[0m\u001b[0mListOfCountyIDs\u001b[0m\u001b[0;34m)\u001b[0m\u001b[0;34m]\u001b[0m\u001b[0;34m[\u001b[0m\u001b[0;34m'Wert'\u001b[0m\u001b[0;34m]\u001b[0m\u001b[0;34m}\u001b[0m\u001b[0;34m)\u001b[0m\u001b[0;34m.\u001b[0m\u001b[0mreset_index\u001b[0m\u001b[0;34m(\u001b[0m\u001b[0mdrop\u001b[0m\u001b[0;34m=\u001b[0m\u001b[0;32mTrue\u001b[0m\u001b[0;34m)\u001b[0m\u001b[0;34m\u001b[0m\u001b[0;34m\u001b[0m\u001b[0m\n", 
                        "\u001b[0;32m<ipython-input-27-55bb964f031c>\u001b[0m in \u001b[0;36mCropPollutantsIDsTS\u001b[0;34m(ListOfPollutants, ListOfCountyIDs)\u001b[0m\n\u001b[1;32m      9\u001b[0m     \u001b[0;32mfor\u001b[0m \u001b[0mPollutant\u001b[0m \u001b[0;32min\u001b[0m \u001b[0mListOfPollutants\u001b[0m\u001b[0;34m:\u001b[0m\u001b[0;34m\u001b[0m\u001b[0;34m\u001b[0m\u001b[0m\n\u001b[1;32m     10\u001b[0m         \u001b[0mPollutantMasc\u001b[0m\u001b[0;34m=\u001b[0m\u001b[0;34m'^.{8}'\u001b[0m \u001b[0;34m+\u001b[0m \u001b[0mPollutant\u001b[0m \u001b[0;34m+\u001b[0m \u001b[0;34m'_'\u001b[0m\u001b[0;34m\u001b[0m\u001b[0;34m\u001b[0m\u001b[0m\n\u001b[0;32m---> 11\u001b[0;31m         \u001b[0mdffAllCrop\u001b[0m\u001b[0;34m=\u001b[0m\u001b[0mdffAllCrop\u001b[0m\u001b[0;34m.\u001b[0m\u001b[0mjoin\u001b[0m\u001b[0;34m(\u001b[0m\u001b[0mdffAll\u001b[0m\u001b[0;34m[\u001b[0m\u001b[0;34m[\u001b[0m\u001b[0mcol\u001b[0m \u001b[0;32mfor\u001b[0m \u001b[0mcol\u001b[0m \u001b[0;32min\u001b[0m \u001b[0mdffAll\u001b[0m\u001b[0;34m.\u001b[0m\u001b[0mcolumns\u001b[0m \u001b[0;32mif\u001b[0m \u001b[0mre\u001b[0m\u001b[0;34m.\u001b[0m\u001b[0msearch\u001b[0m\u001b[0;34m(\u001b[0m\u001b[0;34m'(^.{7})'\u001b[0m\u001b[0;34m,\u001b[0m\u001b[0mcol\u001b[0m\u001b[0;34m)\u001b[0m\u001b[0;34m.\u001b[0m\u001b[0mgroup\u001b[0m\u001b[0;34m(\u001b[0m\u001b[0;36m1\u001b[0m\u001b[0;34m)\u001b[0m \u001b[0;32min\u001b[0m \u001b[0mCountyStationSet\u001b[0m\u001b[0;34m]\u001b[0m\u001b[0;34m]\u001b[0m\u001b[0;34m.\u001b[0m\u001b[0mfilter\u001b[0m\u001b[0;34m(\u001b[0m\u001b[0mregex\u001b[0m\u001b[0;34m=\u001b[0m\u001b[0mPollutantMasc\u001b[0m\u001b[0;34m,\u001b[0m\u001b[0maxis\u001b[0m\u001b[0;34m=\u001b[0m\u001b[0;36m1\u001b[0m\u001b[0;34m)\u001b[0m\u001b[0;34m)\u001b[0m\u001b[0;34m\u001b[0m\u001b[0;34m\u001b[0m\u001b[0m\n\u001b[0m\u001b[1;32m     12\u001b[0m     \u001b[0;32mreturn\u001b[0m\u001b[0;34m(\u001b[0m\u001b[0mdffAllCrop\u001b[0m\u001b[0;34m)\u001b[0m\u001b[0;34m\u001b[0m\u001b[0;34m\u001b[0m\u001b[0m\n\u001b[1;32m     13\u001b[0m \u001b[0;34m\u001b[0m\u001b[0m\n", 
                        "\u001b[0;32m/opt/conda/envs/Python36/lib/python3.6/site-packages/pandas/core/frame.py\u001b[0m in \u001b[0;36mjoin\u001b[0;34m(self, other, on, how, lsuffix, rsuffix, sort)\u001b[0m\n\u001b[1;32m   6813\u001b[0m         \u001b[0;31m# For SparseDataFrame's benefit\u001b[0m\u001b[0;34m\u001b[0m\u001b[0;34m\u001b[0m\u001b[0;34m\u001b[0m\u001b[0m\n\u001b[1;32m   6814\u001b[0m         return self._join_compat(other, on=on, how=how, lsuffix=lsuffix,\n\u001b[0;32m-> 6815\u001b[0;31m                                  rsuffix=rsuffix, sort=sort)\n\u001b[0m\u001b[1;32m   6816\u001b[0m \u001b[0;34m\u001b[0m\u001b[0m\n\u001b[1;32m   6817\u001b[0m     def _join_compat(self, other, on=None, how='left', lsuffix='', rsuffix='',\n", 
                        "\u001b[0;32m/opt/conda/envs/Python36/lib/python3.6/site-packages/pandas/core/frame.py\u001b[0m in \u001b[0;36m_join_compat\u001b[0;34m(self, other, on, how, lsuffix, rsuffix, sort)\u001b[0m\n\u001b[1;32m   6828\u001b[0m             return merge(self, other, left_on=on, how=how,\n\u001b[1;32m   6829\u001b[0m                          \u001b[0mleft_index\u001b[0m\u001b[0;34m=\u001b[0m\u001b[0mon\u001b[0m \u001b[0;32mis\u001b[0m \u001b[0;32mNone\u001b[0m\u001b[0;34m,\u001b[0m \u001b[0mright_index\u001b[0m\u001b[0;34m=\u001b[0m\u001b[0;32mTrue\u001b[0m\u001b[0;34m,\u001b[0m\u001b[0;34m\u001b[0m\u001b[0;34m\u001b[0m\u001b[0m\n\u001b[0;32m-> 6830\u001b[0;31m                          suffixes=(lsuffix, rsuffix), sort=sort)\n\u001b[0m\u001b[1;32m   6831\u001b[0m         \u001b[0;32melse\u001b[0m\u001b[0;34m:\u001b[0m\u001b[0;34m\u001b[0m\u001b[0;34m\u001b[0m\u001b[0m\n\u001b[1;32m   6832\u001b[0m             \u001b[0;32mif\u001b[0m \u001b[0mon\u001b[0m \u001b[0;32mis\u001b[0m \u001b[0;32mnot\u001b[0m \u001b[0;32mNone\u001b[0m\u001b[0;34m:\u001b[0m\u001b[0;34m\u001b[0m\u001b[0;34m\u001b[0m\u001b[0m\n", 
                        "\u001b[0;32m/opt/conda/envs/Python36/lib/python3.6/site-packages/pandas/core/reshape/merge.py\u001b[0m in \u001b[0;36mmerge\u001b[0;34m(left, right, how, on, left_on, right_on, left_index, right_index, sort, suffixes, copy, indicator, validate)\u001b[0m\n\u001b[1;32m     46\u001b[0m                          \u001b[0mcopy\u001b[0m\u001b[0;34m=\u001b[0m\u001b[0mcopy\u001b[0m\u001b[0;34m,\u001b[0m \u001b[0mindicator\u001b[0m\u001b[0;34m=\u001b[0m\u001b[0mindicator\u001b[0m\u001b[0;34m,\u001b[0m\u001b[0;34m\u001b[0m\u001b[0;34m\u001b[0m\u001b[0m\n\u001b[1;32m     47\u001b[0m                          validate=validate)\n\u001b[0;32m---> 48\u001b[0;31m     \u001b[0;32mreturn\u001b[0m \u001b[0mop\u001b[0m\u001b[0;34m.\u001b[0m\u001b[0mget_result\u001b[0m\u001b[0;34m(\u001b[0m\u001b[0;34m)\u001b[0m\u001b[0;34m\u001b[0m\u001b[0;34m\u001b[0m\u001b[0m\n\u001b[0m\u001b[1;32m     49\u001b[0m \u001b[0;34m\u001b[0m\u001b[0m\n\u001b[1;32m     50\u001b[0m \u001b[0;34m\u001b[0m\u001b[0m\n", 
                        "\u001b[0;32m/opt/conda/envs/Python36/lib/python3.6/site-packages/pandas/core/reshape/merge.py\u001b[0m in \u001b[0;36mget_result\u001b[0;34m(self)\u001b[0m\n\u001b[1;32m    558\u001b[0m             \u001b[0;34m[\u001b[0m\u001b[0;34m(\u001b[0m\u001b[0mldata\u001b[0m\u001b[0;34m,\u001b[0m \u001b[0mlindexers\u001b[0m\u001b[0;34m)\u001b[0m\u001b[0;34m,\u001b[0m \u001b[0;34m(\u001b[0m\u001b[0mrdata\u001b[0m\u001b[0;34m,\u001b[0m \u001b[0mrindexers\u001b[0m\u001b[0;34m)\u001b[0m\u001b[0;34m]\u001b[0m\u001b[0;34m,\u001b[0m\u001b[0;34m\u001b[0m\u001b[0;34m\u001b[0m\u001b[0m\n\u001b[1;32m    559\u001b[0m             \u001b[0maxes\u001b[0m\u001b[0;34m=\u001b[0m\u001b[0;34m[\u001b[0m\u001b[0mllabels\u001b[0m\u001b[0;34m.\u001b[0m\u001b[0mappend\u001b[0m\u001b[0;34m(\u001b[0m\u001b[0mrlabels\u001b[0m\u001b[0;34m)\u001b[0m\u001b[0;34m,\u001b[0m \u001b[0mjoin_index\u001b[0m\u001b[0;34m]\u001b[0m\u001b[0;34m,\u001b[0m\u001b[0;34m\u001b[0m\u001b[0;34m\u001b[0m\u001b[0m\n\u001b[0;32m--> 560\u001b[0;31m             concat_axis=0, copy=self.copy)\n\u001b[0m\u001b[1;32m    561\u001b[0m \u001b[0;34m\u001b[0m\u001b[0m\n\u001b[1;32m    562\u001b[0m         \u001b[0mtyp\u001b[0m \u001b[0;34m=\u001b[0m \u001b[0mself\u001b[0m\u001b[0;34m.\u001b[0m\u001b[0mleft\u001b[0m\u001b[0;34m.\u001b[0m\u001b[0m_constructor\u001b[0m\u001b[0;34m\u001b[0m\u001b[0;34m\u001b[0m\u001b[0m\n", 
                        "\u001b[0;32m/opt/conda/envs/Python36/lib/python3.6/site-packages/pandas/core/internals/managers.py\u001b[0m in \u001b[0;36mconcatenate_block_managers\u001b[0;34m(mgrs_indexers, axes, concat_axis, copy)\u001b[0m\n\u001b[1;32m   2050\u001b[0m             \u001b[0mvalues\u001b[0m \u001b[0;34m=\u001b[0m \u001b[0mb\u001b[0m\u001b[0;34m.\u001b[0m\u001b[0mvalues\u001b[0m\u001b[0;34m\u001b[0m\u001b[0;34m\u001b[0m\u001b[0m\n\u001b[1;32m   2051\u001b[0m             \u001b[0;32mif\u001b[0m \u001b[0mcopy\u001b[0m\u001b[0;34m:\u001b[0m\u001b[0;34m\u001b[0m\u001b[0;34m\u001b[0m\u001b[0m\n\u001b[0;32m-> 2052\u001b[0;31m                 \u001b[0mvalues\u001b[0m \u001b[0;34m=\u001b[0m \u001b[0mvalues\u001b[0m\u001b[0;34m.\u001b[0m\u001b[0mcopy\u001b[0m\u001b[0;34m(\u001b[0m\u001b[0;34m)\u001b[0m\u001b[0;34m\u001b[0m\u001b[0;34m\u001b[0m\u001b[0m\n\u001b[0m\u001b[1;32m   2053\u001b[0m             \u001b[0;32melif\u001b[0m \u001b[0;32mnot\u001b[0m \u001b[0mcopy\u001b[0m\u001b[0;34m:\u001b[0m\u001b[0;34m\u001b[0m\u001b[0;34m\u001b[0m\u001b[0m\n\u001b[1;32m   2054\u001b[0m                 \u001b[0mvalues\u001b[0m \u001b[0;34m=\u001b[0m \u001b[0mvalues\u001b[0m\u001b[0;34m.\u001b[0m\u001b[0mview\u001b[0m\u001b[0;34m(\u001b[0m\u001b[0;34m)\u001b[0m\u001b[0;34m\u001b[0m\u001b[0;34m\u001b[0m\u001b[0m\n", 
                        "\u001b[0;31mKeyboardInterrupt\u001b[0m: "
                    ], 
                    "output_type": "error"
                }
            ], 
            "source": "ListOfPollutantsDense = ['NO','NO2','NOx','O3','PM1']\nListOfCountyIDsDense = FeatureSetDenseMean['CountyID']\nFeatureSetDensePerc50 = FeatureMatrixNthPercentile(50, ListOfPollutantsDense, ListOfCountyIDsDense)\nFeatureSetDensePerc75 = FeatureMatrixNthPercentile(75, ListOfPollutantsDense, ListOfCountyIDsDense)\n\nListOfPollutantsLong = ['NO','NO2','PM1']\nListOfCountyIDsLong = FeatureSetLongMean['CountyID']\nFeatureSetLongPerc50 = FeatureMatrixNthPercentile(50, ListOfPollutantsLong, ListOfCountyIDsLong)\nFeatureSetLongPerc75 = FeatureMatrixNthPercentile(75, ListOfPollutantsLong, ListOfCountyIDsLong)\n\n#FeatureSetDensePerc50.to_csv('Capstone.FeatureEng/Capstone.feature_eng.DensePerc50.1.0.csv', index=False)\n#FeatureSetDensePerc75.to_csv('Capstone.FeatureEng/Capstone.feature_eng.DensePerc75.1.0.csv', index=False)\n\n#FeatureSetLongPerc50.to_csv('Capstone.FeatureEng/Capstone.feature_eng.LongPerc50.1.0.csv', index=False)\n#FeatureSetLongPerc75.to_csv('Capstone.FeatureEng/Capstone.feature_eng.LongPerc75.1.0.csv', index=False)"
        }, 
        {
            "source": "### Logistic Regression", 
            "cell_type": "markdown", 
            "metadata": {}
        }, 
        {
            "execution_count": 3, 
            "cell_type": "code", 
            "metadata": {}, 
            "outputs": [
                {
                    "ename": "FileNotFoundError", 
                    "evalue": "[Errno 2] File b'Capstone.FeatureEng/Capstone.feature_eng.DenseMean.1.0.csv' does not exist: b'Capstone.FeatureEng/Capstone.feature_eng.DenseMean.1.0.csv'", 
                    "traceback": [
                        "\u001b[0;31m---------------------------------------------------------------------------\u001b[0m", 
                        "\u001b[0;31mFileNotFoundError\u001b[0m                         Traceback (most recent call last)", 
                        "\u001b[0;32m<ipython-input-3-0b1b68e3299c>\u001b[0m in \u001b[0;36m<module>\u001b[0;34m()\u001b[0m\n\u001b[1;32m     15\u001b[0m \u001b[0;34m\u001b[0m\u001b[0m\n\u001b[1;32m     16\u001b[0m \u001b[0;34m\u001b[0m\u001b[0m\n\u001b[0;32m---> 17\u001b[0;31m \u001b[0mFeatureSetDenseMean\u001b[0m \u001b[0;34m=\u001b[0m \u001b[0mpd\u001b[0m\u001b[0;34m.\u001b[0m\u001b[0mread_csv\u001b[0m\u001b[0;34m(\u001b[0m\u001b[0;34m'Capstone.FeatureEng/Capstone.feature_eng.DenseMean.1.0.csv'\u001b[0m\u001b[0;34m,\u001b[0m \u001b[0mindex_col\u001b[0m\u001b[0;34m=\u001b[0m\u001b[0;32mNone\u001b[0m\u001b[0;34m)\u001b[0m\u001b[0;34m\u001b[0m\u001b[0;34m\u001b[0m\u001b[0m\n\u001b[0m\u001b[1;32m     18\u001b[0m \u001b[0mFeatureSetLongMean\u001b[0m \u001b[0;34m=\u001b[0m \u001b[0mpd\u001b[0m\u001b[0;34m.\u001b[0m\u001b[0mread_csv\u001b[0m\u001b[0;34m(\u001b[0m\u001b[0;34m'Capstone.FeatureEng/Capstone.feature_eng.LongMean.1.0.csv'\u001b[0m\u001b[0;34m,\u001b[0m \u001b[0mindex_col\u001b[0m\u001b[0;34m=\u001b[0m\u001b[0;32mNone\u001b[0m\u001b[0;34m)\u001b[0m\u001b[0;34m\u001b[0m\u001b[0;34m\u001b[0m\u001b[0m\n\u001b[1;32m     19\u001b[0m \u001b[0;34m\u001b[0m\u001b[0m\n", 
                        "\u001b[0;32m/opt/ibm/conda/miniconda36/lib/python3.6/site-packages/pandas/io/parsers.py\u001b[0m in \u001b[0;36mparser_f\u001b[0;34m(filepath_or_buffer, sep, delimiter, header, names, index_col, usecols, squeeze, prefix, mangle_dupe_cols, dtype, engine, converters, true_values, false_values, skipinitialspace, skiprows, skipfooter, nrows, na_values, keep_default_na, na_filter, verbose, skip_blank_lines, parse_dates, infer_datetime_format, keep_date_col, date_parser, dayfirst, iterator, chunksize, compression, thousands, decimal, lineterminator, quotechar, quoting, doublequote, escapechar, comment, encoding, dialect, tupleize_cols, error_bad_lines, warn_bad_lines, delim_whitespace, low_memory, memory_map, float_precision)\u001b[0m\n\u001b[1;32m    700\u001b[0m                     skip_blank_lines=skip_blank_lines)\n\u001b[1;32m    701\u001b[0m \u001b[0;34m\u001b[0m\u001b[0m\n\u001b[0;32m--> 702\u001b[0;31m         \u001b[0;32mreturn\u001b[0m \u001b[0m_read\u001b[0m\u001b[0;34m(\u001b[0m\u001b[0mfilepath_or_buffer\u001b[0m\u001b[0;34m,\u001b[0m \u001b[0mkwds\u001b[0m\u001b[0;34m)\u001b[0m\u001b[0;34m\u001b[0m\u001b[0;34m\u001b[0m\u001b[0m\n\u001b[0m\u001b[1;32m    703\u001b[0m \u001b[0;34m\u001b[0m\u001b[0m\n\u001b[1;32m    704\u001b[0m     \u001b[0mparser_f\u001b[0m\u001b[0;34m.\u001b[0m\u001b[0m__name__\u001b[0m \u001b[0;34m=\u001b[0m \u001b[0mname\u001b[0m\u001b[0;34m\u001b[0m\u001b[0;34m\u001b[0m\u001b[0m\n", 
                        "\u001b[0;32m/opt/ibm/conda/miniconda36/lib/python3.6/site-packages/pandas/io/parsers.py\u001b[0m in \u001b[0;36m_read\u001b[0;34m(filepath_or_buffer, kwds)\u001b[0m\n\u001b[1;32m    427\u001b[0m \u001b[0;34m\u001b[0m\u001b[0m\n\u001b[1;32m    428\u001b[0m     \u001b[0;31m# Create the parser.\u001b[0m\u001b[0;34m\u001b[0m\u001b[0;34m\u001b[0m\u001b[0;34m\u001b[0m\u001b[0m\n\u001b[0;32m--> 429\u001b[0;31m     \u001b[0mparser\u001b[0m \u001b[0;34m=\u001b[0m \u001b[0mTextFileReader\u001b[0m\u001b[0;34m(\u001b[0m\u001b[0mfilepath_or_buffer\u001b[0m\u001b[0;34m,\u001b[0m \u001b[0;34m**\u001b[0m\u001b[0mkwds\u001b[0m\u001b[0;34m)\u001b[0m\u001b[0;34m\u001b[0m\u001b[0;34m\u001b[0m\u001b[0m\n\u001b[0m\u001b[1;32m    430\u001b[0m \u001b[0;34m\u001b[0m\u001b[0m\n\u001b[1;32m    431\u001b[0m     \u001b[0;32mif\u001b[0m \u001b[0mchunksize\u001b[0m \u001b[0;32mor\u001b[0m \u001b[0miterator\u001b[0m\u001b[0;34m:\u001b[0m\u001b[0;34m\u001b[0m\u001b[0;34m\u001b[0m\u001b[0m\n", 
                        "\u001b[0;32m/opt/ibm/conda/miniconda36/lib/python3.6/site-packages/pandas/io/parsers.py\u001b[0m in \u001b[0;36m__init__\u001b[0;34m(self, f, engine, **kwds)\u001b[0m\n\u001b[1;32m    893\u001b[0m             \u001b[0mself\u001b[0m\u001b[0;34m.\u001b[0m\u001b[0moptions\u001b[0m\u001b[0;34m[\u001b[0m\u001b[0;34m'has_index_names'\u001b[0m\u001b[0;34m]\u001b[0m \u001b[0;34m=\u001b[0m \u001b[0mkwds\u001b[0m\u001b[0;34m[\u001b[0m\u001b[0;34m'has_index_names'\u001b[0m\u001b[0;34m]\u001b[0m\u001b[0;34m\u001b[0m\u001b[0;34m\u001b[0m\u001b[0m\n\u001b[1;32m    894\u001b[0m \u001b[0;34m\u001b[0m\u001b[0m\n\u001b[0;32m--> 895\u001b[0;31m         \u001b[0mself\u001b[0m\u001b[0;34m.\u001b[0m\u001b[0m_make_engine\u001b[0m\u001b[0;34m(\u001b[0m\u001b[0mself\u001b[0m\u001b[0;34m.\u001b[0m\u001b[0mengine\u001b[0m\u001b[0;34m)\u001b[0m\u001b[0;34m\u001b[0m\u001b[0;34m\u001b[0m\u001b[0m\n\u001b[0m\u001b[1;32m    896\u001b[0m \u001b[0;34m\u001b[0m\u001b[0m\n\u001b[1;32m    897\u001b[0m     \u001b[0;32mdef\u001b[0m \u001b[0mclose\u001b[0m\u001b[0;34m(\u001b[0m\u001b[0mself\u001b[0m\u001b[0;34m)\u001b[0m\u001b[0;34m:\u001b[0m\u001b[0;34m\u001b[0m\u001b[0;34m\u001b[0m\u001b[0m\n", 
                        "\u001b[0;32m/opt/ibm/conda/miniconda36/lib/python3.6/site-packages/pandas/io/parsers.py\u001b[0m in \u001b[0;36m_make_engine\u001b[0;34m(self, engine)\u001b[0m\n\u001b[1;32m   1120\u001b[0m     \u001b[0;32mdef\u001b[0m \u001b[0m_make_engine\u001b[0m\u001b[0;34m(\u001b[0m\u001b[0mself\u001b[0m\u001b[0;34m,\u001b[0m \u001b[0mengine\u001b[0m\u001b[0;34m=\u001b[0m\u001b[0;34m'c'\u001b[0m\u001b[0;34m)\u001b[0m\u001b[0;34m:\u001b[0m\u001b[0;34m\u001b[0m\u001b[0;34m\u001b[0m\u001b[0m\n\u001b[1;32m   1121\u001b[0m         \u001b[0;32mif\u001b[0m \u001b[0mengine\u001b[0m \u001b[0;34m==\u001b[0m \u001b[0;34m'c'\u001b[0m\u001b[0;34m:\u001b[0m\u001b[0;34m\u001b[0m\u001b[0;34m\u001b[0m\u001b[0m\n\u001b[0;32m-> 1122\u001b[0;31m             \u001b[0mself\u001b[0m\u001b[0;34m.\u001b[0m\u001b[0m_engine\u001b[0m \u001b[0;34m=\u001b[0m \u001b[0mCParserWrapper\u001b[0m\u001b[0;34m(\u001b[0m\u001b[0mself\u001b[0m\u001b[0;34m.\u001b[0m\u001b[0mf\u001b[0m\u001b[0;34m,\u001b[0m \u001b[0;34m**\u001b[0m\u001b[0mself\u001b[0m\u001b[0;34m.\u001b[0m\u001b[0moptions\u001b[0m\u001b[0;34m)\u001b[0m\u001b[0;34m\u001b[0m\u001b[0;34m\u001b[0m\u001b[0m\n\u001b[0m\u001b[1;32m   1123\u001b[0m         \u001b[0;32melse\u001b[0m\u001b[0;34m:\u001b[0m\u001b[0;34m\u001b[0m\u001b[0;34m\u001b[0m\u001b[0m\n\u001b[1;32m   1124\u001b[0m             \u001b[0;32mif\u001b[0m \u001b[0mengine\u001b[0m \u001b[0;34m==\u001b[0m \u001b[0;34m'python'\u001b[0m\u001b[0;34m:\u001b[0m\u001b[0;34m\u001b[0m\u001b[0;34m\u001b[0m\u001b[0m\n", 
                        "\u001b[0;32m/opt/ibm/conda/miniconda36/lib/python3.6/site-packages/pandas/io/parsers.py\u001b[0m in \u001b[0;36m__init__\u001b[0;34m(self, src, **kwds)\u001b[0m\n\u001b[1;32m   1851\u001b[0m         \u001b[0mkwds\u001b[0m\u001b[0;34m[\u001b[0m\u001b[0;34m'usecols'\u001b[0m\u001b[0;34m]\u001b[0m \u001b[0;34m=\u001b[0m \u001b[0mself\u001b[0m\u001b[0;34m.\u001b[0m\u001b[0musecols\u001b[0m\u001b[0;34m\u001b[0m\u001b[0;34m\u001b[0m\u001b[0m\n\u001b[1;32m   1852\u001b[0m \u001b[0;34m\u001b[0m\u001b[0m\n\u001b[0;32m-> 1853\u001b[0;31m         \u001b[0mself\u001b[0m\u001b[0;34m.\u001b[0m\u001b[0m_reader\u001b[0m \u001b[0;34m=\u001b[0m \u001b[0mparsers\u001b[0m\u001b[0;34m.\u001b[0m\u001b[0mTextReader\u001b[0m\u001b[0;34m(\u001b[0m\u001b[0msrc\u001b[0m\u001b[0;34m,\u001b[0m \u001b[0;34m**\u001b[0m\u001b[0mkwds\u001b[0m\u001b[0;34m)\u001b[0m\u001b[0;34m\u001b[0m\u001b[0;34m\u001b[0m\u001b[0m\n\u001b[0m\u001b[1;32m   1854\u001b[0m         \u001b[0mself\u001b[0m\u001b[0;34m.\u001b[0m\u001b[0munnamed_cols\u001b[0m \u001b[0;34m=\u001b[0m \u001b[0mself\u001b[0m\u001b[0;34m.\u001b[0m\u001b[0m_reader\u001b[0m\u001b[0;34m.\u001b[0m\u001b[0munnamed_cols\u001b[0m\u001b[0;34m\u001b[0m\u001b[0;34m\u001b[0m\u001b[0m\n\u001b[1;32m   1855\u001b[0m \u001b[0;34m\u001b[0m\u001b[0m\n", 
                        "\u001b[0;32mpandas/_libs/parsers.pyx\u001b[0m in \u001b[0;36mpandas._libs.parsers.TextReader.__cinit__\u001b[0;34m()\u001b[0m\n", 
                        "\u001b[0;32mpandas/_libs/parsers.pyx\u001b[0m in \u001b[0;36mpandas._libs.parsers.TextReader._setup_parser_source\u001b[0;34m()\u001b[0m\n", 
                        "\u001b[0;31mFileNotFoundError\u001b[0m: [Errno 2] File b'Capstone.FeatureEng/Capstone.feature_eng.DenseMean.1.0.csv' does not exist: b'Capstone.FeatureEng/Capstone.feature_eng.DenseMean.1.0.csv'"
                    ], 
                    "output_type": "error"
                }
            ], 
            "source": "\n#from sklearn import preprocessing\nfrom sklearn.preprocessing import MinMaxScaler\nfrom sklearn.model_selection import train_test_split\nfrom sklearn import decomposition\nfrom sklearn.preprocessing import PolynomialFeatures\nfrom sklearn.linear_model import LinearRegression\n\nimport statsmodels.api as sm\nfrom statsmodels.formula.api import ols\nfrom statsmodels.stats.anova import anova_lm\n\n\n#FeatureSetDenseMean = pd.read_csv('Capstone.FeatureEng/Capstone.feature_eng.DenseMean.1.0.csv', index_col=None)\n#FeatureSetLongMean = pd.read_csv('Capstone.FeatureEng/Capstone.feature_eng.LongMean.1.0.csv', index_col=None)\n\n#FeatureSetDensePerc50 = pd.read_csv('Capstone.FeatureEng/Capstone.feature_eng.DensePerc50.1.0.csv', index_col=None)\n#FeatureSetDensePerc75 = pd.read_csv('Capstone.FeatureEng/Capstone.feature_eng.DensePerc75.1.0.csv', index_col=None)\n\n#FeatureSetLongPerc50 = pd.read_csv('Capstone.FeatureEng/Capstone.feature_eng.LongPerc50.1.0.csv', index_col=None)\n#FeatureSetLongPerc75 = pd.read_csv('Capstone.FeatureEng/Capstone.feature_eng.LongPerc75.1.0.csv', index_col=None)"
        }, 
        {
            "execution_count": 7, 
            "cell_type": "code", 
            "metadata": {}, 
            "outputs": [
                {
                    "ename": "ModuleNotFoundError", 
                    "evalue": "No module named 'pyspark'", 
                    "traceback": [
                        "\u001b[0;31m---------------------------------------------------------------------------\u001b[0m", 
                        "\u001b[0;31mModuleNotFoundError\u001b[0m                       Traceback (most recent call last)", 
                        "\u001b[0;32m<ipython-input-7-937fc688077d>\u001b[0m in \u001b[0;36m<module>\u001b[0;34m\u001b[0m\n\u001b[0;32m----> 1\u001b[0;31m \u001b[0;32mfrom\u001b[0m \u001b[0mpyspark\u001b[0m\u001b[0;34m.\u001b[0m\u001b[0msql\u001b[0m \u001b[0;32mimport\u001b[0m \u001b[0mSparkSession\u001b[0m\u001b[0;34m\u001b[0m\u001b[0;34m\u001b[0m\u001b[0m\n\u001b[0m\u001b[1;32m      2\u001b[0m \u001b[0mspark\u001b[0m \u001b[0;34m=\u001b[0m \u001b[0mSparkSession\u001b[0m\u001b[0;34m.\u001b[0m\u001b[0mbuilder\u001b[0m\u001b[0;34m.\u001b[0m\u001b[0mgetOrCreate\u001b[0m\u001b[0;34m(\u001b[0m\u001b[0;34m)\u001b[0m\u001b[0;34m\u001b[0m\u001b[0;34m\u001b[0m\u001b[0m\n\u001b[1;32m      3\u001b[0m \u001b[0;34m\u001b[0m\u001b[0m\n\u001b[1;32m      4\u001b[0m \u001b[0mdfPolMeanLongDisease50perc\u001b[0m \u001b[0;34m=\u001b[0m \u001b[0mspark\u001b[0m\u001b[0;34m.\u001b[0m\u001b[0mread\u001b[0m\u001b[0;34m.\u001b[0m\u001b[0mformat\u001b[0m\u001b[0;34m(\u001b[0m\u001b[0;34m\"csv\"\u001b[0m\u001b[0;34m)\u001b[0m\u001b[0;34m.\u001b[0m\u001b[0mload\u001b[0m\u001b[0;34m(\u001b[0m\u001b[0;34m'Capstone.FeatureEng/Capstone.feature_eng.PolMeanLongDisease50perc.1.0.csv'\u001b[0m\u001b[0;34m)\u001b[0m\u001b[0;34m\u001b[0m\u001b[0;34m\u001b[0m\u001b[0m\n\u001b[1;32m      5\u001b[0m \u001b[0mdfPolMeanLongDisease75perc\u001b[0m \u001b[0;34m=\u001b[0m \u001b[0mspark\u001b[0m\u001b[0;34m.\u001b[0m\u001b[0mread\u001b[0m\u001b[0;34m.\u001b[0m\u001b[0mformat\u001b[0m\u001b[0;34m(\u001b[0m\u001b[0;34m\"csv\"\u001b[0m\u001b[0;34m)\u001b[0m\u001b[0;34m.\u001b[0m\u001b[0mload\u001b[0m\u001b[0;34m(\u001b[0m\u001b[0;34m'Capstone.FeatureEng/Capstone.feature_eng.PolMeanLongDisease75perc.1.0.csv'\u001b[0m\u001b[0;34m)\u001b[0m\u001b[0;34m\u001b[0m\u001b[0;34m\u001b[0m\u001b[0m\n", 
                        "\u001b[0;31mModuleNotFoundError\u001b[0m: No module named 'pyspark'"
                    ], 
                    "output_type": "error"
                }
            ], 
            "source": "from pyspark.sql import SparkSession\nspark = SparkSession.builder.getOrCreate()\n\ndfPolMeanLongDisease50perc = spark.read.format(\"csv\").load('Capstone.FeatureEng/Capstone.feature_eng.PolMeanLongDisease50perc.1.0.csv')\ndfPolMeanLongDisease75perc = spark.read.format(\"csv\").load('Capstone.FeatureEng/Capstone.feature_eng.PolMeanLongDisease75perc.1.0.csv')\ndfPolMeanLongDisease95perc = spark.read.format(\"csv\").load('Capstone.FeatureEng/Capstone.feature_eng.PolMeanLongDisease95perc.1.0.csv')\n\ndfPolLongPerc75Disease50perc = spark.read.format(\"csv\").load('Capstone.FeatureEng/Capstone.feature_eng.PolLongPerc75Disease50perc.1.0.csv')\ndfPolLongPerc75Disease75perc = spark.read.format(\"csv\").load('Capstone.FeatureEng/Capstone.feature_eng.PolLongPerc75Disease75perc.1.0.csv')\ndfPolLongPerc75Disease95perc = spark.read.format(\"csv\").load('Capstone.FeatureEng/Capstone.feature_eng.PolLongPerc75Disease95perc.1.0.csv')\n\ndf = dfPolLongPerc75Disease75perc\ndf.show()"
        }, 
        {
            "execution_count": 3, 
            "cell_type": "code", 
            "metadata": {}, 
            "outputs": [
                {
                    "ename": "ModuleNotFoundError", 
                    "evalue": "No module named 'pyspark'", 
                    "traceback": [
                        "\u001b[0;31m---------------------------------------------------------------------------\u001b[0m", 
                        "\u001b[0;31mModuleNotFoundError\u001b[0m                       Traceback (most recent call last)", 
                        "\u001b[0;32m<ipython-input-3-e2c23556afee>\u001b[0m in \u001b[0;36m<module>\u001b[0;34m\u001b[0m\n\u001b[0;32m----> 1\u001b[0;31m \u001b[0;32mfrom\u001b[0m \u001b[0mpyspark\u001b[0m\u001b[0;34m.\u001b[0m\u001b[0mml\u001b[0m\u001b[0;34m.\u001b[0m\u001b[0mfeature\u001b[0m \u001b[0;32mimport\u001b[0m \u001b[0mStringIndexer\u001b[0m\u001b[0;34m\u001b[0m\u001b[0;34m\u001b[0m\u001b[0m\n\u001b[0m\u001b[1;32m      2\u001b[0m \u001b[0;34m\u001b[0m\u001b[0m\n\u001b[1;32m      3\u001b[0m \u001b[0;34m\u001b[0m\u001b[0m\n\u001b[1;32m      4\u001b[0m \u001b[0mindexer\u001b[0m \u001b[0;34m=\u001b[0m \u001b[0mStringIndexer\u001b[0m\u001b[0;34m(\u001b[0m\u001b[0minputCol\u001b[0m\u001b[0;34m=\u001b[0m\u001b[0;34m\"DiseaseRFeat\"\u001b[0m\u001b[0;34m,\u001b[0m \u001b[0moutputCol\u001b[0m\u001b[0;34m=\u001b[0m\u001b[0;34m\"classIndex\"\u001b[0m\u001b[0;34m)\u001b[0m\u001b[0;34m\u001b[0m\u001b[0;34m\u001b[0m\u001b[0m\n\u001b[1;32m      5\u001b[0m \u001b[0mindexed\u001b[0m \u001b[0;34m=\u001b[0m \u001b[0mindexer\u001b[0m\u001b[0;34m.\u001b[0m\u001b[0mfit\u001b[0m\u001b[0;34m(\u001b[0m\u001b[0mdf\u001b[0m\u001b[0;34m)\u001b[0m\u001b[0;34m.\u001b[0m\u001b[0mtransform\u001b[0m\u001b[0;34m(\u001b[0m\u001b[0mdf\u001b[0m\u001b[0;34m)\u001b[0m\u001b[0;34m\u001b[0m\u001b[0;34m\u001b[0m\u001b[0m\n", 
                        "\u001b[0;31mModuleNotFoundError\u001b[0m: No module named 'pyspark'"
                    ], 
                    "output_type": "error"
                }
            ], 
            "source": "from pyspark.ml.feature import StringIndexer\n\n\nindexer = StringIndexer(inputCol=\"DiseaseRFeat\", outputCol=\"classIndex\")\nindexed = indexer.fit(df).transform(df)\nindexed.show()\nindexed.select('classIndex').distinct().show()"
        }, 
        {
            "execution_count": 4, 
            "cell_type": "code", 
            "metadata": {}, 
            "outputs": [
                {
                    "ename": "ModuleNotFoundError", 
                    "evalue": "No module named 'pyspark'", 
                    "traceback": [
                        "\u001b[0;31m---------------------------------------------------------------------------\u001b[0m", 
                        "\u001b[0;31mModuleNotFoundError\u001b[0m                       Traceback (most recent call last)", 
                        "\u001b[0;32m<ipython-input-4-d85bbf6d508a>\u001b[0m in \u001b[0;36m<module>\u001b[0;34m\u001b[0m\n\u001b[0;32m----> 1\u001b[0;31m \u001b[0;32mfrom\u001b[0m \u001b[0mpyspark\u001b[0m\u001b[0;34m.\u001b[0m\u001b[0mml\u001b[0m\u001b[0;34m.\u001b[0m\u001b[0mfeature\u001b[0m \u001b[0;32mimport\u001b[0m \u001b[0mOneHotEncoder\u001b[0m\u001b[0;34m,\u001b[0m \u001b[0mStringIndexer\u001b[0m\u001b[0;34m\u001b[0m\u001b[0;34m\u001b[0m\u001b[0m\n\u001b[0m\u001b[1;32m      2\u001b[0m \u001b[0;34m\u001b[0m\u001b[0m\n\u001b[1;32m      3\u001b[0m \u001b[0;34m\u001b[0m\u001b[0m\n\u001b[1;32m      4\u001b[0m \u001b[0mencoder\u001b[0m \u001b[0;34m=\u001b[0m \u001b[0mOneHotEncoder\u001b[0m\u001b[0;34m(\u001b[0m\u001b[0minputCol\u001b[0m\u001b[0;34m=\u001b[0m\u001b[0;34m\"classIndex\"\u001b[0m\u001b[0;34m,\u001b[0m \u001b[0moutputCol\u001b[0m\u001b[0;34m=\u001b[0m\u001b[0;34m\"categoryVec\"\u001b[0m\u001b[0;34m)\u001b[0m\u001b[0;34m\u001b[0m\u001b[0;34m\u001b[0m\u001b[0m\n\u001b[1;32m      5\u001b[0m \u001b[0mencoded\u001b[0m \u001b[0;34m=\u001b[0m \u001b[0mencoder\u001b[0m\u001b[0;34m.\u001b[0m\u001b[0mtransform\u001b[0m\u001b[0;34m(\u001b[0m\u001b[0mindexed\u001b[0m\u001b[0;34m)\u001b[0m\u001b[0;34m\u001b[0m\u001b[0;34m\u001b[0m\u001b[0m\n", 
                        "\u001b[0;31mModuleNotFoundError\u001b[0m: No module named 'pyspark'"
                    ], 
                    "output_type": "error"
                }
            ], 
            "source": "from pyspark.ml.feature import OneHotEncoder, StringIndexer\n\n\nencoder = OneHotEncoder(inputCol=\"classIndex\", outputCol=\"categoryVec\")\nencoded = encoder.transform(indexed)\nencoded.show()"
        }, 
        {
            "execution_count": 5, 
            "cell_type": "code", 
            "metadata": {}, 
            "outputs": [
                {
                    "ename": "ModuleNotFoundError", 
                    "evalue": "No module named 'pyspark'", 
                    "traceback": [
                        "\u001b[0;31m---------------------------------------------------------------------------\u001b[0m", 
                        "\u001b[0;31mModuleNotFoundError\u001b[0m                       Traceback (most recent call last)", 
                        "\u001b[0;32m<ipython-input-5-c41bec01fb71>\u001b[0m in \u001b[0;36m<module>\u001b[0;34m\u001b[0m\n\u001b[0;32m----> 1\u001b[0;31m \u001b[0;32mfrom\u001b[0m \u001b[0mpyspark\u001b[0m\u001b[0;34m.\u001b[0m\u001b[0mml\u001b[0m\u001b[0;34m.\u001b[0m\u001b[0mlinalg\u001b[0m \u001b[0;32mimport\u001b[0m \u001b[0mVectors\u001b[0m\u001b[0;34m\u001b[0m\u001b[0;34m\u001b[0m\u001b[0m\n\u001b[0m\u001b[1;32m      2\u001b[0m \u001b[0;32mfrom\u001b[0m \u001b[0mpyspark\u001b[0m\u001b[0;34m.\u001b[0m\u001b[0mml\u001b[0m\u001b[0;34m.\u001b[0m\u001b[0mfeature\u001b[0m \u001b[0;32mimport\u001b[0m \u001b[0mVectorAssembler\u001b[0m\u001b[0;34m\u001b[0m\u001b[0;34m\u001b[0m\u001b[0m\n\u001b[1;32m      3\u001b[0m \u001b[0;34m\u001b[0m\u001b[0m\n\u001b[1;32m      4\u001b[0m vectorAssembler = VectorAssembler(inputCols=[\"NO\", \"NO2\", \"PM1\"],\n\u001b[1;32m      5\u001b[0m                                   outputCol=\"features\")\n", 
                        "\u001b[0;31mModuleNotFoundError\u001b[0m: No module named 'pyspark'"
                    ], 
                    "output_type": "error"
                }
            ], 
            "source": "from pyspark.ml.linalg import Vectors\nfrom pyspark.ml.feature import VectorAssembler\n\nvectorAssembler = VectorAssembler(inputCols=[\"NO\", \"NO2\", \"PM1\"],\n                                  outputCol=\"features\")\n\n# For your special case that has string instead of doubles you should cast them first.\n# expr = [col(c).cast(\"Double\").alias(c) \n#         for c in vectorAssembler.getInputCols()]\n\n# df2 = df2.select(*expr)\nfeatures_vectorized = vectorAssembler.transform(encoded)\nfeatures_vectorized.show()"
        }, 
        {
            "execution_count": 6, 
            "cell_type": "code", 
            "metadata": {}, 
            "outputs": [
                {
                    "ename": "ModuleNotFoundError", 
                    "evalue": "No module named 'pyspark'", 
                    "traceback": [
                        "\u001b[0;31m---------------------------------------------------------------------------\u001b[0m", 
                        "\u001b[0;31mModuleNotFoundError\u001b[0m                       Traceback (most recent call last)", 
                        "\u001b[0;32m<ipython-input-6-0be6518912c9>\u001b[0m in \u001b[0;36m<module>\u001b[0;34m\u001b[0m\n\u001b[0;32m----> 1\u001b[0;31m \u001b[0;32mfrom\u001b[0m \u001b[0mpyspark\u001b[0m\u001b[0;34m.\u001b[0m\u001b[0mml\u001b[0m\u001b[0;34m.\u001b[0m\u001b[0mfeature\u001b[0m \u001b[0;32mimport\u001b[0m \u001b[0mNormalizer\u001b[0m\u001b[0;34m\u001b[0m\u001b[0;34m\u001b[0m\u001b[0m\n\u001b[0m\u001b[1;32m      2\u001b[0m \u001b[0;32mfrom\u001b[0m \u001b[0mpyspark\u001b[0m\u001b[0;34m.\u001b[0m\u001b[0mml\u001b[0m\u001b[0;34m.\u001b[0m\u001b[0mlinalg\u001b[0m \u001b[0;32mimport\u001b[0m \u001b[0mVectors\u001b[0m\u001b[0;34m\u001b[0m\u001b[0;34m\u001b[0m\u001b[0m\n\u001b[1;32m      3\u001b[0m \u001b[0;34m\u001b[0m\u001b[0m\n\u001b[1;32m      4\u001b[0m \u001b[0mnormalizer\u001b[0m \u001b[0;34m=\u001b[0m \u001b[0mNormalizer\u001b[0m\u001b[0;34m(\u001b[0m\u001b[0minputCol\u001b[0m\u001b[0;34m=\u001b[0m\u001b[0;34m\"features\"\u001b[0m\u001b[0;34m,\u001b[0m \u001b[0moutputCol\u001b[0m\u001b[0;34m=\u001b[0m\u001b[0;34m\"features_norm\"\u001b[0m\u001b[0;34m,\u001b[0m \u001b[0mp\u001b[0m\u001b[0;34m=\u001b[0m\u001b[0;36m1.0\u001b[0m\u001b[0;34m)\u001b[0m\u001b[0;34m\u001b[0m\u001b[0;34m\u001b[0m\u001b[0m\n\u001b[1;32m      5\u001b[0m \u001b[0ml1NormData\u001b[0m \u001b[0;34m=\u001b[0m \u001b[0mnormalizer\u001b[0m\u001b[0;34m.\u001b[0m\u001b[0mtransform\u001b[0m\u001b[0;34m(\u001b[0m\u001b[0mfeatures_vectorized\u001b[0m\u001b[0;34m)\u001b[0m\u001b[0;34m\u001b[0m\u001b[0;34m\u001b[0m\u001b[0m\n", 
                        "\u001b[0;31mModuleNotFoundError\u001b[0m: No module named 'pyspark'"
                    ], 
                    "output_type": "error"
                }
            ], 
            "source": "from pyspark.ml.feature import Normalizer\nfrom pyspark.ml.linalg import Vectors\n\nnormalizer = Normalizer(inputCol=\"features\", outputCol=\"features_norm\", p=1.0)\nl1NormData = normalizer.transform(features_vectorized)\nl1NormData.show()"
        }, 
        {
            "execution_count": 7, 
            "cell_type": "code", 
            "metadata": {}, 
            "outputs": [
                {
                    "ename": "NameError", 
                    "evalue": "name 'l1NormData' is not defined", 
                    "traceback": [
                        "\u001b[0;31m---------------------------------------------------------------------------\u001b[0m", 
                        "\u001b[0;31mNameError\u001b[0m                                 Traceback (most recent call last)", 
                        "\u001b[0;32m<ipython-input-7-a9c7366dba33>\u001b[0m in \u001b[0;36m<module>\u001b[0;34m\u001b[0m\n\u001b[0;32m----> 1\u001b[0;31m \u001b[0mdf_train\u001b[0m \u001b[0;34m=\u001b[0m \u001b[0ml1NormData\u001b[0m\u001b[0;34m.\u001b[0m\u001b[0mdrop\u001b[0m\u001b[0;34m(\u001b[0m\u001b[0;34m\"CountyID\"\u001b[0m\u001b[0;34m)\u001b[0m\u001b[0;34m.\u001b[0m\u001b[0mdrop\u001b[0m\u001b[0;34m(\u001b[0m\u001b[0;34m\"DiseaseRFeat\"\u001b[0m\u001b[0;34m)\u001b[0m\u001b[0;34m.\u001b[0m\u001b[0mdrop\u001b[0m\u001b[0;34m(\u001b[0m\u001b[0;34m\"classIndex\"\u001b[0m\u001b[0;34m)\u001b[0m\u001b[0;34m.\u001b[0m\u001b[0mdrop\u001b[0m\u001b[0;34m(\u001b[0m\u001b[0;34m\"features\"\u001b[0m\u001b[0;34m)\u001b[0m\u001b[0;34m.\u001b[0m\u001b[0mdrop\u001b[0m\u001b[0;34m(\u001b[0m\u001b[0;34m\"NO\"\u001b[0m\u001b[0;34m)\u001b[0m\u001b[0;34m.\u001b[0m\u001b[0mdrop\u001b[0m\u001b[0;34m(\u001b[0m\u001b[0;34m\"NO2\"\u001b[0m\u001b[0;34m)\u001b[0m\u001b[0;34m.\u001b[0m\u001b[0mdrop\u001b[0m\u001b[0;34m(\u001b[0m\u001b[0;34m\"PM1\"\u001b[0m\u001b[0;34m)\u001b[0m\u001b[0;34m\u001b[0m\u001b[0;34m\u001b[0m\u001b[0m\n\u001b[0m\u001b[1;32m      2\u001b[0m \u001b[0mdf_train\u001b[0m\u001b[0;34m.\u001b[0m\u001b[0mshow\u001b[0m\u001b[0;34m(\u001b[0m\u001b[0;34m)\u001b[0m\u001b[0;34m\u001b[0m\u001b[0;34m\u001b[0m\u001b[0m\n", 
                        "\u001b[0;31mNameError\u001b[0m: name 'l1NormData' is not defined"
                    ], 
                    "output_type": "error"
                }
            ], 
            "source": "df_train = l1NormData.drop(\"CountyID\").drop(\"DiseaseRFeat\").drop(\"classIndex\").drop(\"features\").drop(\"NO\").drop(\"NO2\").drop(\"PM1\")\ndf_train.show()"
        }, 
        {
            "execution_count": 8, 
            "cell_type": "code", 
            "metadata": {}, 
            "outputs": [
                {
                    "ename": "ModuleNotFoundError", 
                    "evalue": "No module named 'pyspark'", 
                    "traceback": [
                        "\u001b[0;31m---------------------------------------------------------------------------\u001b[0m", 
                        "\u001b[0;31mModuleNotFoundError\u001b[0m                       Traceback (most recent call last)", 
                        "\u001b[0;32m<ipython-input-8-5417c368ddae>\u001b[0m in \u001b[0;36m<module>\u001b[0;34m\u001b[0m\n\u001b[0;32m----> 1\u001b[0;31m \u001b[0;32mfrom\u001b[0m \u001b[0mpyspark\u001b[0m\u001b[0;34m.\u001b[0m\u001b[0mml\u001b[0m \u001b[0;32mimport\u001b[0m \u001b[0mPipeline\u001b[0m\u001b[0;34m\u001b[0m\u001b[0;34m\u001b[0m\u001b[0m\n\u001b[0m\u001b[1;32m      2\u001b[0m \u001b[0mpipeline\u001b[0m \u001b[0;34m=\u001b[0m \u001b[0mPipeline\u001b[0m\u001b[0;34m(\u001b[0m\u001b[0mstages\u001b[0m\u001b[0;34m=\u001b[0m\u001b[0;34m[\u001b[0m\u001b[0mindexer\u001b[0m\u001b[0;34m,\u001b[0m \u001b[0mencoder\u001b[0m\u001b[0;34m,\u001b[0m \u001b[0mvectorAssembler\u001b[0m\u001b[0;34m,\u001b[0m \u001b[0mnormalizer\u001b[0m\u001b[0;34m]\u001b[0m\u001b[0;34m)\u001b[0m\u001b[0;34m\u001b[0m\u001b[0;34m\u001b[0m\u001b[0m\n\u001b[1;32m      3\u001b[0m \u001b[0mmodel\u001b[0m \u001b[0;34m=\u001b[0m \u001b[0mpipeline\u001b[0m\u001b[0;34m.\u001b[0m\u001b[0mfit\u001b[0m\u001b[0;34m(\u001b[0m\u001b[0mdf\u001b[0m\u001b[0;34m)\u001b[0m\u001b[0;34m\u001b[0m\u001b[0;34m\u001b[0m\u001b[0m\n\u001b[1;32m      4\u001b[0m \u001b[0mprediction\u001b[0m \u001b[0;34m=\u001b[0m \u001b[0mmodel\u001b[0m\u001b[0;34m.\u001b[0m\u001b[0mtransform\u001b[0m\u001b[0;34m(\u001b[0m\u001b[0mdf\u001b[0m\u001b[0;34m)\u001b[0m\u001b[0;34m\u001b[0m\u001b[0;34m\u001b[0m\u001b[0m\n", 
                        "\u001b[0;31mModuleNotFoundError\u001b[0m: No module named 'pyspark'"
                    ], 
                    "output_type": "error"
                }
            ], 
            "source": "from pyspark.ml import Pipeline\npipeline = Pipeline(stages=[indexer, encoder, vectorAssembler, normalizer])\nmodel = pipeline.fit(df)\nprediction = model.transform(df)"
        }, 
        {
            "execution_count": null, 
            "cell_type": "code", 
            "metadata": {}, 
            "outputs": [], 
            "source": "prediction.show()"
        }
    ], 
    "metadata": {
        "kernelspec": {
            "display_name": "Python 3.6", 
            "name": "python3", 
            "language": "python"
        }, 
        "language_info": {
            "mimetype": "text/x-python", 
            "nbconvert_exporter": "python", 
            "version": "3.6.8", 
            "name": "python", 
            "file_extension": ".py", 
            "pygments_lexer": "ipython3", 
            "codemirror_mode": {
                "version": 3, 
                "name": "ipython"
            }
        }
    }, 
    "nbformat": 4
}