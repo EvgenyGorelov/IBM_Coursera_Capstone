{
    "nbformat_minor": 2, 
    "cells": [
        {
            "source": "\n# Advanced Data Science Capstone\n\n## Correlation of air pollution and Prevalence of Asthma bronchiale in Germany  \n\n## Data cleansing", 
            "cell_type": "markdown", 
            "metadata": {
                "collapsed": true
            }
        }, 
        {
            "source": "### The deliverables\nThe deliverables of the current stage:\n\n - current notebook as the process documentation\n - Pandas data frame of the \"wide\" type, containing time series of pollutants concentrations and the unique sensor ID and a county id\n - Pandas data frame with disease prevalence column(s) (heart failures,...) and a county id\n\n### Data cleansing\n - The air quality data sets are claimed to be \"validated\", so most work for cleansing the data is already done.\n - The incomplete files from the datasets (not having \"hour\" in the name) are ignored.\n - Few missing values appearing in the time series as negative values of the pollutant concentrations will be imputed.", 
            "cell_type": "markdown", 
            "metadata": {}
        }, 
        {
            "source": "import urllib.request\nimport xml.etree.ElementTree as ET\nfrom lxml import etree\nimport pandas as pd\nimport numpy as np\n\nimport re, collections\nfrom io import StringIO\nimport os, fnmatch\n#, fastparquet\n\nimport matplotlib.pyplot as plt\n\ndef SelectAllXMLsensorID():\n    varFull = [s for s in AllTags if 'value' in s][0]\n    return([re.sub(r'[^a-zA-Z0-9:]*\\'{http(.*)$', r'', re.sub(r'^.*AQD\\/SPO.DE_', r'', str(varr.attrib))) for varr in Eroot.iter(varFull) if 'AQD' in str(varr.attrib)]) \n\n", 
            "cell_type": "code", 
            "execution_count": 1, 
            "outputs": [], 
            "metadata": {}
        }, 
        {
            "source": "Now the files with pollutant concentration time series for the given year will be loaded to the **dffAll** Pandas data frame of the **wide** format. During the load procedure **consistensy** of **files** and **column** names will be checked.", 
            "cell_type": "markdown", 
            "metadata": {}
        }, 
        {
            "source": "AirE1aDir='Capstone.rawData/AQD_DE_E1a_2016/'\n\n#!ls Capstone.rawData/AQD_DE_E1a_2017/*hour*\nFilesHour=[]\n\nfor file in os.listdir(AirE1aDir):\n    if fnmatch.fnmatch(file, '*hour*'):\n        FilesHour.append(file)\nprint(\"Number of files in the dataset\", len(FilesHour))\n\n# shortening the process for debugging purposes\n#FilesHour=FilesHour[0:3]        \n\ndffAll=pd.DataFrame(index=range(0,8760))  # 8760 hours in the year\n\n# add First column with Observation Times:\ndff=[]  # Temporary list for DataFrames\n\nfile=FilesHour[0]\nEtree = ET.parse(AirE1aDir+file)\nEroot = Etree.getroot()\nEroot.tag\nEroot.attrib\nAllTags = [elem.tag for elem in Eroot.iter()]\nvarFull = [s for s in AllTags if 'values' in s][0]\nfor varr in Eroot.iter(varFull):\n    dff.append(pd.read_csv(StringIO((varr.text).replace(\"@@\",\"\\n\")), sep=\",\", header=None))\ndffAll=pd.concat([dffAll, dff[0][[0]]], axis=1)\ndffAll.columns=['observation_period']\n\n\n# get all tags in xml file; Note, that the actual data is kept as a TEXT of *values* tags \nfor file in FilesHour:\n    Etree = ET.parse(AirE1aDir+file)\n    Eroot = Etree.getroot()\n    Eroot.tag\n    Eroot.attrib\n    AllTags = [elem.tag for elem in Eroot.iter()]\n    \n    ColNamesExp=SelectAllXMLsensorID()\n# Compare column names with file names, they should encode same country, state and pollutant\n    for ColName in ColNamesExp:\n        if ((ColName[0:2]!=file[0:2]) or (ColName[2:4]!=file[3:5]) or (ColName[8:11]!=file[11:14])):\n            print(\"Inconsistency in file and column names: \", file, ColName)\n            exit()\n    \n    varFull = [s for s in AllTags if 'values' in s][0]\n    \n    dff=[] # Temporary list for DataFrames\n# reading actual pollutant data fiom the text field:    \n    for varr in Eroot.iter(varFull):\n        dff.append(pd.read_csv(StringIO((varr.text).replace(\"@@\",\"\\n\")), sep=\",\", header=None))\n\n# checking, that measurment timestamps are identical in the files read       \n    for s in range(0,len(dff)):\n        if not (dffAll['observation_period']).equals(dff[s][0]):\n            print(\"Inconsistency of observation times in the following files: \", file, FilesHour[0])\n            exit()\n\n        \n# select column 4 - pollutant concentration:\n    dff=pd.concat([dff[s][4] for s in range(0,len(dff))], axis=1)\n    dff.columns=ColNamesExp\n   \n    dffAll=pd.concat([dffAll, dff], axis=1)", 
            "cell_type": "code", 
            "execution_count": 2, 
            "outputs": [
                {
                    "output_type": "stream", 
                    "name": "stdout", 
                    "text": "Number of files in the dataset 51\n"
                }
            ], 
            "metadata": {}
        }, 
        {
            "source": "print(\"Memory usage: \", (dffAll.memory_usage(index=True).sum()/1048576.0), \" MB\")\ndffAll.describe()", 
            "cell_type": "code", 
            "execution_count": 3, 
            "outputs": [
                {
                    "output_type": "stream", 
                    "name": "stdout", 
                    "text": "Memory usage:  35.25080871582031  MB\n"
                }, 
                {
                    "output_type": "execute_result", 
                    "metadata": {}, 
                    "data": {
                        "text/html": "<div>\n<style scoped>\n    .dataframe tbody tr th:only-of-type {\n        vertical-align: middle;\n    }\n\n    .dataframe tbody tr th {\n        vertical-align: top;\n    }\n\n    .dataframe thead th {\n        text-align: right;\n    }\n</style>\n<table border=\"1\" class=\"dataframe\">\n  <thead>\n    <tr style=\"text-align: right;\">\n      <th></th>\n      <th>DETH043_CHT_dataGroup1</th>\n      <th>DEST002_NOx_dataGroup1</th>\n      <th>DEST011_NOx_dataGroup1</th>\n      <th>DEST015_NOx_dataGroup1</th>\n      <th>DEST029_NOx_dataGroup1</th>\n      <th>DEST039_NOx_dataGroup1</th>\n      <th>DEST044_NOx_dataGroup1</th>\n      <th>DEST050_NOx_dataGroup1</th>\n      <th>DEST066_NOx_dataGroup1</th>\n      <th>DEST075_NOx_dataGroup1</th>\n      <th>...</th>\n      <th>DEST090_O3_dataGroup1</th>\n      <th>DEST098_O3_dataGroup1</th>\n      <th>DEST104_O3_dataGroup1</th>\n      <th>DEST105_O3_dataGroup1</th>\n      <th>DEST106_O3_dataGroup1</th>\n      <th>DESN020_CHT_dataGroup1</th>\n      <th>DESN024_CHT_dataGroup1</th>\n      <th>DESN025_CHT_dataGroup1</th>\n      <th>DESN061_CHT_dataGroup1</th>\n      <th>DESN074_CHT_dataGroup1</th>\n    </tr>\n  </thead>\n  <tbody>\n    <tr>\n      <th>count</th>\n      <td>8784.000000</td>\n      <td>8784.000000</td>\n      <td>8784.000000</td>\n      <td>8784.000000</td>\n      <td>8784.000000</td>\n      <td>8784.000000</td>\n      <td>8784.000000</td>\n      <td>8784.000000</td>\n      <td>8784.000000</td>\n      <td>8784.000000</td>\n      <td>...</td>\n      <td>8784.000000</td>\n      <td>8784.000000</td>\n      <td>8784.000000</td>\n      <td>8784.000000</td>\n      <td>8784.000000</td>\n      <td>8784.000000</td>\n      <td>8784.000000</td>\n      <td>8784.000000</td>\n      <td>8784.000000</td>\n      <td>8784.000000</td>\n    </tr>\n    <tr>\n      <th>mean</th>\n      <td>-83.778039</td>\n      <td>10.888974</td>\n      <td>14.562116</td>\n      <td>14.047963</td>\n      <td>27.748674</td>\n      <td>0.157481</td>\n      <td>15.339360</td>\n      <td>9.183960</td>\n      <td>5.545178</td>\n      <td>65.788163</td>\n      <td>...</td>\n      <td>29.227681</td>\n      <td>42.774789</td>\n      <td>44.960701</td>\n      <td>44.889605</td>\n      <td>34.416207</td>\n      <td>-107.805551</td>\n      <td>-92.952179</td>\n      <td>-106.665963</td>\n      <td>-101.362931</td>\n      <td>-87.667275</td>\n    </tr>\n    <tr>\n      <th>std</th>\n      <td>280.881482</td>\n      <td>85.650998</td>\n      <td>78.668791</td>\n      <td>81.596964</td>\n      <td>92.385789</td>\n      <td>67.737829</td>\n      <td>80.399452</td>\n      <td>127.564855</td>\n      <td>104.781496</td>\n      <td>119.676127</td>\n      <td>...</td>\n      <td>141.960489</td>\n      <td>84.657592</td>\n      <td>84.167235</td>\n      <td>84.283806</td>\n      <td>105.943664</td>\n      <td>313.654667</td>\n      <td>291.921653</td>\n      <td>312.228331</td>\n      <td>304.616098</td>\n      <td>283.306356</td>\n    </tr>\n    <tr>\n      <th>min</th>\n      <td>-999.000000</td>\n      <td>-999.000000</td>\n      <td>-999.000000</td>\n      <td>-999.000000</td>\n      <td>-999.000000</td>\n      <td>-999.000000</td>\n      <td>-999.000000</td>\n      <td>-999.000000</td>\n      <td>-999.000000</td>\n      <td>-999.000000</td>\n      <td>...</td>\n      <td>-999.000000</td>\n      <td>-999.000000</td>\n      <td>-999.000000</td>\n      <td>-999.000000</td>\n      <td>-999.000000</td>\n      <td>-999.000000</td>\n      <td>-999.000000</td>\n      <td>-999.000000</td>\n      <td>-999.000000</td>\n      <td>-999.000000</td>\n    </tr>\n    <tr>\n      <th>25%</th>\n      <td>0.705821</td>\n      <td>5.831979</td>\n      <td>8.993116</td>\n      <td>7.741056</td>\n      <td>14.106168</td>\n      <td>2.249845</td>\n      <td>7.341586</td>\n      <td>8.237640</td>\n      <td>6.473262</td>\n      <td>27.148387</td>\n      <td>...</td>\n      <td>22.969537</td>\n      <td>28.122150</td>\n      <td>28.968387</td>\n      <td>27.787012</td>\n      <td>18.310900</td>\n      <td>0.845000</td>\n      <td>0.431000</td>\n      <td>0.926750</td>\n      <td>0.908000</td>\n      <td>0.175000</td>\n    </tr>\n    <tr>\n      <th>50%</th>\n      <td>1.484682</td>\n      <td>10.978419</td>\n      <td>13.728892</td>\n      <td>13.064362</td>\n      <td>23.832317</td>\n      <td>3.773348</td>\n      <td>12.684082</td>\n      <td>15.456937</td>\n      <td>10.754043</td>\n      <td>54.808825</td>\n      <td>...</td>\n      <td>45.498450</td>\n      <td>48.135175</td>\n      <td>47.872975</td>\n      <td>50.023275</td>\n      <td>41.979400</td>\n      <td>1.816000</td>\n      <td>0.745000</td>\n      <td>1.879000</td>\n      <td>1.553000</td>\n      <td>0.275000</td>\n    </tr>\n    <tr>\n      <th>75%</th>\n      <td>2.895999</td>\n      <td>20.749995</td>\n      <td>23.072270</td>\n      <td>24.123445</td>\n      <td>41.255151</td>\n      <td>5.823507</td>\n      <td>24.139927</td>\n      <td>29.928729</td>\n      <td>18.807399</td>\n      <td>99.925038</td>\n      <td>...</td>\n      <td>66.178000</td>\n      <td>66.632163</td>\n      <td>68.577738</td>\n      <td>69.561425</td>\n      <td>64.794050</td>\n      <td>3.083250</td>\n      <td>1.230250</td>\n      <td>3.165750</td>\n      <td>2.377000</td>\n      <td>0.447000</td>\n    </tr>\n    <tr>\n      <th>max</th>\n      <td>41.215481</td>\n      <td>232.751900</td>\n      <td>256.317600</td>\n      <td>244.370400</td>\n      <td>553.552650</td>\n      <td>81.001855</td>\n      <td>393.332300</td>\n      <td>373.882950</td>\n      <td>227.196300</td>\n      <td>675.573500</td>\n      <td>...</td>\n      <td>184.551000</td>\n      <td>151.138000</td>\n      <td>181.492500</td>\n      <td>169.217000</td>\n      <td>159.999000</td>\n      <td>37.382000</td>\n      <td>29.410000</td>\n      <td>19.661000</td>\n      <td>27.843000</td>\n      <td>22.108000</td>\n    </tr>\n  </tbody>\n</table>\n<p>8 rows \u00d7 525 columns</p>\n</div>", 
                        "text/plain": "       DETH043_CHT_dataGroup1  DEST002_NOx_dataGroup1  DEST011_NOx_dataGroup1  \\\ncount             8784.000000             8784.000000             8784.000000   \nmean               -83.778039               10.888974               14.562116   \nstd                280.881482               85.650998               78.668791   \nmin               -999.000000             -999.000000             -999.000000   \n25%                  0.705821                5.831979                8.993116   \n50%                  1.484682               10.978419               13.728892   \n75%                  2.895999               20.749995               23.072270   \nmax                 41.215481              232.751900              256.317600   \n\n       DEST015_NOx_dataGroup1  DEST029_NOx_dataGroup1  DEST039_NOx_dataGroup1  \\\ncount             8784.000000             8784.000000             8784.000000   \nmean                14.047963               27.748674                0.157481   \nstd                 81.596964               92.385789               67.737829   \nmin               -999.000000             -999.000000             -999.000000   \n25%                  7.741056               14.106168                2.249845   \n50%                 13.064362               23.832317                3.773348   \n75%                 24.123445               41.255151                5.823507   \nmax                244.370400              553.552650               81.001855   \n\n       DEST044_NOx_dataGroup1  DEST050_NOx_dataGroup1  DEST066_NOx_dataGroup1  \\\ncount             8784.000000             8784.000000             8784.000000   \nmean                15.339360                9.183960                5.545178   \nstd                 80.399452              127.564855              104.781496   \nmin               -999.000000             -999.000000             -999.000000   \n25%                  7.341586                8.237640                6.473262   \n50%                 12.684082               15.456937               10.754043   \n75%                 24.139927               29.928729               18.807399   \nmax                393.332300              373.882950              227.196300   \n\n       DEST075_NOx_dataGroup1  ...  DEST090_O3_dataGroup1  \\\ncount             8784.000000  ...            8784.000000   \nmean                65.788163  ...              29.227681   \nstd                119.676127  ...             141.960489   \nmin               -999.000000  ...            -999.000000   \n25%                 27.148387  ...              22.969537   \n50%                 54.808825  ...              45.498450   \n75%                 99.925038  ...              66.178000   \nmax                675.573500  ...             184.551000   \n\n       DEST098_O3_dataGroup1  DEST104_O3_dataGroup1  DEST105_O3_dataGroup1  \\\ncount            8784.000000            8784.000000            8784.000000   \nmean               42.774789              44.960701              44.889605   \nstd                84.657592              84.167235              84.283806   \nmin              -999.000000            -999.000000            -999.000000   \n25%                28.122150              28.968387              27.787012   \n50%                48.135175              47.872975              50.023275   \n75%                66.632163              68.577738              69.561425   \nmax               151.138000             181.492500             169.217000   \n\n       DEST106_O3_dataGroup1  DESN020_CHT_dataGroup1  DESN024_CHT_dataGroup1  \\\ncount            8784.000000             8784.000000             8784.000000   \nmean               34.416207             -107.805551              -92.952179   \nstd               105.943664              313.654667              291.921653   \nmin              -999.000000             -999.000000             -999.000000   \n25%                18.310900                0.845000                0.431000   \n50%                41.979400                1.816000                0.745000   \n75%                64.794050                3.083250                1.230250   \nmax               159.999000               37.382000               29.410000   \n\n       DESN025_CHT_dataGroup1  DESN061_CHT_dataGroup1  DESN074_CHT_dataGroup1  \ncount             8784.000000             8784.000000             8784.000000  \nmean              -106.665963             -101.362931              -87.667275  \nstd                312.228331              304.616098              283.306356  \nmin               -999.000000             -999.000000             -999.000000  \n25%                  0.926750                0.908000                0.175000  \n50%                  1.879000                1.553000                0.275000  \n75%                  3.165750                2.377000                0.447000  \nmax                 19.661000               27.843000               22.108000  \n\n[8 rows x 525 columns]"
                    }, 
                    "execution_count": 3
                }
            ], 
            "metadata": {}
        }, 
        {
            "source": "Now we have **wide** data frame, containing timeseries of all pollutant concentrations for all sensors. The pollutant type and the sensor ID are encoded in column names. The minimal value of pollutant concentrations *-999.0* is equivalent to *NA* and will be imputted, as well as all negative values (the concentration can not be negative). The limit for imputation will be set to 876, i.e. *NA* sequences exceeding 10% of the year will not be imputted. Since the number of heavily corrupted columns is below 3%, they will be dropped in favor to the information quality:", 
            "cell_type": "markdown", 
            "metadata": {}
        }, 
        {
            "source": "dffAll[dffAll.loc[:, dffAll.columns != 'observation_period'] < 0.0] = np.NaN\ndffAll.interpolate(method='linear', inplace=True, axis=0, limit=876, limit_direction='both')\nprint('The number of corrupted columns is ', len(dffAll.isna().sum().nonzero()[0]), ' of ', len(dffAll.columns))\ndffAll = dffAll.dropna(axis=1)\ndffAll['observation_period']=pd.to_datetime(dffAll['observation_period'])\ndffAll['observation_period']=dffAll['observation_period'].dt.to_period('H')\n#dffAll['observation_period'][0].end_time\ndffAll.tail(3)", 
            "cell_type": "code", 
            "execution_count": 4, 
            "outputs": [
                {
                    "output_type": "stream", 
                    "name": "stderr", 
                    "text": "/opt/conda/envs/Python36/lib/python3.6/site-packages/ipykernel/__main__.py:3: FutureWarning: Series.nonzero() is deprecated and will be removed in a future version.Use Series.to_numpy().nonzero() instead\n  app.launch_new_instance()\n"
                }, 
                {
                    "output_type": "stream", 
                    "name": "stdout", 
                    "text": "The number of corrupted columns is  10  of  526\n"
                }, 
                {
                    "output_type": "stream", 
                    "name": "stderr", 
                    "text": "/opt/conda/envs/Python36/lib/python3.6/site-packages/pandas/core/arrays/datetimes.py:1172: UserWarning: Converting to PeriodArray/Index representation will drop timezone information.\n  \"will drop timezone information.\", UserWarning)\n"
                }, 
                {
                    "output_type": "execute_result", 
                    "metadata": {}, 
                    "data": {
                        "text/html": "<div>\n<style scoped>\n    .dataframe tbody tr th:only-of-type {\n        vertical-align: middle;\n    }\n\n    .dataframe tbody tr th {\n        vertical-align: top;\n    }\n\n    .dataframe thead th {\n        text-align: right;\n    }\n</style>\n<table border=\"1\" class=\"dataframe\">\n  <thead>\n    <tr style=\"text-align: right;\">\n      <th></th>\n      <th>observation_period</th>\n      <th>DETH043_CHT_dataGroup1</th>\n      <th>DEST002_NOx_dataGroup1</th>\n      <th>DEST011_NOx_dataGroup1</th>\n      <th>DEST015_NOx_dataGroup1</th>\n      <th>DEST029_NOx_dataGroup1</th>\n      <th>DEST039_NOx_dataGroup1</th>\n      <th>DEST044_NOx_dataGroup1</th>\n      <th>DEST050_NOx_dataGroup1</th>\n      <th>DEST066_NOx_dataGroup1</th>\n      <th>...</th>\n      <th>DEST090_O3_dataGroup1</th>\n      <th>DEST098_O3_dataGroup1</th>\n      <th>DEST104_O3_dataGroup1</th>\n      <th>DEST105_O3_dataGroup1</th>\n      <th>DEST106_O3_dataGroup1</th>\n      <th>DESN020_CHT_dataGroup1</th>\n      <th>DESN024_CHT_dataGroup1</th>\n      <th>DESN025_CHT_dataGroup1</th>\n      <th>DESN061_CHT_dataGroup1</th>\n      <th>DESN074_CHT_dataGroup1</th>\n    </tr>\n  </thead>\n  <tbody>\n    <tr>\n      <th>8781</th>\n      <td>2016-12-31 21:00</td>\n      <td>2.266842</td>\n      <td>15.716239</td>\n      <td>25.396920</td>\n      <td>40.195830</td>\n      <td>51.713060</td>\n      <td>1.505132</td>\n      <td>8.738043</td>\n      <td>43.085160</td>\n      <td>32.094990</td>\n      <td>...</td>\n      <td>11.18660</td>\n      <td>38.85265</td>\n      <td>28.47085</td>\n      <td>41.19935</td>\n      <td>13.16545</td>\n      <td>1.958</td>\n      <td>3.287</td>\n      <td>2.478</td>\n      <td>2.213</td>\n      <td>0.206</td>\n    </tr>\n    <tr>\n      <th>8782</th>\n      <td>2016-12-31 22:00</td>\n      <td>1.897258</td>\n      <td>14.546514</td>\n      <td>8.653047</td>\n      <td>33.808410</td>\n      <td>41.815865</td>\n      <td>1.392986</td>\n      <td>7.927009</td>\n      <td>39.024955</td>\n      <td>37.508660</td>\n      <td>...</td>\n      <td>14.38625</td>\n      <td>50.39245</td>\n      <td>27.49980</td>\n      <td>41.05190</td>\n      <td>11.67420</td>\n      <td>2.185</td>\n      <td>3.593</td>\n      <td>1.985</td>\n      <td>2.168</td>\n      <td>0.164</td>\n    </tr>\n    <tr>\n      <th>8783</th>\n      <td>2016-12-31 23:00</td>\n      <td>1.639371</td>\n      <td>9.365071</td>\n      <td>12.488082</td>\n      <td>31.645165</td>\n      <td>26.769100</td>\n      <td>1.217337</td>\n      <td>9.191041</td>\n      <td>35.063170</td>\n      <td>34.358935</td>\n      <td>...</td>\n      <td>10.41294</td>\n      <td>64.19715</td>\n      <td>24.29340</td>\n      <td>41.12065</td>\n      <td>11.36460</td>\n      <td>1.837</td>\n      <td>2.575</td>\n      <td>2.560</td>\n      <td>2.235</td>\n      <td>0.125</td>\n    </tr>\n  </tbody>\n</table>\n<p>3 rows \u00d7 516 columns</p>\n</div>", 
                        "text/plain": "     observation_period  DETH043_CHT_dataGroup1  DEST002_NOx_dataGroup1  \\\n8781   2016-12-31 21:00                2.266842               15.716239   \n8782   2016-12-31 22:00                1.897258               14.546514   \n8783   2016-12-31 23:00                1.639371                9.365071   \n\n      DEST011_NOx_dataGroup1  DEST015_NOx_dataGroup1  DEST029_NOx_dataGroup1  \\\n8781               25.396920               40.195830               51.713060   \n8782                8.653047               33.808410               41.815865   \n8783               12.488082               31.645165               26.769100   \n\n      DEST039_NOx_dataGroup1  DEST044_NOx_dataGroup1  DEST050_NOx_dataGroup1  \\\n8781                1.505132                8.738043               43.085160   \n8782                1.392986                7.927009               39.024955   \n8783                1.217337                9.191041               35.063170   \n\n      DEST066_NOx_dataGroup1  ...  DEST090_O3_dataGroup1  \\\n8781               32.094990  ...               11.18660   \n8782               37.508660  ...               14.38625   \n8783               34.358935  ...               10.41294   \n\n      DEST098_O3_dataGroup1  DEST104_O3_dataGroup1  DEST105_O3_dataGroup1  \\\n8781               38.85265               28.47085               41.19935   \n8782               50.39245               27.49980               41.05190   \n8783               64.19715               24.29340               41.12065   \n\n      DEST106_O3_dataGroup1  DESN020_CHT_dataGroup1  DESN024_CHT_dataGroup1  \\\n8781               13.16545                   1.958                   3.287   \n8782               11.67420                   2.185                   3.593   \n8783               11.36460                   1.837                   2.575   \n\n      DESN025_CHT_dataGroup1  DESN061_CHT_dataGroup1  DESN074_CHT_dataGroup1  \n8781                   2.478                   2.213                   0.206  \n8782                   1.985                   2.168                   0.164  \n8783                   2.560                   2.235                   0.125  \n\n[3 rows x 516 columns]"
                    }, 
                    "execution_count": 4
                }
            ], 
            "metadata": {}
        }, 
        {
            "source": "Now we can save the resulting dataset for further use:\n", 
            "cell_type": "markdown", 
            "metadata": {}
        }, 
        {
            "source": "###dffAll.dtypes\n###fastparquet.write('Capstone.ETL/Capstone.etl.wide.1.0.parquet', dffAll)\n#!mkdir ./Capstone .ETL\ndffAll.to_csv('Capstone.ETL/Capstone.etl.wideCSV.1.0.gzip', compression='gzip', index=False)\n###pd.Period(pd.to_datetime(\"2017-01-01T00:00:00+01:00\"), freq='H').end_time", 
            "cell_type": "code", 
            "execution_count": 5, 
            "outputs": [], 
            "metadata": {}
        }, 
        {
            "source": "### Sensor Locations\nIn order to use the spatial data one should have coordinates of air pollution measurements sensors.\nFor the current study the county index for every individual sensor is needed. First all measurement stations IDs and the town names of the sensors locations are read to **SensorLocation** dataframe:", 
            "cell_type": "markdown", 
            "metadata": {}
        }, 
        {
            "source": "# pick all tags from the XML file\nEtree = etree.parse(\"Capstone.rawData/AQD_DE_D_2017/DE_D_allInOne_metaMeasurements_2017.xml\")\nEroot = Etree.getroot()\nEroot.tag\nEroot.attrib\nAllTags = [elem.tag for elem in Eroot.iter()]\n\n# get correct tag names for 'municipality', 'EUStationCode' and 'featureMember':\nvarMUN = [s for s in AllTags if 'municipality' in s][0]\nvarID  = [s for s in AllTags if 'EUStationCode' in s][0]\nvarFeatMem = [s for s in AllTags if 'featureMember' in s][0]\n\nIDs=[]\nMUNs=[]\n# read 'municipality' and 'EUStationCode' to SensorLocation dataframe:\nfor varr in Eroot.iter(varFeatMem):\n    for child in varr.iter(varMUN):\n        MUNs.append(child.text)\n        for child2 in varr.iter(varID):\n            IDs.append(child2.text)\nSensorLocation=pd.DataFrame({'SensorID': IDs, 'SensorTown': MUNs})\nSensorLocation.tail(5)", 
            "cell_type": "code", 
            "execution_count": 6, 
            "outputs": [
                {
                    "output_type": "execute_result", 
                    "metadata": {}, 
                    "data": {
                        "text/html": "<div>\n<style scoped>\n    .dataframe tbody tr th:only-of-type {\n        vertical-align: middle;\n    }\n\n    .dataframe tbody tr th {\n        vertical-align: top;\n    }\n\n    .dataframe thead th {\n        text-align: right;\n    }\n</style>\n<table border=\"1\" class=\"dataframe\">\n  <thead>\n    <tr style=\"text-align: right;\">\n      <th></th>\n      <th>SensorID</th>\n      <th>SensorTown</th>\n    </tr>\n  </thead>\n  <tbody>\n    <tr>\n      <th>803</th>\n      <td>DEUB005</td>\n      <td>L\u00fcder</td>\n    </tr>\n    <tr>\n      <th>804</th>\n      <td>DEUB028</td>\n      <td>Zingst</td>\n    </tr>\n    <tr>\n      <th>805</th>\n      <td>DEUB029</td>\n      <td>Suhl</td>\n    </tr>\n    <tr>\n      <th>806</th>\n      <td>DEUB030</td>\n      <td>Stechlin</td>\n    </tr>\n    <tr>\n      <th>807</th>\n      <td>DEUB044</td>\n      <td>Garmisch-Partenkirchen</td>\n    </tr>\n  </tbody>\n</table>\n</div>", 
                        "text/plain": "    SensorID              SensorTown\n803  DEUB005                   L\u00fcder\n804  DEUB028                  Zingst\n805  DEUB029                    Suhl\n806  DEUB030                Stechlin\n807  DEUB044  Garmisch-Partenkirchen"
                    }, 
                    "execution_count": 6
                }
            ], 
            "metadata": {}
        }, 
        {
            "source": "In order to map town names to county names, used in the health related datasets, the town-county table **dfCT** will be created. It contains 5-digit county-id (not unique, but characterizing counties in some vicinity), name of town and county: ", 
            "cell_type": "markdown", 
            "metadata": {}
        }, 
        {
            "source": "columns = [(10, 15), (22, 71), (72, 121)]\ndfCT = pd.read_fwf(\"Capstone.rawData/GV100AD3107/GV100AD_310719.ASC\", \n                     colspecs=columns, names=['countyid','town','county'],\n                     encoding=\"iso8859_1\")\ndfCT=dfCT.fillna(method='ffill')\n\ndfCT['town'] = dfCT['town'].str.split(\",\").str[0]\ndfCT.tail(5)", 
            "cell_type": "code", 
            "execution_count": 7, 
            "outputs": [
                {
                    "output_type": "execute_result", 
                    "metadata": {}, 
                    "data": {
                        "text/html": "<div>\n<style scoped>\n    .dataframe tbody tr th:only-of-type {\n        vertical-align: middle;\n    }\n\n    .dataframe tbody tr th {\n        vertical-align: top;\n    }\n\n    .dataframe thead th {\n        text-align: right;\n    }\n</style>\n<table border=\"1\" class=\"dataframe\">\n  <thead>\n    <tr style=\"text-align: right;\">\n      <th></th>\n      <th>countyid</th>\n      <th>town</th>\n      <th>county</th>\n    </tr>\n  </thead>\n  <tbody>\n    <tr>\n      <th>16116</th>\n      <td>16077</td>\n      <td>Starkenberg</td>\n      <td>Schm\u00f6lln/Th\u00fcr.</td>\n    </tr>\n    <tr>\n      <th>16117</th>\n      <td>16077</td>\n      <td>Thonhausen</td>\n      <td>Schm\u00f6lln/Th\u00fcr.</td>\n    </tr>\n    <tr>\n      <th>16118</th>\n      <td>16077</td>\n      <td>Treben</td>\n      <td>Schm\u00f6lln/Th\u00fcr.</td>\n    </tr>\n    <tr>\n      <th>16119</th>\n      <td>16077</td>\n      <td>Vollmershain</td>\n      <td>Schm\u00f6lln/Th\u00fcr.</td>\n    </tr>\n    <tr>\n      <th>16120</th>\n      <td>16077</td>\n      <td>Windischleuba</td>\n      <td>Schm\u00f6lln/Th\u00fcr.</td>\n    </tr>\n  </tbody>\n</table>\n</div>", 
                        "text/plain": "       countyid           town          county\n16116     16077    Starkenberg  Schm\u00f6lln/Th\u00fcr.\n16117     16077     Thonhausen  Schm\u00f6lln/Th\u00fcr.\n16118     16077         Treben  Schm\u00f6lln/Th\u00fcr.\n16119     16077   Vollmershain  Schm\u00f6lln/Th\u00fcr.\n16120     16077  Windischleuba  Schm\u00f6lln/Th\u00fcr."
                    }, 
                    "execution_count": 7
                }
            ], 
            "metadata": {}
        }, 
        {
            "source": "### Prevalence of Heart failures\nThe central data frame of the model will contain list of counties, prevalence of disease(s) in this counties, and the set of air-pollution-based features. Let's load the *Prevalence of Heart failures* dataset: ", 
            "cell_type": "markdown", 
            "metadata": {}
        }, 
        {
            "source": "xlsx_file = pd.ExcelFile(\"Capstone.rawData/Heart_2017/data_id_97_kreis11_2_j_1483228800.xlsx\")\nprint(\"xls sheet names: \",xlsx_file.sheet_names)\ndfHeart = xlsx_file.parse('Daten', header=3, decimal=\",\") \nprint(dfHeart.head(3))\nprint(\"Number of duplicates in Regions-ID column: \", dfHeart.duplicated(['Regions-ID']).sum())", 
            "cell_type": "code", 
            "execution_count": 8, 
            "outputs": [
                {
                    "output_type": "stream", 
                    "name": "stdout", 
                    "text": "xls sheet names:  ['Hintergrundinformationen', 'Daten']\n             Region  Regions-ID  KV           Kreistyp  Wert  Bundeswert\n0            Lk.Hof        9475  BY  L\u00e4ndliches Umland  6.43        3.11\n1  Mansfeld-S\u00fcdharz       15087  ST    L\u00e4ndlicher Raum  6.37        3.11\n2               Hof        9464  BY  L\u00e4ndliches Umland  6.36        3.11\nNumber of duplicates in Regions-ID column:  0\n"
                }
            ], 
            "metadata": {}
        }, 
        {
            "source": "The mapping will start from setting the **countyID** to every **sensorID** in the **SensorLocation** dataframe:\n", 
            "cell_type": "markdown", 
            "metadata": {}
        }, 
        {
            "source": "SensorLocation = (SensorLocation.join(dfCT[['countyid','town']].set_index('town'),\n                                      on='SensorTown')).drop_duplicates(subset=['SensorID'])", 
            "cell_type": "code", 
            "execution_count": 9, 
            "outputs": [], 
            "metadata": {}
        }, 
        {
            "source": "Checking the resulting table it was found, that 30 of 804 entries have not resolved **countyid**:", 
            "cell_type": "markdown", 
            "metadata": {}
        }, 
        {
            "source": "print(\"Total number of sensors: \", SensorLocation.count())\nprint(\"Number of sensors with unresolved countyid: \", SensorLocation[SensorLocation.isna().any(axis=1)].count())\n#print(\"List of unresolved sensors:\")\n#SensorLocation[SensorLocation.isna().any(axis=1)]\n#print(\"Number of duplicates in SensorID column: \", SensorLocation.duplicated(['SensorID']).sum())\n#SensorLocation.loc[SensorLocation.duplicated(['SensorID'])==True]", 
            "cell_type": "code", 
            "execution_count": 10, 
            "outputs": [
                {
                    "output_type": "stream", 
                    "name": "stdout", 
                    "text": "Total number of sensors:  SensorID      808\nSensorTown    808\ncountyid      778\ndtype: int64\nNumber of sensors with unresolved countyid:  SensorID      30\nSensorTown    30\ncountyid       0\ndtype: int64\n"
                }
            ], 
            "metadata": {}
        }, 
        {
            "source": "At the moment it is easier to drop these 4% of sensor's data. Otherwise this table could be corrected manually, since it has reasonable size, and it's contents (sensor lables/county codes) hardly changes in time. ", 
            "cell_type": "markdown", 
            "metadata": {}
        }, 
        {
            "source": "SensorLocation=SensorLocation.dropna()\nSensorLocation=SensorLocation.astype({'countyid':int})\nSensorLocation.head(5)", 
            "cell_type": "code", 
            "execution_count": 11, 
            "outputs": [
                {
                    "output_type": "execute_result", 
                    "metadata": {}, 
                    "data": {
                        "text/html": "<div>\n<style scoped>\n    .dataframe tbody tr th:only-of-type {\n        vertical-align: middle;\n    }\n\n    .dataframe tbody tr th {\n        vertical-align: top;\n    }\n\n    .dataframe thead th {\n        text-align: right;\n    }\n</style>\n<table border=\"1\" class=\"dataframe\">\n  <thead>\n    <tr style=\"text-align: right;\">\n      <th></th>\n      <th>SensorID</th>\n      <th>SensorTown</th>\n      <th>countyid</th>\n    </tr>\n  </thead>\n  <tbody>\n    <tr>\n      <th>0</th>\n      <td>DEBB007</td>\n      <td>Elsterwerda</td>\n      <td>12062</td>\n    </tr>\n    <tr>\n      <th>1</th>\n      <td>DEBB021</td>\n      <td>Potsdam</td>\n      <td>12054</td>\n    </tr>\n    <tr>\n      <th>2</th>\n      <td>DEBB026</td>\n      <td>Spremberg</td>\n      <td>12071</td>\n    </tr>\n    <tr>\n      <th>3</th>\n      <td>DEBB029</td>\n      <td>Schwedt/Oder</td>\n      <td>12073</td>\n    </tr>\n    <tr>\n      <th>4</th>\n      <td>DEBB032</td>\n      <td>Eisenh\u00fcttenstadt</td>\n      <td>12067</td>\n    </tr>\n  </tbody>\n</table>\n</div>", 
                        "text/plain": "  SensorID        SensorTown  countyid\n0  DEBB007       Elsterwerda     12062\n1  DEBB021           Potsdam     12054\n2  DEBB026         Spremberg     12071\n3  DEBB029      Schwedt/Oder     12073\n4  DEBB032  Eisenh\u00fcttenstadt     12067"
                    }, 
                    "execution_count": 11
                }
            ], 
            "metadata": {}
        }, 
        {
            "source": "Finally this data frame will be saved for further use:", 
            "cell_type": "markdown", 
            "metadata": {}
        }, 
        {
            "source": "SensorLocation.to_csv('Capstone.ETL/Capstone.etl.SensorLocationCSV.1.0.csv', index=False)\ndfHeart.to_csv('Capstone.ETL/Capstone.etl.dfHeartCSV.1.0.csv', index=False)", 
            "cell_type": "code", 
            "execution_count": 12, 
            "outputs": [], 
            "metadata": {}
        }, 
        {
            "source": "### Prevalence of Asthma bronchiale\nThe central data frame of the model will contain list of counties, prevalence of disease(s) in this counties, and the set of air-pollution-based features. Let's load the *Prevalence of Asthma bronchiale* dataset: ", 
            "cell_type": "markdown", 
            "metadata": {}
        }, 
        {
            "source": "xlsx_file = pd.ExcelFile(\"Capstone.rawData/Asthma_2016/data_id_92_kreis11_1_j_1451606400.xlsx\")\nprint(\"xls sheet names: \",xlsx_file.sheet_names)\ndfAsthma = xlsx_file.parse('Daten', header=3, decimal=\",\") \nprint(dfAsthma.head(3))\nprint(\"Number of duplicates in Regions-ID column: \", dfAsthma.duplicated(['Regions-ID']).sum())\ndfAsthma.to_csv('Capstone.ETL/Capstone.etl.dfAsthmaCSV.1.0.csv', index=False)", 
            "cell_type": "code", 
            "execution_count": 13, 
            "outputs": [
                {
                    "output_type": "stream", 
                    "name": "stdout", 
                    "text": "xls sheet names:  ['Hintergrundinformationen', 'Daten']\n      Region  Regions-ID  KV             Kreistyp  Wert  Bundeswert\n0   Eisenach       16056  TH    L\u00e4ndliches Umland   8.9         5.7\n1  Sonneberg       16072  TH      L\u00e4ndlicher Raum   8.7         5.7\n2  Ammerland        3451  NI  Verdichtetes Umland   8.5         5.7\nNumber of duplicates in Regions-ID column:  0\n"
                }
            ], 
            "metadata": {}
        }, 
        {
            "source": "", 
            "cell_type": "code", 
            "execution_count": null, 
            "outputs": [], 
            "metadata": {}
        }
    ], 
    "nbformat": 4, 
    "metadata": {
        "kernelspec": {
            "display_name": "Python 3.6", 
            "name": "python3", 
            "language": "python"
        }, 
        "language_info": {
            "mimetype": "text/x-python", 
            "nbconvert_exporter": "python", 
            "version": "3.6.8", 
            "name": "python", 
            "pygments_lexer": "ipython3", 
            "file_extension": ".py", 
            "codemirror_mode": {
                "version": 3, 
                "name": "ipython"
            }
        }
    }
}