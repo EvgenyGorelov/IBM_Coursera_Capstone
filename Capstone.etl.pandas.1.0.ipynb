{
 "cells": [
  {
   "cell_type": "markdown",
   "metadata": {
    "collapsed": true
   },
   "source": [
    "\n",
    "# Advanced Data Science Capstone\n",
    "\n",
    "## Correlation of air pollution and Prevalence of Heart failures in Germany  \n",
    "\n",
    "## Data cleansing and Feature Creation"
   ]
  },
  {
   "cell_type": "markdown",
   "metadata": {},
   "source": [
    "### The deliverables\n",
    "The deliverables of the current stage:\n",
    "\n",
    " - current notebook as the process dokumentation\n",
    " - Pandas dataframe of the \"long\" type, containing time series of pollutants concentrations and the unique sensor ID and a county id\n",
    " - Pandas dataframe with disease prevalence column(s) (heart failures,...) and a county id\n",
    " - Pandas dataframe with disease prevalence column(s), county id, and some features extracted from air pollution data series for sensors located in corresponding county\n",
    "\n",
    "As data sources I use the data sets oficially published by Geschäfts- und Koordinierungsstelle GovData, the search engine is available at https://www.govdata.de/web/guest/suchen.\n",
    "The list of relevant data sets is following:\n",
    "\n",
    "## Air quality:\n",
    "\n",
    "Datastream **E1a** contains measured (Link to Datastream D) values of gas phase pollutants (e.g. Ozone, NO2, SO2, CO), particle pollutats (e.g. dust) and dust constituants (e.g. heavy metals, PAK in PM10, PM2.5, TSP) as well es total deposition (BULK), wet deposition and meteorologic data (e.g. temperature, wind, pressure)for every measurement location.\n",
    "\n",
    "The data for years 2013 - 2018 is available. For the project start I will limit myself with 2017 data,\n",
    "however the method and the model shoud be easily extendable for accommodation of the previous data.\n",
    "\n",
    "Compressed dataset is available at https://datahub.uba.de/server/rest/directories/arcgisforinspire/INSPIRE/aqd_MapServer/Daten/AQD_DE_E1a_2017.zip .\n",
    "\n",
    " - Air quality data (Datastream E1a) - Validated measurements from 2018 (Dataset).\n",
    "   - Metadata in RDF format: https://www.govdata.de/ckan/dataset/cdadb71f-5571-4c95-af2a-d926efb4e3a0.rdf .\n",
    "   - ATOM: Air quality data (INSPIRE Download/Atom Feed): https://datahub.uba.de/server/rest/directories/arcgisforinspire/INSPIRE/aqd_MapServer/Service_5e7bb800-c1db-4343-ac3e-a63204b0f6b7.atom.xml (N/A)\n",
    "   - XML-Metadaa: Air quality data (Datastream E1a) - Validated measurements from 2018 (Dataset): http://www.geoportal.de/gds/xml.php?uuid=cdadb71f-5571-4c95-af2a-d926efb4e3a0\n",
    "   - Positions of the air quality sensors: http://www.geoportal.de/gds/xml.php?uuid=DC9CAF92-8868-4E42-A718-C0EA9A99A5F0.\n",
    "\n",
    "## Health related information\n",
    "Starting the search at the same site (https://www.govdata.de/web/guest/suchen) it was found, that the health indicator data with a fine (county) grid is not available at this site. \n",
    "\n",
    "At the https://de.statista.com/statistik/ the data of interest seems to be appearing, however a payed subscription is needed.\n",
    "\n",
    "Finally, the https://www.versorgungsatlas.de/themen/alle-analysen-nach-datum-sortiert/ site contains county-averaged data on health indicators.\n",
    "\n",
    " - Health indicators\n",
    "   - Self-evaluation of the health status, distribution of \"bad\" values by counties: https://www.versorgungsatlas.de/fileadmin/excel/data_id_31_kreis_1_j_1262217600.xlsx\n",
    "   - Prevalence of Heart failures in the 2017 (used for the study): https://www.versorgungsatlas.de/fileadmin/excel/data_id_97_kreis11_2_j_1483228800.xlsx\n",
    "   \n",
    "## Auxiliary information\n",
    "\n",
    "In order to connect the datasets from different origin, one need to have a geotagging in the same format.\n",
    "The easiest way is to stick on county-based data, attribyte all air pollution sensors positions to corresponding counties."
   ]
  },
  {
   "cell_type": "code",
   "execution_count": null,
   "metadata": {},
   "outputs": [],
   "source": []
  }
 ],
 "metadata": {
  "kernelspec": {
   "display_name": "Python 3",
   "language": "python",
   "name": "python3"
  },
  "language_info": {
   "codemirror_mode": {
    "name": "ipython",
    "version": 3
   },
   "file_extension": ".py",
   "mimetype": "text/x-python",
   "name": "python",
   "nbconvert_exporter": "python",
   "pygments_lexer": "ipython3",
   "version": "3.7.2"
  }
 },
 "nbformat": 4,
 "nbformat_minor": 2
}
