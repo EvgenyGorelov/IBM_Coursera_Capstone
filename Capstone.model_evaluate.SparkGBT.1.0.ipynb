{
    "nbformat_minor": 2, 
    "cells": [
        {
            "source": "# Advanced Data Science Capstone\n\n## Correlation of air pollution and Prevalence of Asthma bronchiale in Germany  \n\n## Model evaluation: Gradient-Boosted Trees (GBTs) in SparkML, 6 feature sets", 
            "cell_type": "markdown", 
            "metadata": {}
        }, 
        {
            "source": "## Loading Feature sets from COS\nImporting necessary libraries:", 
            "cell_type": "markdown", 
            "metadata": {}
        }, 
        {
            "execution_count": 1, 
            "cell_type": "code", 
            "metadata": {}, 
            "outputs": [
                {
                    "output_type": "stream", 
                    "name": "stdout", 
                    "text": "Waiting for a Spark session to start...\nSpark Initialization Done! ApplicationId = app-20190823090127-0001\nKERNEL_ID = 9aeb50d9-a20b-49c5-aa4e-25f629fef7a1\n"
                }
            ], 
            "source": "from pyspark.sql import SparkSession\nimport ibmos2spark\n\nfrom pyspark.ml.feature import StringIndexer\nfrom pyspark.ml.linalg import Vectors\nfrom pyspark.ml.feature import VectorAssembler\nfrom pyspark.ml.feature import Normalizer\nfrom pyspark.ml.linalg import Vectors\nfrom pyspark.ml.classification import GBTClassifier\nfrom pyspark.ml import Pipeline\nfrom pyspark.ml.evaluation import MulticlassClassificationEvaluator\n\n\nfrom pyspark.sql.functions import isnan, when, count, col"
        }, 
        {
            "source": "Starting Spark session and loading Feature Sets from COS:", 
            "cell_type": "markdown", 
            "metadata": {}
        }, 
        {
            "execution_count": 2, 
            "cell_type": "code", 
            "metadata": {}, 
            "outputs": [], 
            "source": "# The code was removed by Watson Studio for sharing."
        }, 
        {
            "source": "# The Model: Gradient-Boosted Trees", 
            "cell_type": "markdown", 
            "metadata": {}
        }, 
        {
            "source": "Preparing indexing of the Disease Feature label (1 if the county is in the Nth percentile of Disease Prevalence, 0 otherwise),\nvectorisation and normalization of the feature set, classification method (*GBT*) and assembling it into a pipeline:", 
            "cell_type": "markdown", 
            "metadata": {}
        }, 
        {
            "execution_count": 3, 
            "cell_type": "code", 
            "metadata": {}, 
            "outputs": [], 
            "source": "indexer = StringIndexer(inputCol=\"DiseaseRFeat\", outputCol=\"label\")\nvectorAssembler = VectorAssembler(inputCols=[\"NO\", \"NO2\", \"PM1\"], outputCol=\"featuresOO\")\nnormalizer = Normalizer(inputCol=\"featuresOO\", outputCol=\"features\", p=1.0)\nclassifier = GBTClassifier(maxIter=10)\nclassifier.setLabelCol('label')\npipeline = Pipeline(stages=[indexer, vectorAssembler, normalizer, classifier])"
        }, 
        {
            "source": "### Evaluating the model on  the available Feature Sets", 
            "cell_type": "markdown", 
            "metadata": {}
        }, 
        {
            "source": "#### 75th percentile for pollutant concentration, 95th percentile for disease prevalence, three pollutants (dfPolLongPerc75Disease95perc)\nTraining the model and estimating in-sample and out-of-sample errors via accuracy metrics for six available feature sets: ", 
            "cell_type": "markdown", 
            "metadata": {}
        }, 
        {
            "execution_count": 4, 
            "cell_type": "code", 
            "metadata": {}, 
            "outputs": [
                {
                    "output_type": "stream", 
                    "name": "stdout", 
                    "text": "for dfPolMeanLongDisease50perc feature set in-sample accuracy is  0.0 , out-of-sample accuracy is  0.5555555555555556\n"
                }
            ], 
            "source": "df = dfPolMeanLongDisease50perc\n\nsplits = df.randomSplit([0.8, 0.2])\ndf_train = splits[0]\ndf_test  = splits[1]\nmodel = pipeline.fit(df_train)\nprediction = model.transform(df_train)\nbinEval = MulticlassClassificationEvaluator().setMetricName(\"accuracy\").setPredictionCol(\"prediction\").setLabelCol(\"DiseaseRFeat\")\nInSampleAcc = binEval.evaluate(prediction)\npredictionTest = model.transform(df_test)\nOutOfSampleAcc = binEval.evaluate(predictionTest)\nprint(\"for dfPolMeanLongDisease50perc feature set in-sample accuracy is \", InSampleAcc, \", out-of-sample accuracy is \", OutOfSampleAcc)"
        }, 
        {
            "execution_count": 5, 
            "cell_type": "code", 
            "metadata": {}, 
            "outputs": [
                {
                    "output_type": "stream", 
                    "name": "stdout", 
                    "text": "for dfPolMeanLongDisease75perc feature set in-sample accuracy is  1.0 , out-of-sample accuracy is  0.6923076923076923\n"
                }
            ], 
            "source": "df = dfPolMeanLongDisease75perc\n\nsplits = df.randomSplit([0.8, 0.2])\ndf_train = splits[0]\ndf_test  = splits[1]\nmodel = pipeline.fit(df_train)\nprediction = model.transform(df_train)\nbinEval = MulticlassClassificationEvaluator().setMetricName(\"accuracy\").setPredictionCol(\"prediction\").setLabelCol(\"DiseaseRFeat\")\nInSampleAcc = binEval.evaluate(prediction)\npredictionTest = model.transform(df_test)\nOutOfSampleAcc = binEval.evaluate(predictionTest)\nprint(\"for dfPolMeanLongDisease75perc feature set in-sample accuracy is \", InSampleAcc, \", out-of-sample accuracy is \", OutOfSampleAcc)"
        }, 
        {
            "execution_count": 6, 
            "cell_type": "code", 
            "metadata": {}, 
            "outputs": [
                {
                    "output_type": "stream", 
                    "name": "stdout", 
                    "text": "for dfPolMeanLongDisease95perc feature set in-sample accuracy is  1.0 , out-of-sample accuracy is  0.8181818181818182\n"
                }
            ], 
            "source": "df = dfPolMeanLongDisease95perc\n\nsplits = df.randomSplit([0.8, 0.2])\ndf_train = splits[0]\ndf_test  = splits[1]\nmodel = pipeline.fit(df_train)\nprediction = model.transform(df_train)\nbinEval = MulticlassClassificationEvaluator().setMetricName(\"accuracy\").setPredictionCol(\"prediction\").setLabelCol(\"DiseaseRFeat\")\nInSampleAcc = binEval.evaluate(prediction)\npredictionTest = model.transform(df_test)\nOutOfSampleAcc = binEval.evaluate(predictionTest)\nprint(\"for dfPolMeanLongDisease95perc feature set in-sample accuracy is \", InSampleAcc, \", out-of-sample accuracy is \", OutOfSampleAcc)"
        }, 
        {
            "execution_count": 7, 
            "cell_type": "code", 
            "metadata": {}, 
            "outputs": [
                {
                    "output_type": "stream", 
                    "name": "stdout", 
                    "text": "for dfPolLongPerc75Disease50perc feature set in-sample accuracy is  0.0 , out-of-sample accuracy is  0.7142857142857143\n"
                }
            ], 
            "source": "df = dfPolLongPerc75Disease50perc\n\nsplits = df.randomSplit([0.8, 0.2])\ndf_train = splits[0]\ndf_test  = splits[1]\nmodel = pipeline.fit(df_train)\nprediction = model.transform(df_train)\nbinEval = MulticlassClassificationEvaluator().setMetricName(\"accuracy\").setPredictionCol(\"prediction\").setLabelCol(\"DiseaseRFeat\")\nInSampleAcc = binEval.evaluate(prediction)\npredictionTest = model.transform(df_test)\nOutOfSampleAcc = binEval.evaluate(predictionTest)\nprint(\"for dfPolLongPerc75Disease50perc feature set in-sample accuracy is \", InSampleAcc, \", out-of-sample accuracy is \", OutOfSampleAcc)"
        }, 
        {
            "execution_count": 8, 
            "cell_type": "code", 
            "metadata": {}, 
            "outputs": [
                {
                    "output_type": "stream", 
                    "name": "stdout", 
                    "text": "for dfPolLongPerc75Disease75perc feature set in-sample accuracy is  1.0 , out-of-sample accuracy is  0.6666666666666666\n"
                }
            ], 
            "source": "df = dfPolLongPerc75Disease75perc\n\nsplits = df.randomSplit([0.8, 0.2])\ndf_train = splits[0]\ndf_test  = splits[1]\nmodel = pipeline.fit(df_train)\nprediction = model.transform(df_train)\nbinEval = MulticlassClassificationEvaluator().setMetricName(\"accuracy\").setPredictionCol(\"prediction\").setLabelCol(\"DiseaseRFeat\")\nInSampleAcc = binEval.evaluate(prediction)\npredictionTest = model.transform(df_test)\nOutOfSampleAcc = binEval.evaluate(predictionTest)\nprint(\"for dfPolLongPerc75Disease75perc feature set in-sample accuracy is \", InSampleAcc, \", out-of-sample accuracy is \", OutOfSampleAcc)"
        }, 
        {
            "execution_count": 9, 
            "cell_type": "code", 
            "metadata": {}, 
            "outputs": [
                {
                    "output_type": "stream", 
                    "name": "stdout", 
                    "text": "for dfPolLongPerc75Disease95perc feature set in-sample accuracy is  1.0 , out-of-sample accuracy is  0.75\n"
                }
            ], 
            "source": "df = dfPolLongPerc75Disease95perc\n\nsplits = df.randomSplit([0.8, 0.2])\ndf_train = splits[0]\ndf_test  = splits[1]\nmodel = pipeline.fit(df_train)\nprediction = model.transform(df_train)\nbinEval = MulticlassClassificationEvaluator().setMetricName(\"accuracy\").setPredictionCol(\"prediction\").setLabelCol(\"DiseaseRFeat\")\nInSampleAcc = binEval.evaluate(prediction)\npredictionTest = model.transform(df_test)\nOutOfSampleAcc = binEval.evaluate(predictionTest)\nprint(\"for dfPolLongPerc75Disease95perc feature set in-sample accuracy is \", InSampleAcc, \", out-of-sample accuracy is \", OutOfSampleAcc)"
        }, 
        {
            "source": "## GBT Summary\n\nAccording to the model evaluation performed above, the best feature set (at least for the *GBT* classifier) is **dfPolMeanLongDisease95perc**, namely mean pollutant concentration over the year and 95th percentile of Asthma Bronchiale prevalence in a county. The second best feature set is **dfPolLongPerc75Disease95perc**, namely the value of 75th percentile of the pollutant concentration over the year and 95th percentile of Asthma Bronchiale prevalence in a county. ", 
            "cell_type": "markdown", 
            "metadata": {}
        }, 
        {
            "execution_count": null, 
            "cell_type": "code", 
            "metadata": {}, 
            "outputs": [], 
            "source": ""
        }
    ], 
    "metadata": {
        "kernelspec": {
            "display_name": "Python 3.6 with Spark", 
            "name": "python36", 
            "language": "python3"
        }, 
        "language_info": {
            "mimetype": "text/x-python", 
            "nbconvert_exporter": "python", 
            "version": "3.6.8", 
            "name": "python", 
            "file_extension": ".py", 
            "pygments_lexer": "ipython3", 
            "codemirror_mode": {
                "version": 3, 
                "name": "ipython"
            }
        }
    }, 
    "nbformat": 4
}