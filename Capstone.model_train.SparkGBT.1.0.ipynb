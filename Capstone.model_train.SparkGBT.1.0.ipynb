{
    "nbformat_minor": 2, 
    "cells": [
        {
            "source": "# Advanced Data Science Capstone\n\n## Correlation of air pollution and Prevalence of Asthma bronchiale in Germany  \n\n## Model definition: Gradient-Boosted Trees (GBTs) in SparkML, polynomial feature set", 
            "cell_type": "markdown", 
            "metadata": {}
        }, 
        {
            "source": "## Loading Feature sets from COS\nImporting necessary libraries:", 
            "cell_type": "markdown", 
            "metadata": {}
        }, 
        {
            "execution_count": 1, 
            "cell_type": "code", 
            "metadata": {}, 
            "outputs": [
                {
                    "output_type": "stream", 
                    "name": "stdout", 
                    "text": "Waiting for a Spark session to start...\nSpark Initialization Done! ApplicationId = app-20190823083749-0001\nKERNEL_ID = 07e08e17-f2f7-448c-ae70-3c42ff5da55c\n"
                }
            ], 
            "source": "from pyspark.sql import SparkSession\nimport ibmos2spark\n\nfrom pyspark.ml.feature import StringIndexer\nfrom pyspark.ml.linalg import Vectors\nfrom pyspark.ml.feature import VectorAssembler\nfrom pyspark.ml.feature import Normalizer\nfrom pyspark.ml.linalg import Vectors\nfrom pyspark.ml.classification import GBTClassifier\nfrom pyspark.ml import Pipeline\nfrom pyspark.ml.evaluation import MulticlassClassificationEvaluator\n\n\nfrom pyspark.sql.functions import isnan, when, count, col"
        }, 
        {
            "source": "Starting Spark session and loading Feature Sets from COS:", 
            "cell_type": "markdown", 
            "metadata": {}
        }, 
        {
            "execution_count": 2, 
            "cell_type": "code", 
            "metadata": {}, 
            "outputs": [], 
            "source": "# The code was removed by Watson Studio for sharing."
        }, 
        {
            "source": "# The Model: Gradient-Boosted Trees", 
            "cell_type": "markdown", 
            "metadata": {}
        }, 
        {
            "source": "Preparing indexing of the Disease Feature label (1 if the county is in the Nth percentile of Disease Prevalence, 0 otherwise),\nvectorisation and normalization of the feature set, classification method (*GBT*) and assembling it into a pipeline:", 
            "cell_type": "markdown", 
            "metadata": {}
        }, 
        {
            "execution_count": 3, 
            "cell_type": "code", 
            "metadata": {}, 
            "outputs": [], 
            "source": "indexer = StringIndexer(inputCol=\"DiseaseRFeat\", outputCol=\"label\")\nvectorAssembler = VectorAssembler(inputCols=[\"NO\", \"NO2\", \"PM1\"], outputCol=\"featuresOO\")\nnormalizer = Normalizer(inputCol=\"featuresOO\", outputCol=\"features\", p=1.0)\nclassifier = GBTClassifier(maxIter=10)\nclassifier.setLabelCol('label')\npipeline = Pipeline(stages=[indexer, vectorAssembler, normalizer, classifier])"
        }, 
        {
            "source": "### Training the model on  the available Feature Sets", 
            "cell_type": "markdown", 
            "metadata": {}
        }, 
        {
            "source": "#### 75th percentile for pollutant concentration, 75th percentile for disease prevalence, three pollutants (dfPolLongPerc75Disease95perc)", 
            "cell_type": "markdown", 
            "metadata": {}
        }, 
        {
            "execution_count": 4, 
            "cell_type": "code", 
            "metadata": {}, 
            "outputs": [], 
            "source": "df = dfPolLongPerc75Disease95perc"
        }, 
        {
            "source": "Checking the schema of the loaded Feature set, prove the absence of *null* values in it, and checking that both disease labels exist in the data:", 
            "cell_type": "markdown", 
            "metadata": {}
        }, 
        {
            "execution_count": 5, 
            "cell_type": "code", 
            "metadata": {}, 
            "outputs": [
                {
                    "output_type": "stream", 
                    "name": "stdout", 
                    "text": "root\n |-- CountyID: long (nullable = true)\n |-- DiseaseRFeat: integer (nullable = true)\n |-- NO: double (nullable = true)\n |-- NO2: double (nullable = true)\n |-- PM1: double (nullable = true)\n\n+--------+------------+---+---+---+\n|CountyID|DiseaseRFeat| NO|NO2|PM1|\n+--------+------------+---+---+---+\n|       0|           0|  0|  0|  0|\n+--------+------------+---+---+---+\n\n+-----+\n|label|\n+-----+\n|  0.0|\n|  1.0|\n+-----+\n\n"
                }
            ], 
            "source": "df.printSchema()\ndf.select([count(when(isnan(c), c)).alias(c) for c in df.columns]).show()\nindexed = indexer.fit(df).transform(df)\nindexed.select('label').distinct().show()"
        }, 
        {
            "source": "Splitting the data set into *train* and *test* manifolds:", 
            "cell_type": "markdown", 
            "metadata": {}
        }, 
        {
            "execution_count": 6, 
            "cell_type": "code", 
            "metadata": {}, 
            "outputs": [
                {
                    "output_type": "stream", 
                    "name": "stdout", 
                    "text": "Size of the train set is  43 , size of the test set is  6\n"
                }
            ], 
            "source": "splits = df.randomSplit([0.8, 0.2])\ndf_train = splits[0]\ndf_test  = splits[1]\nprint(\"Size of the train set is \", df_train.count(), \", size of the test set is \", df_test.count())"
        }, 
        {
            "source": "Training the model and estimating in-sample and out-of-sample errors via accuracy metrics:", 
            "cell_type": "markdown", 
            "metadata": {}
        }, 
        {
            "execution_count": 7, 
            "cell_type": "code", 
            "metadata": {}, 
            "outputs": [
                {
                    "output_type": "stream", 
                    "name": "stdout", 
                    "text": "in-sample accuracy is  1.0 , out-of-sample accuracy is  0.8333333333333334\n"
                }
            ], 
            "source": "model = pipeline.fit(df_train)\nprediction = model.transform(df_train)\nbinEval = MulticlassClassificationEvaluator().setMetricName(\"accuracy\").setPredictionCol(\"prediction\").setLabelCol(\"DiseaseRFeat\")\nInSampleAcc = binEval.evaluate(prediction)\npredictionTest = model.transform(df_test)\nOutOfSampleAcc = binEval.evaluate(predictionTest)\nprint(\"in-sample accuracy is \", InSampleAcc, \", out-of-sample accuracy is \", OutOfSampleAcc)"
        }, 
        {
            "source": "## GBT Summary\nThe GBT in the default configuration gives 92% accuracy on the dfPolLongPerc75Disease95perc feature set (correlation between 75th percentile of high pollutant concentration and 95th percentile of Asthma Bronchiale prevalence)", 
            "cell_type": "markdown", 
            "metadata": {}
        }
    ], 
    "metadata": {
        "kernelspec": {
            "display_name": "Python 3.6 with Spark", 
            "name": "python36", 
            "language": "python3"
        }, 
        "language_info": {
            "mimetype": "text/x-python", 
            "nbconvert_exporter": "python", 
            "version": "3.6.8", 
            "name": "python", 
            "file_extension": ".py", 
            "pygments_lexer": "ipython3", 
            "codemirror_mode": {
                "version": 3, 
                "name": "ipython"
            }
        }
    }, 
    "nbformat": 4
}