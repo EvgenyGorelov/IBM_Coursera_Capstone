{
    "nbformat_minor": 2, 
    "cells": [
        {
            "source": "# Advanced Data Science Capstone\n\n## Correlation of air pollution and Prevalence of Asthma bronchiale in Germany  \n\n## Model definition: Gradient-Boosted Trees (GBTs) in SparkML", 
            "cell_type": "markdown", 
            "metadata": {}
        }, 
        {
            "execution_count": 1, 
            "cell_type": "code", 
            "metadata": {}, 
            "outputs": [
                {
                    "output_type": "stream", 
                    "name": "stdout", 
                    "text": "Waiting for a Spark session to start...\nSpark Initialization Done! ApplicationId = app-20190814083346-0001\nKERNEL_ID = dba4046c-7b17-4399-8f69-5f7a38ec3901\nCapstone.rawData  logs\tspark-events  user-libs\n"
                }
            ], 
            "source": "!ls ./\n#Capstone.FeatureEng/"
        }, 
        {
            "source": "### Data ETL and feature generation block for the current environment", 
            "cell_type": "markdown", 
            "metadata": {}
        }, 
        {
            "execution_count": 2, 
            "cell_type": "code", 
            "metadata": {}, 
            "outputs": [], 
            "source": "# Libraries:\nimport pandas as pd\nimport numpy as np\nimport matplotlib.pyplot as plt\nimport re\nimport urllib.request\nimport collections\nfrom io import StringIO\nimport os, fnmatch\nimport xml.etree.ElementTree as ET\nfrom lxml import etree\n\n"
        }, 
        {
            "execution_count": 3, 
            "cell_type": "code", 
            "metadata": {}, 
            "outputs": [
                {
                    "output_type": "stream", 
                    "name": "stdout", 
                    "text": "total 0\nArchive:  Capstone.rawData/AQD_DE_E1a_2016/AQD_DE_E1a_2016.zip\n  inflating: Capstone.rawData/AQD_DE_E1a_2016/DE_SH_2016_NO2_hour.xml  \n  inflating: Capstone.rawData/AQD_DE_E1a_2016/DE_SH_2016_NOx_hour.xml  \n  inflating: Capstone.rawData/AQD_DE_E1a_2016/DE_SH_2016_NO_hour.xml  \n  inflating: Capstone.rawData/AQD_DE_E1a_2016/DE_SH_2016_O3_hour.xml  \n  inflating: Capstone.rawData/AQD_DE_E1a_2016/DE_SH_2016_PM1_day.xml  \n  inflating: Capstone.rawData/AQD_DE_E1a_2016/DE_SH_2016_PM1_hour.xml  \n  inflating: Capstone.rawData/AQD_DE_E1a_2016/DE_SH_2016_PM2_day.xml  \n  inflating: Capstone.rawData/AQD_DE_E1a_2016/DE_SH_2016_PM2_hour.xml  \n  inflating: Capstone.rawData/AQD_DE_E1a_2016/DE_SH_2016_SO2_hour.xml  \n  inflating: Capstone.rawData/AQD_DE_E1a_2016/DE_SL_2016_CO_hour.xml  \n  inflating: Capstone.rawData/AQD_DE_E1a_2016/DE_SL_2016_NO2_hour.xml  \n  inflating: Capstone.rawData/AQD_DE_E1a_2016/DE_SL_2016_NO_hour.xml  \n  inflating: Capstone.rawData/AQD_DE_E1a_2016/DE_SL_2016_O3_hour.xml  \n  inflating: Capstone.rawData/AQD_DE_E1a_2016/DE_SL_2016_PM1_day.xml  \n  inflating: Capstone.rawData/AQD_DE_E1a_2016/DE_SL_2016_PM1_hour.xml  \n  inflating: Capstone.rawData/AQD_DE_E1a_2016/DE_SL_2016_PM2_hour.xml  \n  inflating: Capstone.rawData/AQD_DE_E1a_2016/DE_SL_2016_SO2_hour.xml  \n  inflating: Capstone.rawData/AQD_DE_E1a_2016/DE_SN_2016_CHB_hour.xml  \n  inflating: Capstone.rawData/AQD_DE_E1a_2016/DE_SN_2016_CHT_hour.xml  \n  inflating: Capstone.rawData/AQD_DE_E1a_2016/DE_SN_2016_NO2_hour.xml  \n  inflating: Capstone.rawData/AQD_DE_E1a_2016/DE_SN_2016_NOx_hour.xml  \n  inflating: Capstone.rawData/AQD_DE_E1a_2016/DE_SN_2016_NO_hour.xml  \n  inflating: Capstone.rawData/AQD_DE_E1a_2016/DE_SN_2016_O3_hour.xml  \n  inflating: Capstone.rawData/AQD_DE_E1a_2016/DE_SN_2016_PM1_day.xml  \n  inflating: Capstone.rawData/AQD_DE_E1a_2016/DE_SN_2016_PM1_hour.xml  \n  inflating: Capstone.rawData/AQD_DE_E1a_2016/DE_SN_2016_PM2_day.xml  \n  inflating: Capstone.rawData/AQD_DE_E1a_2016/DE_SN_2016_SO2_hour.xml  \n  inflating: Capstone.rawData/AQD_DE_E1a_2016/DE_ST_2016_CHB_hour.xml  \n  inflating: Capstone.rawData/AQD_DE_E1a_2016/DE_ST_2016_CHT_hour.xml  \n  inflating: Capstone.rawData/AQD_DE_E1a_2016/DE_ST_2016_CO_hour.xml  \n  inflating: Capstone.rawData/AQD_DE_E1a_2016/DE_ST_2016_H2S_hour.xml  \n  inflating: Capstone.rawData/AQD_DE_E1a_2016/DE_ST_2016_NO2_hour.xml  \n  inflating: Capstone.rawData/AQD_DE_E1a_2016/DE_ST_2016_NOx_hour.xml  \n  inflating: Capstone.rawData/AQD_DE_E1a_2016/DE_ST_2016_NO_hour.xml  \n  inflating: Capstone.rawData/AQD_DE_E1a_2016/DE_ST_2016_O3_hour.xml  \n  inflating: Capstone.rawData/AQD_DE_E1a_2016/DE_ST_2016_PM1_day.xml  \n  inflating: Capstone.rawData/AQD_DE_E1a_2016/DE_ST_2016_PM1_hour.xml  \n  inflating: Capstone.rawData/AQD_DE_E1a_2016/DE_ST_2016_PM2_day.xml  \n  inflating: Capstone.rawData/AQD_DE_E1a_2016/DE_ST_2016_PM2_hour.xml  \n  inflating: Capstone.rawData/AQD_DE_E1a_2016/DE_ST_2016_SO2_hour.xml  \n  inflating: Capstone.rawData/AQD_DE_E1a_2016/DE_TH_2016_CHB_hour.xml  \n  inflating: Capstone.rawData/AQD_DE_E1a_2016/DE_TH_2016_CHT_hour.xml  \n  inflating: Capstone.rawData/AQD_DE_E1a_2016/DE_TH_2016_CO_hour.xml  \n  inflating: Capstone.rawData/AQD_DE_E1a_2016/DE_TH_2016_NO2_hour.xml  \n  inflating: Capstone.rawData/AQD_DE_E1a_2016/DE_TH_2016_NOx_hour.xml  \n  inflating: Capstone.rawData/AQD_DE_E1a_2016/DE_TH_2016_NO_hour.xml  \n  inflating: Capstone.rawData/AQD_DE_E1a_2016/DE_TH_2016_O3_hour.xml  \n  inflating: Capstone.rawData/AQD_DE_E1a_2016/DE_TH_2016_PM1_hour.xml  \n  inflating: Capstone.rawData/AQD_DE_E1a_2016/DE_TH_2016_PM2_hour.xml  \n  inflating: Capstone.rawData/AQD_DE_E1a_2016/DE_TH_2016_SO2_hour.xml  \n  inflating: Capstone.rawData/AQD_DE_E1a_2016/DE_UB_2016_CO_hour.xml  \n  inflating: Capstone.rawData/AQD_DE_E1a_2016/DE_UB_2016_HG_day.xml  \n  inflating: Capstone.rawData/AQD_DE_E1a_2016/DE_UB_2016_NO2_hour.xml  \n  inflating: Capstone.rawData/AQD_DE_E1a_2016/DE_UB_2016_NOx_hour.xml  \n  inflating: Capstone.rawData/AQD_DE_E1a_2016/DE_UB_2016_NO_hour.xml  \n  inflating: Capstone.rawData/AQD_DE_E1a_2016/DE_UB_2016_O3_hour.xml  \n  inflating: Capstone.rawData/AQD_DE_E1a_2016/DE_UB_2016_PM0_day.xml  \n  inflating: Capstone.rawData/AQD_DE_E1a_2016/DE_UB_2016_PM1_day.xml  \n  inflating: Capstone.rawData/AQD_DE_E1a_2016/DE_UB_2016_PM1_hour.xml  \n  inflating: Capstone.rawData/AQD_DE_E1a_2016/DE_UB_2016_PM2_day.xml  \n  inflating: Capstone.rawData/AQD_DE_E1a_2016/DE_UB_2016_PM2_hour.xml  \n  inflating: Capstone.rawData/AQD_DE_E1a_2016/DE_UB_2016_SO2_hour.xml  \nArchive:  Capstone.rawData/AQD_DE_D_2017.zip\n   creating: Capstone.rawData/AQD_DE_D_2017/\n  inflating: Capstone.rawData/AQD_DE_D_2017/DE_D_allInOne_metaMeasurements_2017.xml  \n  inflating: Capstone.rawData/AQD_DE_D_2017/DE_D_Model_2017.xml  \nArchive:  Capstone.rawData/GV100AD3107.zip\n  inflating: Capstone.rawData/GV100AD3107/Datensatzbeschreibung_GV100AD.pdf  \n  inflating: Capstone.rawData/GV100AD3107/GV100AD_310719.ASC  \n  inflating: Capstone.rawData/GV100AD3107/Hinweise.txt  \nxls sheet names:  ['Hintergrundinformationen', 'Daten']\n      Region  Regions-ID  KV             Kreistyp  Wert  Bundeswert\n0   Eisenach       16056  TH    L\u00e4ndliches Umland   8.9         5.7\n1  Sonneberg       16072  TH      L\u00e4ndlicher Raum   8.7         5.7\n2  Ammerland        3451  NI  Verdichtetes Umland   8.5         5.7\nLength of the dataset:  402\nxls sheet names:  ['Hintergrundinformationen', 'Daten']\n             Region  Regions-ID  KV           Kreistyp  Wert  Bundeswert\n0            Lk.Hof        9475  BY  L\u00e4ndliches Umland  6.43        3.11\n1  Mansfeld-S\u00fcdharz       15087  ST    L\u00e4ndlicher Raum  6.37        3.11\n2               Hof        9464  BY  L\u00e4ndliches Umland  6.36        3.11\nLength of the dataset:  402\n"
                }, 
                {
                    "execution_count": 3, 
                    "metadata": {}, 
                    "data": {
                        "text/plain": "array([[<matplotlib.axes._subplots.AxesSubplot object at 0x7fc250067e80>]],\n      dtype=object)"
                    }, 
                    "output_type": "execute_result"
                }, 
                {
                    "output_type": "display_data", 
                    "data": {
                        "text/plain": "<Figure size 432x288 with 0 Axes>"
                    }, 
                    "metadata": {}
                }, 
                {
                    "output_type": "display_data", 
                    "data": {
                        "image/png": "[encoded data removed]", 
                        "text/plain": "<Figure size 432x288 with 1 Axes>"
                    }, 
                    "metadata": {
                        "needs_background": "light"
                    }
                }, 
                {
                    "output_type": "display_data", 
                    "data": {
                        "text/plain": "<Figure size 432x288 with 0 Axes>"
                    }, 
                    "metadata": {}
                }, 
                {
                    "output_type": "display_data", 
                    "data": {
                        "image/png": "[encoded data removed]", 
                        "text/plain": "<Figure size 432x288 with 1 Axes>"
                    }, 
                    "metadata": {
                        "needs_background": "light"
                    }
                }
            ], 
            "source": "!rm -rf ./Capstone.rawData\n## Download and decompress the dataset itself:\n!mkdir Capstone.rawData\n!ls -l Capstone.rawData/\n\n##### Pollution 2016\n!mkdir Capstone.rawData/AQD_DE_E1a_2016\nurllib.request.urlretrieve(\"https://datahub.uba.de/server/rest/directories/arcgisforinspire/INSPIRE/aqd_MapServer/Daten/AQD_DE_E1a_2016.zip\", \"Capstone.rawData/AQD_DE_E1a_2016.zip\")\n!mv Capstone.rawData/AQD_DE_E1a_2016.zip Capstone.rawData/AQD_DE_E1a_2016/\n!unzip Capstone.rawData/AQD_DE_E1a_2016/AQD_DE_E1a_2016.zip -d Capstone.rawData/\n!rm Capstone.rawData/AQD_DE_E1a_2016/AQD_DE_E1a_2016.zip\n\n##Download Sensor positions\nurllib.request.urlretrieve(\"https://datahub.uba.de/server/rest/directories/arcgisforinspire/INSPIRE/aqd_MapServer/Daten/AQD_DE_D_2017.zip\", \"Capstone.rawData/AQD_DE_D_2017.zip\")\n!unzip Capstone.rawData/AQD_DE_D_2017.zip -d Capstone.rawData/\n!rm Capstone.rawData/AQD_DE_D_2017.zip\n\n## Download Town-county dataset:\nurllib.request.urlretrieve(\"https://www.destatis.de/DE/Themen/Laender-Regionen/Regionales/Gemeindeverzeichnis/Administrativ/Archiv/GV100ADQ/GV100AD3107.zip?__blob=publicationFile\",\n                           \"Capstone.rawData/GV100AD3107.zip\")\n!mkdir Capstone.rawData/GV100AD3107\n!unzip Capstone.rawData/GV100AD3107.zip -d Capstone.rawData/GV100AD3107/\n!rm Capstone.rawData/GV100AD3107.zip\n\n!mkdir Capstone.rawData/Asthma_2016\nurllib.request.urlretrieve(\"https://www.versorgungsatlas.de/fileadmin/excel/data_id_92_kreis11_1_j_1451606400.xlsx\", \"Capstone.rawData/Asthma_2016/data_id_92_kreis11_1_j_1451606400.xlsx\")\n\nxlsx_file = pd.ExcelFile(\"Capstone.rawData/Asthma_2016/data_id_92_kreis11_1_j_1451606400.xlsx\")\nprint(\"xls sheet names: \",xlsx_file.sheet_names)\ndfAsthma = xlsx_file.parse('Daten', header=3, decimal=\",\") \nprint(dfAsthma.head(3))\nprint(\"Length of the dataset: \",len(dfAsthma))\nplt.figure()\ndfAsthma.hist(column='Wert')\n\n!mkdir Capstone.rawData/Heart_2017\nurllib.request.urlretrieve(\"https://www.versorgungsatlas.de/fileadmin/excel/data_id_97_kreis11_2_j_1483228800.xlsx\", \"Capstone.rawData/Heart_2017/data_id_97_kreis11_2_j_1483228800.xlsx\")\n\nxlsx_file = pd.ExcelFile(\"Capstone.rawData/Heart_2017/data_id_97_kreis11_2_j_1483228800.xlsx\")\nprint(\"xls sheet names: \",xlsx_file.sheet_names)\ndfHeart = xlsx_file.parse('Daten', header=3, decimal=\",\") \nprint(dfHeart.head(3))\nprint(\"Length of the dataset: \",len(dfHeart))\nplt.figure()\ndfHeart.hist(column='Wert')\n"
        }, 
        {
            "execution_count": 4, 
            "cell_type": "code", 
            "metadata": {}, 
            "outputs": [], 
            "source": "def FetchXMLentryByWord(varName, NumToPrint):\n    varFull = [s for s in AllTags if varName in s][NumToPrint]\n    print(varFull)\n    print([(varr.attrib, varr.text) for varr in Eroot.iter(varFull)][NumToPrint])\n    print('\\n')\ndef FetchAllXMLentriesByWord(varName):\n    varFull = [s for s in AllTags if varName in s][0]\n    print([(varr.attrib) for varr in Eroot.iter(varFull)])\n    print('\\n')\ndef FetchAllXMLsensorID():\n    varFull = [s for s in AllTags if 'value' in s][0]\n    print([re.sub(r'[^a-zA-Z0-9:]*\\'{http(.*)$', r'', re.sub(r'^.*AQD\\/SPO.DE_', r'', str(varr.attrib))) for varr in Eroot.iter(varFull) if 'AQD' in str(varr.attrib)]) \n    print('\\n')\ndef SelectAllXMLsensorID():\n    varFull = [s for s in AllTags if 'value' in s][0]\n    return([re.sub(r'[^a-zA-Z0-9:]*\\'{http(.*)$', r'', re.sub(r'^.*AQD\\/SPO.DE_', r'', str(varr.attrib))) for varr in Eroot.iter(varFull) if 'AQD' in str(varr.attrib)]) \n"
        }, 
        {
            "execution_count": 5, 
            "cell_type": "code", 
            "metadata": {}, 
            "outputs": [
                {
                    "output_type": "stream", 
                    "name": "stdout", 
                    "text": "Number of files in the dataset 51\n"
                }
            ], 
            "source": "AirE1aDir='Capstone.rawData/AQD_DE_E1a_2016/'\n\n#!ls Capstone.rawData/AQD_DE_E1a_2017/*hour*\nFilesHour=[]\n\nfor file in os.listdir(AirE1aDir):\n    if fnmatch.fnmatch(file, '*hour*'):\n        FilesHour.append(file)\nprint(\"Number of files in the dataset\", len(FilesHour))\n\n# shortening the process for debugging purposes\n#FilesHour=FilesHour[0:3]        \n\ndffAll=pd.DataFrame(index=range(0,8760))  # 8760 hours in the year\n\n# add First column with Observation Times:\ndff=[]  # Temporary list for DataFrames\n\nfile=FilesHour[0]\nEtree = ET.parse(AirE1aDir+file)\nEroot = Etree.getroot()\nEroot.tag\nEroot.attrib\nAllTags = [elem.tag for elem in Eroot.iter()]\nvarFull = [s for s in AllTags if 'values' in s][0]\nfor varr in Eroot.iter(varFull):\n    dff.append(pd.read_csv(StringIO((varr.text).replace(\"@@\",\"\\n\")), sep=\",\", header=None))\ndffAll=pd.concat([dffAll, dff[0][[0]]], axis=1)\ndffAll.columns=['observation_period']\n\n\n# get all tags in xml file; Note, that the actual data is kept as a TEXT of *values* tags \nfor file in FilesHour:\n    Etree = ET.parse(AirE1aDir+file)\n    Eroot = Etree.getroot()\n    Eroot.tag\n    Eroot.attrib\n    AllTags = [elem.tag for elem in Eroot.iter()]\n    \n    ColNamesExp=SelectAllXMLsensorID()\n# Compare column names with file names, they should encode same country, state and pollutant\n    for ColName in ColNamesExp:\n        if ((ColName[0:2]!=file[0:2]) or (ColName[2:4]!=file[3:5]) or (ColName[8:11]!=file[11:14])):\n            print(\"Inconsistency in file and column names: \", file, ColName)\n            exit()\n    \n    varFull = [s for s in AllTags if 'values' in s][0]\n    \n    dff=[] # Temporary list for DataFrames\n# reading actual pollutant data fiom the text field:    \n    for varr in Eroot.iter(varFull):\n        dff.append(pd.read_csv(StringIO((varr.text).replace(\"@@\",\"\\n\")), sep=\",\", header=None))\n\n# checking, that measurment timestamps are identical in the files read       \n    for s in range(0,len(dff)):\n        if not (dffAll['observation_period']).equals(dff[s][0]):\n            print(\"Inconsistency of observation times in the following files: \", file, FilesHour[0])\n            exit()\n\n        \n# select column 4 - pollutant concentration:\n    dff=pd.concat([dff[s][4] for s in range(0,len(dff))], axis=1)\n    dff.columns=ColNamesExp\n   \n    dffAll=pd.concat([dffAll, dff], axis=1)"
        }, 
        {
            "execution_count": 6, 
            "cell_type": "code", 
            "metadata": {}, 
            "outputs": [
                {
                    "output_type": "stream", 
                    "name": "stderr", 
                    "text": "/opt/ibm/conda/miniconda36/lib/python3.6/site-packages/ipykernel/__main__.py:3: FutureWarning: Series.nonzero() is deprecated and will be removed in a future version.Use Series.to_numpy().nonzero() instead\n  app.launch_new_instance()\n"
                }, 
                {
                    "output_type": "stream", 
                    "name": "stdout", 
                    "text": "The number of corrupted columns is  10  of  526\n"
                }, 
                {
                    "output_type": "stream", 
                    "name": "stderr", 
                    "text": "/opt/ibm/conda/miniconda36/lib/python3.6/site-packages/pandas/core/arrays/datetimes.py:1172: UserWarning: Converting to PeriodArray/Index representation will drop timezone information.\n  \"will drop timezone information.\", UserWarning)\n"
                }, 
                {
                    "execution_count": 6, 
                    "metadata": {}, 
                    "data": {
                        "text/html": "<div>\n<style scoped>\n    .dataframe tbody tr th:only-of-type {\n        vertical-align: middle;\n    }\n\n    .dataframe tbody tr th {\n        vertical-align: top;\n    }\n\n    .dataframe thead th {\n        text-align: right;\n    }\n</style>\n<table border=\"1\" class=\"dataframe\">\n  <thead>\n    <tr style=\"text-align: right;\">\n      <th></th>\n      <th>observation_period</th>\n      <th>DESH008_NO2_dataGroup1</th>\n      <th>DESH022_NO2_dataGroup1</th>\n      <th>DESH023_NO2_dataGroup1</th>\n      <th>DESH025_NO2_dataGroup1</th>\n      <th>DESH027_NO2_dataGroup1</th>\n      <th>DESH028_NO2_dataGroup1</th>\n      <th>DESH030_NO2_dataGroup1</th>\n      <th>DESH033_NO2_dataGroup1</th>\n      <th>DESH035_NO2_dataGroup1</th>\n      <th>...</th>\n      <th>DEUB029_PM1_dataGroup1</th>\n      <th>DEUB030_PM1_dataGroup1</th>\n      <th>DEUB005_PM2_dataGroup1</th>\n      <th>DEUB001_SO2_dataGroup1</th>\n      <th>DEUB004_SO2_dataGroup1</th>\n      <th>DEUB005_SO2_dataGroup1</th>\n      <th>DEUB028_SO2_dataGroup1</th>\n      <th>DEUB029_SO2_dataGroup1</th>\n      <th>DEUB030_SO2_dataGroup1</th>\n      <th>DEUB046_SO2_dataGroup1</th>\n    </tr>\n  </thead>\n  <tbody>\n    <tr>\n      <th>8781</th>\n      <td>2016-12-31 21:00</td>\n      <td>24.274</td>\n      <td>22.780</td>\n      <td>33.092</td>\n      <td>28.640</td>\n      <td>29.738</td>\n      <td>28.722</td>\n      <td>35.438</td>\n      <td>25.233</td>\n      <td>26.793</td>\n      <td>...</td>\n      <td>3.50</td>\n      <td>8.87</td>\n      <td>11.67</td>\n      <td>0.21</td>\n      <td>0.46</td>\n      <td>1.16</td>\n      <td>0.33</td>\n      <td>0.35</td>\n      <td>0.47</td>\n      <td>1.07</td>\n    </tr>\n    <tr>\n      <th>8782</th>\n      <td>2016-12-31 22:00</td>\n      <td>22.592</td>\n      <td>21.262</td>\n      <td>33.049</td>\n      <td>27.886</td>\n      <td>29.738</td>\n      <td>29.114</td>\n      <td>37.843</td>\n      <td>23.267</td>\n      <td>28.229</td>\n      <td>...</td>\n      <td>7.58</td>\n      <td>13.40</td>\n      <td>12.11</td>\n      <td>0.20</td>\n      <td>0.47</td>\n      <td>1.52</td>\n      <td>0.29</td>\n      <td>0.35</td>\n      <td>0.62</td>\n      <td>1.21</td>\n    </tr>\n    <tr>\n      <th>8783</th>\n      <td>2016-12-31 23:00</td>\n      <td>21.737</td>\n      <td>20.361</td>\n      <td>32.630</td>\n      <td>28.721</td>\n      <td>29.738</td>\n      <td>30.624</td>\n      <td>36.119</td>\n      <td>20.998</td>\n      <td>31.436</td>\n      <td>...</td>\n      <td>18.37</td>\n      <td>12.87</td>\n      <td>11.88</td>\n      <td>0.19</td>\n      <td>0.44</td>\n      <td>1.69</td>\n      <td>0.32</td>\n      <td>0.39</td>\n      <td>0.80</td>\n      <td>1.25</td>\n    </tr>\n  </tbody>\n</table>\n<p>3 rows \u00d7 516 columns</p>\n</div>", 
                        "text/plain": "     observation_period  DESH008_NO2_dataGroup1  DESH022_NO2_dataGroup1  \\\n8781   2016-12-31 21:00                  24.274                  22.780   \n8782   2016-12-31 22:00                  22.592                  21.262   \n8783   2016-12-31 23:00                  21.737                  20.361   \n\n      DESH023_NO2_dataGroup1  DESH025_NO2_dataGroup1  DESH027_NO2_dataGroup1  \\\n8781                  33.092                  28.640                  29.738   \n8782                  33.049                  27.886                  29.738   \n8783                  32.630                  28.721                  29.738   \n\n      DESH028_NO2_dataGroup1  DESH030_NO2_dataGroup1  DESH033_NO2_dataGroup1  \\\n8781                  28.722                  35.438                  25.233   \n8782                  29.114                  37.843                  23.267   \n8783                  30.624                  36.119                  20.998   \n\n      DESH035_NO2_dataGroup1  ...  DEUB029_PM1_dataGroup1  \\\n8781                  26.793  ...                    3.50   \n8782                  28.229  ...                    7.58   \n8783                  31.436  ...                   18.37   \n\n      DEUB030_PM1_dataGroup1  DEUB005_PM2_dataGroup1  DEUB001_SO2_dataGroup1  \\\n8781                    8.87                   11.67                    0.21   \n8782                   13.40                   12.11                    0.20   \n8783                   12.87                   11.88                    0.19   \n\n      DEUB004_SO2_dataGroup1  DEUB005_SO2_dataGroup1  DEUB028_SO2_dataGroup1  \\\n8781                    0.46                    1.16                    0.33   \n8782                    0.47                    1.52                    0.29   \n8783                    0.44                    1.69                    0.32   \n\n      DEUB029_SO2_dataGroup1  DEUB030_SO2_dataGroup1  DEUB046_SO2_dataGroup1  \n8781                    0.35                    0.47                    1.07  \n8782                    0.35                    0.62                    1.21  \n8783                    0.39                    0.80                    1.25  \n\n[3 rows x 516 columns]"
                    }, 
                    "output_type": "execute_result"
                }
            ], 
            "source": "dffAll[dffAll.loc[:, dffAll.columns != 'observation_period'] < 0.0] = np.NaN\ndffAll.interpolate(method='linear', inplace=True, axis=0, limit=876, limit_direction='both')\nprint('The number of corrupted columns is ', len(dffAll.isna().sum().nonzero()[0]), ' of ', len(dffAll.columns))\ndffAll = dffAll.dropna(axis=1)\ndffAll['observation_period']=pd.to_datetime(dffAll['observation_period'])\ndffAll['observation_period']=dffAll['observation_period'].dt.to_period('H')\n#dffAll['observation_period'][0].end_time\ndffAll.tail(3)"
        }, 
        {
            "execution_count": 7, 
            "cell_type": "code", 
            "metadata": {}, 
            "outputs": [], 
            "source": "#!rm -rf ./Capstone.ETL\n#!mkdir ./Capstone.ETL\n#dffAll.to_csv('Capstone.ETL/Capstone.etl.wideCSV.1.0.gzip', compression='gzip', index=False)"
        }, 
        {
            "execution_count": 8, 
            "cell_type": "code", 
            "metadata": {}, 
            "outputs": [
                {
                    "execution_count": 8, 
                    "metadata": {}, 
                    "data": {
                        "text/html": "<div>\n<style scoped>\n    .dataframe tbody tr th:only-of-type {\n        vertical-align: middle;\n    }\n\n    .dataframe tbody tr th {\n        vertical-align: top;\n    }\n\n    .dataframe thead th {\n        text-align: right;\n    }\n</style>\n<table border=\"1\" class=\"dataframe\">\n  <thead>\n    <tr style=\"text-align: right;\">\n      <th></th>\n      <th>SensorID</th>\n      <th>SensorTown</th>\n    </tr>\n  </thead>\n  <tbody>\n    <tr>\n      <th>803</th>\n      <td>DEUB005</td>\n      <td>L\u00fcder</td>\n    </tr>\n    <tr>\n      <th>804</th>\n      <td>DEUB028</td>\n      <td>Zingst</td>\n    </tr>\n    <tr>\n      <th>805</th>\n      <td>DEUB029</td>\n      <td>Suhl</td>\n    </tr>\n    <tr>\n      <th>806</th>\n      <td>DEUB030</td>\n      <td>Stechlin</td>\n    </tr>\n    <tr>\n      <th>807</th>\n      <td>DEUB044</td>\n      <td>Garmisch-Partenkirchen</td>\n    </tr>\n  </tbody>\n</table>\n</div>", 
                        "text/plain": "    SensorID              SensorTown\n803  DEUB005                   L\u00fcder\n804  DEUB028                  Zingst\n805  DEUB029                    Suhl\n806  DEUB030                Stechlin\n807  DEUB044  Garmisch-Partenkirchen"
                    }, 
                    "output_type": "execute_result"
                }
            ], 
            "source": "# pick all tags from the XML file\nEtree = etree.parse(\"Capstone.rawData/AQD_DE_D_2017/DE_D_allInOne_metaMeasurements_2017.xml\")\nEroot = Etree.getroot()\nEroot.tag\nEroot.attrib\nAllTags = [elem.tag for elem in Eroot.iter()]\n\n# get correct tag names for 'municipality', 'EUStationCode' and 'featureMember':\nvarMUN = [s for s in AllTags if 'municipality' in s][0]\nvarID  = [s for s in AllTags if 'EUStationCode' in s][0]\nvarFeatMem = [s for s in AllTags if 'featureMember' in s][0]\n\nIDs=[]\nMUNs=[]\n# read 'municipality' and 'EUStationCode' to SensorLocation dataframe:\nfor varr in Eroot.iter(varFeatMem):\n    for child in varr.iter(varMUN):\n        MUNs.append(child.text)\n        for child2 in varr.iter(varID):\n            IDs.append(child2.text)\nSensorLocation=pd.DataFrame({'SensorID': IDs, 'SensorTown': MUNs})\nSensorLocation.tail(5)"
        }, 
        {
            "execution_count": 9, 
            "cell_type": "code", 
            "metadata": {}, 
            "outputs": [
                {
                    "execution_count": 9, 
                    "metadata": {}, 
                    "data": {
                        "text/html": "<div>\n<style scoped>\n    .dataframe tbody tr th:only-of-type {\n        vertical-align: middle;\n    }\n\n    .dataframe tbody tr th {\n        vertical-align: top;\n    }\n\n    .dataframe thead th {\n        text-align: right;\n    }\n</style>\n<table border=\"1\" class=\"dataframe\">\n  <thead>\n    <tr style=\"text-align: right;\">\n      <th></th>\n      <th>countyid</th>\n      <th>town</th>\n      <th>county</th>\n    </tr>\n  </thead>\n  <tbody>\n    <tr>\n      <th>16116</th>\n      <td>16077</td>\n      <td>Starkenberg</td>\n      <td>Schm\u00f6lln/Th\u00fcr.</td>\n    </tr>\n    <tr>\n      <th>16117</th>\n      <td>16077</td>\n      <td>Thonhausen</td>\n      <td>Schm\u00f6lln/Th\u00fcr.</td>\n    </tr>\n    <tr>\n      <th>16118</th>\n      <td>16077</td>\n      <td>Treben</td>\n      <td>Schm\u00f6lln/Th\u00fcr.</td>\n    </tr>\n    <tr>\n      <th>16119</th>\n      <td>16077</td>\n      <td>Vollmershain</td>\n      <td>Schm\u00f6lln/Th\u00fcr.</td>\n    </tr>\n    <tr>\n      <th>16120</th>\n      <td>16077</td>\n      <td>Windischleuba</td>\n      <td>Schm\u00f6lln/Th\u00fcr.</td>\n    </tr>\n  </tbody>\n</table>\n</div>", 
                        "text/plain": "       countyid           town          county\n16116     16077    Starkenberg  Schm\u00f6lln/Th\u00fcr.\n16117     16077     Thonhausen  Schm\u00f6lln/Th\u00fcr.\n16118     16077         Treben  Schm\u00f6lln/Th\u00fcr.\n16119     16077   Vollmershain  Schm\u00f6lln/Th\u00fcr.\n16120     16077  Windischleuba  Schm\u00f6lln/Th\u00fcr."
                    }, 
                    "output_type": "execute_result"
                }
            ], 
            "source": "columns = [(10, 15), (22, 71), (72, 121)]\ndfCT = pd.read_fwf(\"Capstone.rawData/GV100AD3107/GV100AD_310719.ASC\", \n                     colspecs=columns, names=['countyid','town','county'],\n                     encoding=\"iso8859_1\")\ndfCT=dfCT.fillna(method='ffill')\n\ndfCT['town'] = dfCT['town'].str.split(\",\").str[0]\ndfCT.tail(5)"
        }, 
        {
            "execution_count": 10, 
            "cell_type": "code", 
            "metadata": {}, 
            "outputs": [
                {
                    "output_type": "stream", 
                    "name": "stdout", 
                    "text": "xls sheet names:  ['Hintergrundinformationen', 'Daten']\n             Region  Regions-ID  KV           Kreistyp  Wert  Bundeswert\n0            Lk.Hof        9475  BY  L\u00e4ndliches Umland  6.43        3.11\n1  Mansfeld-S\u00fcdharz       15087  ST    L\u00e4ndlicher Raum  6.37        3.11\n2               Hof        9464  BY  L\u00e4ndliches Umland  6.36        3.11\nNumber of duplicates in Regions-ID column:  0\n"
                }
            ], 
            "source": "xlsx_file = pd.ExcelFile(\"Capstone.rawData/Heart_2017/data_id_97_kreis11_2_j_1483228800.xlsx\")\nprint(\"xls sheet names: \",xlsx_file.sheet_names)\ndfHeart = xlsx_file.parse('Daten', header=3, decimal=\",\") \nprint(dfHeart.head(3))\nprint(\"Number of duplicates in Regions-ID column: \", dfHeart.duplicated(['Regions-ID']).sum())"
        }, 
        {
            "execution_count": 11, 
            "cell_type": "code", 
            "metadata": {}, 
            "outputs": [
                {
                    "execution_count": 11, 
                    "metadata": {}, 
                    "data": {
                        "text/html": "<div>\n<style scoped>\n    .dataframe tbody tr th:only-of-type {\n        vertical-align: middle;\n    }\n\n    .dataframe tbody tr th {\n        vertical-align: top;\n    }\n\n    .dataframe thead th {\n        text-align: right;\n    }\n</style>\n<table border=\"1\" class=\"dataframe\">\n  <thead>\n    <tr style=\"text-align: right;\">\n      <th></th>\n      <th>SensorID</th>\n      <th>SensorTown</th>\n      <th>countyid</th>\n    </tr>\n  </thead>\n  <tbody>\n    <tr>\n      <th>0</th>\n      <td>DEBB007</td>\n      <td>Elsterwerda</td>\n      <td>12062</td>\n    </tr>\n    <tr>\n      <th>1</th>\n      <td>DEBB021</td>\n      <td>Potsdam</td>\n      <td>12054</td>\n    </tr>\n    <tr>\n      <th>2</th>\n      <td>DEBB026</td>\n      <td>Spremberg</td>\n      <td>12071</td>\n    </tr>\n    <tr>\n      <th>3</th>\n      <td>DEBB029</td>\n      <td>Schwedt/Oder</td>\n      <td>12073</td>\n    </tr>\n    <tr>\n      <th>4</th>\n      <td>DEBB032</td>\n      <td>Eisenh\u00fcttenstadt</td>\n      <td>12067</td>\n    </tr>\n  </tbody>\n</table>\n</div>", 
                        "text/plain": "  SensorID        SensorTown  countyid\n0  DEBB007       Elsterwerda     12062\n1  DEBB021           Potsdam     12054\n2  DEBB026         Spremberg     12071\n3  DEBB029      Schwedt/Oder     12073\n4  DEBB032  Eisenh\u00fcttenstadt     12067"
                    }, 
                    "output_type": "execute_result"
                }
            ], 
            "source": "SensorLocation = (SensorLocation.join(dfCT[['countyid','town']].set_index('town'),\n                                      on='SensorTown')).drop_duplicates(subset=['SensorID'])\nSensorLocation=SensorLocation.dropna()\nSensorLocation=SensorLocation.astype({'countyid':int})\nSensorLocation.head(5)"
        }, 
        {
            "execution_count": 12, 
            "cell_type": "code", 
            "metadata": {}, 
            "outputs": [
                {
                    "output_type": "stream", 
                    "name": "stdout", 
                    "text": "xls sheet names:  ['Hintergrundinformationen', 'Daten']\n      Region  Regions-ID  KV             Kreistyp  Wert  Bundeswert\n0   Eisenach       16056  TH    L\u00e4ndliches Umland   8.9         5.7\n1  Sonneberg       16072  TH      L\u00e4ndlicher Raum   8.7         5.7\n2  Ammerland        3451  NI  Verdichtetes Umland   8.5         5.7\nNumber of duplicates in Regions-ID column:  0\n"
                }
            ], 
            "source": "xlsx_file = pd.ExcelFile(\"Capstone.rawData/Asthma_2016/data_id_92_kreis11_1_j_1451606400.xlsx\")\nprint(\"xls sheet names: \",xlsx_file.sheet_names)\ndfAsthma = xlsx_file.parse('Daten', header=3, decimal=\",\") \nprint(dfAsthma.head(3))\nprint(\"Number of duplicates in Regions-ID column: \", dfAsthma.duplicated(['Regions-ID']).sum())\n#dfAsthma.to_csv('Capstone.ETL/Capstone.etl.dfAsthmaCSV.1.0.csv', index=False)"
        }, 
        {
            "execution_count": 13, 
            "cell_type": "code", 
            "metadata": {}, 
            "outputs": [], 
            "source": "# Files:\n#SensorLocation = pd.read_csv('Capstone.ETL/Capstone.etl.SensorLocationCSV.1.0.csv')\n#dfHeart = pd.read_csv('Capstone.ETL/Capstone.etl.dfHeartCSV.1.0.csv')\n#dfAsthma = pd.read_csv('Capstone.ETL/Capstone.etl.dfAsthmaCSV.1.0.csv')\n#dffAll = pd.read_csv('Capstone.ETL/Capstone.etl.wideCSV.1.0.gzip', compression='gzip', index_col=None)\n\ndfDisease = dfAsthma"
        }, 
        {
            "source": "#### Mean pollutant concentration over the year\nThe quantity can be straightforward extracted using *.describe()* method of the data frame:", 
            "cell_type": "markdown", 
            "metadata": {}
        }, 
        {
            "execution_count": 14, 
            "cell_type": "code", 
            "metadata": {}, 
            "outputs": [], 
            "source": "dffAllSummary=dffAll.describe()\n\ndef MeanByPollutantCountyID(Pollutant, CountyID):\n    PollutantMasc='^.{8}' + Pollutant + '_'\n# collecting set of all sensors in the given county:    \n    CountyStationSet = SensorLocation.loc[SensorLocation['countyid']==CountyID]['SensorID'].tolist()\n    if (CountyStationSet == []) or ([col for col in dffAllSummary.columns if re.search('(^.{7})',col).group(1) in CountyStationSet if ('_'+Pollutant+'_') in col] == []):\n        return(np.nan)\n    try:\n        dffAllPollutantCountyID = dffAllSummary[[col for col in dffAllSummary.columns if re.search('(^.{7})',col).group(1) in CountyStationSet]].filter(regex=PollutantMasc,axis=1)\n        return(dffAllPollutantCountyID.loc[['mean']].mean(axis=1)[0])\n    except:    \n        return(np.nan)"
        }, 
        {
            "execution_count": 15, 
            "cell_type": "code", 
            "metadata": {}, 
            "outputs": [
                {
                    "execution_count": 15, 
                    "metadata": {}, 
                    "data": {
                        "text/plain": "Region          0\nRegions-ID      0\nKV              0\nKreistyp        0\nWert            0\nBundeswert      0\nCOmean        391\nNOmean        348\nNO2mean       348\nNOxmean       350\nO3mean        350\nPM1mean       352\nPM2mean       383\nPM10mean      402\nSO2mean       373\nCHBmean       391\nCH4mean       402\nC8H10mean     402\nCHTmean       391\nCO2mean       402\ndtype: int64"
                    }, 
                    "output_type": "execute_result"
                }
            ], 
            "source": "ListOfPollutants = ['CO','NO','NO2','NOx','O3','PM1','PM2', 'PM10', 'SO2', 'CHB', 'CH4', 'C8H10', 'CHT', 'CO2']\n\nfor pollutant in ListOfPollutants:\n    ColIndex=pollutant+'mean'\n    dfDisease[ColIndex] =dfDisease.apply(lambda x: MeanByPollutantCountyID(pollutant, x['Regions-ID']), axis=1)\n    \n#dfDisease.head(53)\ndfDisease.isna().sum()    "
        }, 
        {
            "source": "From the table above one can see, that only 5 pollutants (*NO, NO2, NOx, O3, PM1*) were measured in about a half of German counties (total number of counties mentioned in the *heart failures* and *asthma bronchiale* datasets is 402). Let's take a look, in how many counties all 6 pollutants were measured simultaneously:", 
            "cell_type": "markdown", 
            "metadata": {}
        }, 
        {
            "execution_count": 16, 
            "cell_type": "code", 
            "metadata": {}, 
            "outputs": [], 
            "source": "FeatureSetDenseMean = dfDisease[['Regions-ID','Wert','NOmean','NO2mean','NOxmean','O3mean','PM1mean']].dropna().reset_index(drop=True)\nFeatureSetDenseMean.columns=['CountyID','DiseaseR','NOmean','NO2mean','NOxmean','O3mean','PM1mean']"
        }, 
        {
            "execution_count": 17, 
            "cell_type": "code", 
            "metadata": {}, 
            "outputs": [
                {
                    "execution_count": 17, 
                    "metadata": {}, 
                    "data": {
                        "text/html": "<div>\n<style scoped>\n    .dataframe tbody tr th:only-of-type {\n        vertical-align: middle;\n    }\n\n    .dataframe tbody tr th {\n        vertical-align: top;\n    }\n\n    .dataframe thead th {\n        text-align: right;\n    }\n</style>\n<table border=\"1\" class=\"dataframe\">\n  <thead>\n    <tr style=\"text-align: right;\">\n      <th></th>\n      <th>CountyID</th>\n      <th>DiseaseR</th>\n      <th>NOmean</th>\n      <th>NO2mean</th>\n      <th>NOxmean</th>\n      <th>O3mean</th>\n      <th>PM1mean</th>\n    </tr>\n  </thead>\n  <tbody>\n    <tr>\n      <th>count</th>\n      <td>41.000000</td>\n      <td>41.000000</td>\n      <td>41.000000</td>\n      <td>41.000000</td>\n      <td>41.000000</td>\n      <td>41.000000</td>\n      <td>41.000000</td>\n    </tr>\n    <tr>\n      <th>mean</th>\n      <td>12808.853659</td>\n      <td>5.892683</td>\n      <td>10.915176</td>\n      <td>16.879199</td>\n      <td>32.991759</td>\n      <td>50.300838</td>\n      <td>15.403850</td>\n    </tr>\n    <tr>\n      <th>std</th>\n      <td>5116.970830</td>\n      <td>1.083834</td>\n      <td>12.508702</td>\n      <td>9.244565</td>\n      <td>28.075284</td>\n      <td>8.834913</td>\n      <td>3.595645</td>\n    </tr>\n    <tr>\n      <th>min</th>\n      <td>1002.000000</td>\n      <td>4.200000</td>\n      <td>0.163299</td>\n      <td>2.155348</td>\n      <td>2.637490</td>\n      <td>40.642753</td>\n      <td>7.460854</td>\n    </tr>\n    <tr>\n      <th>25%</th>\n      <td>14521.000000</td>\n      <td>5.200000</td>\n      <td>2.047583</td>\n      <td>9.932120</td>\n      <td>12.899541</td>\n      <td>44.599687</td>\n      <td>12.520184</td>\n    </tr>\n    <tr>\n      <th>50%</th>\n      <td>15003.000000</td>\n      <td>5.700000</td>\n      <td>6.803691</td>\n      <td>15.297707</td>\n      <td>25.471797</td>\n      <td>48.419621</td>\n      <td>15.508504</td>\n    </tr>\n    <tr>\n      <th>75%</th>\n      <td>16053.000000</td>\n      <td>6.700000</td>\n      <td>16.378347</td>\n      <td>21.588235</td>\n      <td>41.774936</td>\n      <td>52.279996</td>\n      <td>18.206161</td>\n    </tr>\n    <tr>\n      <th>max</th>\n      <td>16077.000000</td>\n      <td>8.700000</td>\n      <td>58.916103</td>\n      <td>41.784301</td>\n      <td>132.030190</td>\n      <td>83.072606</td>\n      <td>21.824518</td>\n    </tr>\n  </tbody>\n</table>\n</div>", 
                        "text/plain": "           CountyID   DiseaseR     NOmean    NO2mean     NOxmean     O3mean  \\\ncount     41.000000  41.000000  41.000000  41.000000   41.000000  41.000000   \nmean   12808.853659   5.892683  10.915176  16.879199   32.991759  50.300838   \nstd     5116.970830   1.083834  12.508702   9.244565   28.075284   8.834913   \nmin     1002.000000   4.200000   0.163299   2.155348    2.637490  40.642753   \n25%    14521.000000   5.200000   2.047583   9.932120   12.899541  44.599687   \n50%    15003.000000   5.700000   6.803691  15.297707   25.471797  48.419621   \n75%    16053.000000   6.700000  16.378347  21.588235   41.774936  52.279996   \nmax    16077.000000   8.700000  58.916103  41.784301  132.030190  83.072606   \n\n         PM1mean  \ncount  41.000000  \nmean   15.403850  \nstd     3.595645  \nmin     7.460854  \n25%    12.520184  \n50%    15.508504  \n75%    18.206161  \nmax    21.824518  "
                    }, 
                    "output_type": "execute_result"
                }
            ], 
            "source": "#FeatureSetDenseMean.tail(55)\nFeatureSetDenseMean.describe()\n#FeatureSetDenseMean.isna().sum()\n#FeatureSetDenseMean['NOmean'].mean()"
        }, 
        {
            "execution_count": 18, 
            "cell_type": "code", 
            "metadata": {}, 
            "outputs": [
                {
                    "execution_count": 18, 
                    "metadata": {}, 
                    "data": {
                        "text/html": "<div>\n<style scoped>\n    .dataframe tbody tr th:only-of-type {\n        vertical-align: middle;\n    }\n\n    .dataframe tbody tr th {\n        vertical-align: top;\n    }\n\n    .dataframe thead th {\n        text-align: right;\n    }\n</style>\n<table border=\"1\" class=\"dataframe\">\n  <thead>\n    <tr style=\"text-align: right;\">\n      <th></th>\n      <th>CountyID</th>\n      <th>DiseaseR</th>\n      <th>NOmean</th>\n      <th>NO2mean</th>\n      <th>PM1mean</th>\n    </tr>\n  </thead>\n  <tbody>\n    <tr>\n      <th>count</th>\n      <td>49.000000</td>\n      <td>49.000000</td>\n      <td>49.000000</td>\n      <td>49.000000</td>\n      <td>49.000000</td>\n    </tr>\n    <tr>\n      <th>mean</th>\n      <td>12407.571429</td>\n      <td>5.875510</td>\n      <td>12.369953</td>\n      <td>18.167614</td>\n      <td>15.935149</td>\n    </tr>\n    <tr>\n      <th>std</th>\n      <td>5314.798471</td>\n      <td>1.097066</td>\n      <td>12.653499</td>\n      <td>9.226942</td>\n      <td>3.599833</td>\n    </tr>\n    <tr>\n      <th>min</th>\n      <td>1001.000000</td>\n      <td>4.200000</td>\n      <td>0.163299</td>\n      <td>2.155348</td>\n      <td>7.460854</td>\n    </tr>\n    <tr>\n      <th>25%</th>\n      <td>12065.000000</td>\n      <td>5.000000</td>\n      <td>2.246570</td>\n      <td>11.887994</td>\n      <td>13.327512</td>\n    </tr>\n    <tr>\n      <th>50%</th>\n      <td>15001.000000</td>\n      <td>5.700000</td>\n      <td>7.809633</td>\n      <td>16.773922</td>\n      <td>16.167680</td>\n    </tr>\n    <tr>\n      <th>75%</th>\n      <td>16052.000000</td>\n      <td>6.700000</td>\n      <td>16.884384</td>\n      <td>23.017952</td>\n      <td>18.558537</td>\n    </tr>\n    <tr>\n      <th>max</th>\n      <td>16077.000000</td>\n      <td>8.700000</td>\n      <td>58.916103</td>\n      <td>41.784301</td>\n      <td>22.832089</td>\n    </tr>\n  </tbody>\n</table>\n</div>", 
                        "text/plain": "           CountyID   DiseaseR     NOmean    NO2mean    PM1mean\ncount     49.000000  49.000000  49.000000  49.000000  49.000000\nmean   12407.571429   5.875510  12.369953  18.167614  15.935149\nstd     5314.798471   1.097066  12.653499   9.226942   3.599833\nmin     1001.000000   4.200000   0.163299   2.155348   7.460854\n25%    12065.000000   5.000000   2.246570  11.887994  13.327512\n50%    15001.000000   5.700000   7.809633  16.773922  16.167680\n75%    16052.000000   6.700000  16.884384  23.017952  18.558537\nmax    16077.000000   8.700000  58.916103  41.784301  22.832089"
                    }, 
                    "output_type": "execute_result"
                }
            ], 
            "source": "FeatureSetLongMean = dfDisease[['Regions-ID','Wert','NOmean','NO2mean','PM1mean']].dropna().reset_index(drop=True)\nFeatureSetLongMean.columns=['CountyID','DiseaseR','NOmean','NO2mean','PM1mean']\nFeatureSetLongMean.describe()"
        }, 
        {
            "execution_count": 19, 
            "cell_type": "code", 
            "metadata": {}, 
            "outputs": [], 
            "source": "#!rm -rf Capstone.FeatureEng\n#!mkdir Capstone.FeatureEng\n#FeatureSetDenseMean.to_csv('Capstone.FeatureEng/Capstone.feature_eng.DenseMean.1.0.csv', index=False)\n#FeatureSetLongMean.to_csv('Capstone.FeatureEng/Capstone.feature_eng.LongMean.1.0.csv', index=False)"
        }, 
        {
            "source": "##### Quantile-based features\n\nConstructing the global distribution of selected pollutant concentration over all counties of interest, one can find e.g. 75th quantile of this pollutant concentration distribution, and than count number of hours, when this concentration was exceeded in each county. This quantity is some generalization of the \"number of days when the pollutant limit has been exceeded\" quantity, because it tune itself to pollution levels available in the dataset.\n", 
            "cell_type": "markdown", 
            "metadata": {}
        }, 
        {
            "execution_count": 20, 
            "cell_type": "code", 
            "metadata": {}, 
            "outputs": [], 
            "source": "# Function for Croppind of initial dffAll dataset to columns reflecting measurements \n# of pollutants in ListOfPollutants at counties in ListOfCountyIDs:\ndef CropPollutantsIDsTS(ListOfPollutants, ListOfCountyIDs):\n    CountyStationSet=[]\n    dffAllCrop=pd.DataFrame(dffAll['observation_period'])\n\n    for CountyID in ListOfCountyIDs:\n        CountyStationSet.extend(SensorLocation.loc[SensorLocation['countyid']==CountyID]['SensorID'].tolist())\n    for Pollutant in ListOfPollutants:\n        PollutantMasc='^.{8}' + Pollutant + '_' \n        dffAllCrop=dffAllCrop.join(dffAll[[col for col in dffAll.columns if re.search('(^.{7})',col).group(1) in CountyStationSet]].filter(regex=PollutantMasc,axis=1))\n    return(dffAllCrop)\n\n# Function for calculating Nth percentiles for pollutants in ListOfPollutants at counties in ListOfCountyIDs:\ndef ReturnNthPercentilePollutantsIDsTS(Percentile, ListOfPollutants, ListOfCountyIDs):\n    CountyStationSet=[]\n    NthPercentile=pd.DataFrame()\n\n    for CountyID in ListOfCountyIDs:\n        CountyStationSet.extend(SensorLocation.loc[SensorLocation['countyid']==CountyID]['SensorID'].tolist())\n    for Pollutant in ListOfPollutants:\n        PollutantMasc='^.{8}' + Pollutant + '_'\n        NthPercentile[Pollutant] = [(dffAll[[col for col in dffAll.columns if re.search('(^.{7})',col).group(1) in CountyStationSet]].filter(regex=PollutantMasc,axis=1)).stack().reset_index(drop=True).quantile(Percentile/100.0)]\n    return(NthPercentile)\n\n# Function for calculating Feature matrix, containing average (over sensors) number of hours for each county, when pollutant concentration\n# was exceeding Nth global percentiles for the pollutant at counties of interest (in ListOfCountyIDs):\ndef FeatureMatrixNthPercentile(Percentile, ListOfPollutants, ListOfCountyIDs):\n    NthPercentile=ReturnNthPercentilePollutantsIDsTS(Percentile, ListOfPollutants, ListOfCountyIDs)\n    dffAllCrop=CropPollutantsIDsTS(ListOfPollutants, ListOfCountyIDs)\n\n    FeatureMatrix=pd.DataFrame({'CountyID': dfDisease.loc[dfDisease['Regions-ID'].isin(ListOfCountyIDs)]['Regions-ID'], 'DiseaseR': dfDisease.loc[dfDisease['Regions-ID'].isin(ListOfCountyIDs)]['Wert']}).reset_index(drop=True)\n    for Pollutant in ListOfPollutants:\n        PollutantHoursExceed=[]\n        PollutantMasc='^.{8}' + Pollutant + '_'\n        for CountyID in ListOfCountyIDs:\n            CountyStationSet=[]\n            CountyStationSet.extend(SensorLocation.loc[SensorLocation['countyid']==CountyID]['SensorID'].tolist())\n\n            dffPollutantCounty = dffAllCrop[[col for col in dffAllCrop.columns if re.search('(^.{7})',col).group(1) in CountyStationSet]].filter(regex=PollutantMasc,axis=1)\n            NumPollutantStationsAtCounty = dffPollutantCounty.shape[1]\n            PollutantHoursExceed.append((dffPollutantCounty.stack().reset_index(drop=True)>NthPercentile[Pollutant][0]).reset_index(drop=True).sum()/NumPollutantStationsAtCounty)\n        FeatureMatrix = FeatureMatrix.reset_index(drop=True).join(pd.DataFrame({Pollutant : PollutantHoursExceed}))        \n    return(FeatureMatrix)"
        }, 
        {
            "execution_count": 21, 
            "cell_type": "code", 
            "metadata": {}, 
            "outputs": [], 
            "source": "ListOfPollutantsDense = ['NO','NO2','NOx','O3','PM1']\nListOfCountyIDsDense = FeatureSetDenseMean['CountyID']\nFeatureSetDensePerc50 = FeatureMatrixNthPercentile(50, ListOfPollutantsDense, ListOfCountyIDsDense)\nFeatureSetDensePerc75 = FeatureMatrixNthPercentile(75, ListOfPollutantsDense, ListOfCountyIDsDense)\n\nListOfPollutantsLong = ['NO','NO2','PM1']\nListOfCountyIDsLong = FeatureSetLongMean['CountyID']\nFeatureSetLongPerc50 = FeatureMatrixNthPercentile(50, ListOfPollutantsLong, ListOfCountyIDsLong)\nFeatureSetLongPerc75 = FeatureMatrixNthPercentile(75, ListOfPollutantsLong, ListOfCountyIDsLong)\n\n#FeatureSetDensePerc50.to_csv('Capstone.FeatureEng/Capstone.feature_eng.DensePerc50.1.0.csv', index=False)\n#FeatureSetDensePerc75.to_csv('Capstone.FeatureEng/Capstone.feature_eng.DensePerc75.1.0.csv', index=False)\n#FeatureSetLongPerc50.to_csv('Capstone.FeatureEng/Capstone.feature_eng.LongPerc50.1.0.csv', index=False)\n#FeatureSetLongPerc75.to_csv('Capstone.FeatureEng/Capstone.feature_eng.LongPerc75.1.0.csv', index=False)"
        }, 
        {
            "execution_count": 22, 
            "cell_type": "code", 
            "metadata": {}, 
            "outputs": [], 
            "source": "def DiseaseFeaturePercentile(FeatureSetDF, Percentile):\n    DiseasePercentile = (FeatureSetDF['DiseaseR']).quantile(Percentile/100.0)\n    dfFeatureOut = FeatureSetLongPerc75.copy(deep=True)\n    dfFeatureOut['DiseaseR'] = ((dfFeatureOut['DiseaseR'])>DiseasePercentile)\n    dfFeatureOut=dfFeatureOut.rename(columns = {'DiseaseR':'DiseaseRFeat'})\n    return(dfFeatureOut)\n\ndfPolMeanLongDisease50perc = DiseaseFeaturePercentile(FeatureSetLongMean, 50.0)\ndfPolMeanLongDisease75perc = DiseaseFeaturePercentile(FeatureSetLongMean, 75.0)\ndfPolMeanLongDisease95perc = DiseaseFeaturePercentile(FeatureSetLongMean, 95.0)\n\ndfPolLongPerc75Disease50perc = DiseaseFeaturePercentile(FeatureSetLongPerc75, 50.0)\ndfPolLongPerc75Disease75perc = DiseaseFeaturePercentile(FeatureSetLongPerc75, 75.0)\ndfPolLongPerc75Disease95perc = DiseaseFeaturePercentile(FeatureSetLongPerc75, 95.0)\n"
        }, 
        {
            "source": "### Logistic Regression", 
            "cell_type": "markdown", 
            "metadata": {}
        }, 
        {
            "execution_count": 23, 
            "cell_type": "code", 
            "metadata": {}, 
            "outputs": [], 
            "source": "\n#from sklearn import preprocessing\nfrom sklearn.preprocessing import MinMaxScaler\nfrom sklearn.model_selection import train_test_split\nfrom sklearn import decomposition\nfrom sklearn.preprocessing import PolynomialFeatures\nfrom sklearn.linear_model import LinearRegression\n\nimport statsmodels.api as sm\nfrom statsmodels.formula.api import ols\nfrom statsmodels.stats.anova import anova_lm\n\n\n#FeatureSetDenseMean = pd.read_csv('Capstone.FeatureEng/Capstone.feature_eng.DenseMean.1.0.csv', index_col=None)\n#FeatureSetLongMean = pd.read_csv('Capstone.FeatureEng/Capstone.feature_eng.LongMean.1.0.csv', index_col=None)\n\n#FeatureSetDensePerc50 = pd.read_csv('Capstone.FeatureEng/Capstone.feature_eng.DensePerc50.1.0.csv', index_col=None)\n#FeatureSetDensePerc75 = pd.read_csv('Capstone.FeatureEng/Capstone.feature_eng.DensePerc75.1.0.csv', index_col=None)\n\n#FeatureSetLongPerc50 = pd.read_csv('Capstone.FeatureEng/Capstone.feature_eng.LongPerc50.1.0.csv', index_col=None)\n#FeatureSetLongPerc75 = pd.read_csv('Capstone.FeatureEng/Capstone.feature_eng.LongPerc75.1.0.csv', index_col=None)"
        }, 
        {
            "execution_count": 24, 
            "cell_type": "code", 
            "metadata": {}, 
            "outputs": [], 
            "source": "from pyspark.sql import SparkSession\nspark = SparkSession.builder.getOrCreate()\n\n#dfPolMeanLongDisease50perc = spark.read.format(\"csv\").load('Capstone.FeatureEng/Capstone.feature_eng.PolMeanLongDisease50perc.1.0.csv')\n#dfPolMeanLongDisease75perc = spark.read.format(\"csv\").load('Capstone.FeatureEng/Capstone.feature_eng.PolMeanLongDisease75perc.1.0.csv')\n#dfPolMeanLongDisease95perc = spark.read.format(\"csv\").load('Capstone.FeatureEng/Capstone.feature_eng.PolMeanLongDisease95perc.1.0.csv')\n\n#dfPolLongPerc75Disease50perc = spark.read.format(\"csv\").load('Capstone.FeatureEng/Capstone.feature_eng.PolLongPerc75Disease50perc.1.0.csv')\n#dfPolLongPerc75Disease75perc = spark.read.format(\"csv\").load('Capstone.FeatureEng/Capstone.feature_eng.PolLongPerc75Disease75perc.1.0.csv')\n#dfPolLongPerc75Disease95perc = spark.read.format(\"csv\").load('Capstone.FeatureEng/Capstone.feature_eng.PolLongPerc75Disease95perc.1.0.csv')\n#df = dfPolLongPerc75Disease75perc\n#df.show()\n\ndfPolMeanLongDisease50perc.DiseaseRFeat = dfPolMeanLongDisease50perc.DiseaseRFeat.astype(int)\ndfPolMeanLongDisease75perc.DiseaseRFeat = dfPolMeanLongDisease75perc.DiseaseRFeat.astype(int)\ndfPolMeanLongDisease95perc.DiseaseRFeat = dfPolMeanLongDisease95perc.DiseaseRFeat.astype(int)\n\ndfPolLongPerc75Disease50perc.DiseaseRFeat = dfPolLongPerc75Disease50perc.DiseaseRFeat.astype(int)\ndfPolLongPerc75Disease75perc.DiseaseRFeat = dfPolLongPerc75Disease75perc.DiseaseRFeat.astype(int)\ndfPolLongPerc75Disease95perc.DiseaseRFeat = dfPolLongPerc75Disease95perc.DiseaseRFeat.astype(int)"
        }, 
        {
            "execution_count": 25, 
            "cell_type": "code", 
            "metadata": {}, 
            "outputs": [
                {
                    "output_type": "stream", 
                    "name": "stdout", 
                    "text": "+--------+------------+------------------+------------------+------------------+\n|CountyID|DiseaseRFeat|                NO|               NO2|               PM1|\n+--------+------------+------------------+------------------+------------------+\n|   16072|           1|              22.0|             123.0|             295.0|\n|   16073|           1|            1313.0|            1136.0|            2703.0|\n|    1001|           1|            5836.0|            4973.0|            2884.0|\n|   16062|           1|            1325.0|            1724.0|            1870.0|\n|   16054|           1|            2441.5|            1946.5|            1161.0|\n|   10044|           1| 992.6666666666666|1517.6666666666667|2030.6666666666667|\n|   16077|           1|            1210.0|            1463.0|            1706.0|\n|    1051|           1|            2589.0|            2702.0|            2928.0|\n|    3360|           1|              84.0|             252.0|             889.0|\n|    7232|           1|             635.5|            1092.5|            1808.0|\n|   16051|           1|            3675.5|            3717.5|            2464.0|\n|   14713|           1|            4718.0|            4698.0|3311.6666666666665|\n|   16066|           0|             839.0|             988.0|             873.0|\n|   10041|           0|2825.6666666666665|2989.3333333333335|2172.3333333333335|\n|   14612|           0| 4159.333333333333| 4304.333333333333|            3415.5|\n|    1061|           0|            6553.0|            5901.0|            2279.0|\n|   12065|           0|              13.0|              75.0|            1112.0|\n|    1003|           0|            2039.0|            2465.5|            1818.0|\n|    1002|           0| 4913.333333333333| 4875.666666666667|            3724.0|\n|   16076|           0|            1130.0|            1321.0|            1690.0|\n+--------+------------+------------------+------------------+------------------+\nonly showing top 20 rows\n\n"
                }
            ], 
            "source": "FeatureSet = dfPolLongPerc75Disease75perc\n\ndf = spark.createDataFrame(FeatureSet)\n\ndf.createOrReplaceTempView(\"df\")\nspark.sql(\"SELECT * from df\").show()"
        }, 
        {
            "execution_count": 26, 
            "cell_type": "code", 
            "metadata": {}, 
            "outputs": [], 
            "source": "splits = df.randomSplit([0.8, 0.2])\ndf_train = splits[0]\ndf_test  = splits[1]"
        }, 
        {
            "execution_count": 27, 
            "cell_type": "code", 
            "metadata": {}, 
            "outputs": [
                {
                    "execution_count": 27, 
                    "metadata": {}, 
                    "data": {
                        "text/plain": "39"
                    }, 
                    "output_type": "execute_result"
                }
            ], 
            "source": "df_train.count()"
        }, 
        {
            "execution_count": 28, 
            "cell_type": "code", 
            "metadata": {}, 
            "outputs": [
                {
                    "execution_count": 28, 
                    "metadata": {}, 
                    "data": {
                        "text/plain": "10"
                    }, 
                    "output_type": "execute_result"
                }
            ], 
            "source": "df_test.count()"
        }, 
        {
            "execution_count": 29, 
            "cell_type": "code", 
            "metadata": {}, 
            "outputs": [], 
            "source": "#poly = PolynomialFeatures(2)\n#poly.fit_transform(X_train0)\n#X_train_UpToSquares = poly.transform(X_train0)\n#X_test_UpToSquares = poly.transform(X_test0)\n"
        }, 
        {
            "execution_count": 30, 
            "cell_type": "code", 
            "metadata": {}, 
            "outputs": [
                {
                    "output_type": "stream", 
                    "name": "stdout", 
                    "text": "+--------+------------+------------------+------------------+------------------+-----+\n|CountyID|DiseaseRFeat|                NO|               NO2|               PM1|label|\n+--------+------------+------------------+------------------+------------------+-----+\n|    1001|           1|            5836.0|            4973.0|            2884.0|  1.0|\n|    1002|           0| 4913.333333333333| 4875.666666666667|            3724.0|  0.0|\n|    1003|           0|            2039.0|            2465.5|            1818.0|  0.0|\n|    1051|           1|            2589.0|            2702.0|            2928.0|  1.0|\n|    1057|           0|              83.0|             493.0|            1632.0|  0.0|\n|    3360|           1|              84.0|             252.0|             889.0|  1.0|\n|   10041|           0|2825.6666666666665|2989.3333333333335|2172.3333333333335|  0.0|\n|   10044|           1| 992.6666666666666|1517.6666666666667|2030.6666666666667|  1.0|\n|   12065|           0|              13.0|              75.0|            1112.0|  0.0|\n|   14612|           0| 4159.333333333333| 4304.333333333333|            3415.5|  0.0|\n|   14713|           1|            4718.0|            4698.0|3311.6666666666665|  1.0|\n|   14730|           0|              12.0|             259.0|            1235.0|  0.0|\n|   15002|           0|            4051.0| 4277.666666666667|3626.3333333333335|  0.0|\n|   16051|           1|            3675.5|            3717.5|            2464.0|  1.0|\n|   16062|           1|            1325.0|            1724.0|            1870.0|  1.0|\n|   16066|           0|             839.0|             988.0|             873.0|  0.0|\n|   16072|           1|              22.0|             123.0|             295.0|  1.0|\n|   16073|           1|            1313.0|            1136.0|            2703.0|  1.0|\n|   16076|           0|            1130.0|            1321.0|            1690.0|  0.0|\n|   16077|           1|            1210.0|            1463.0|            1706.0|  1.0|\n+--------+------------+------------------+------------------+------------------+-----+\nonly showing top 20 rows\n\n+-----+\n|label|\n+-----+\n|  0.0|\n|  1.0|\n+-----+\n\n"
                }
            ], 
            "source": "from pyspark.ml.feature import StringIndexer\n\n\nindexer = StringIndexer(inputCol=\"DiseaseRFeat\", outputCol=\"label\")\nindexed = indexer.fit(df_train).transform(df_train)\nindexed.show()\nindexed.select('label').distinct().show()"
        }, 
        {
            "execution_count": 31, 
            "cell_type": "code", 
            "metadata": {}, 
            "outputs": [], 
            "source": "#from pyspark.ml.feature import OneHotEncoder, StringIndexer\n#\n#encoder = OneHotEncoder(inputCol=\"classIndex\", outputCol=\"categoryVec\")\n#encoded = encoder.transform(indexed)\n#encoded.show()"
        }, 
        {
            "execution_count": 32, 
            "cell_type": "code", 
            "metadata": {}, 
            "outputs": [
                {
                    "output_type": "stream", 
                    "name": "stdout", 
                    "text": "+--------+------------+------------------+------------------+------------------+-----+--------------------+\n|CountyID|DiseaseRFeat|                NO|               NO2|               PM1|label|          featuresOO|\n+--------+------------+------------------+------------------+------------------+-----+--------------------+\n|    1001|           1|            5836.0|            4973.0|            2884.0|  1.0|[5836.0,4973.0,28...|\n|    1002|           0| 4913.333333333333| 4875.666666666667|            3724.0|  0.0|[4913.33333333333...|\n|    1003|           0|            2039.0|            2465.5|            1818.0|  0.0|[2039.0,2465.5,18...|\n|    1051|           1|            2589.0|            2702.0|            2928.0|  1.0|[2589.0,2702.0,29...|\n|    1057|           0|              83.0|             493.0|            1632.0|  0.0| [83.0,493.0,1632.0]|\n|    3360|           1|              84.0|             252.0|             889.0|  1.0|  [84.0,252.0,889.0]|\n|   10041|           0|2825.6666666666665|2989.3333333333335|2172.3333333333335|  0.0|[2825.66666666666...|\n|   10044|           1| 992.6666666666666|1517.6666666666667|2030.6666666666667|  1.0|[992.666666666666...|\n|   12065|           0|              13.0|              75.0|            1112.0|  0.0|  [13.0,75.0,1112.0]|\n|   14612|           0| 4159.333333333333| 4304.333333333333|            3415.5|  0.0|[4159.33333333333...|\n|   14713|           1|            4718.0|            4698.0|3311.6666666666665|  1.0|[4718.0,4698.0,33...|\n|   14730|           0|              12.0|             259.0|            1235.0|  0.0| [12.0,259.0,1235.0]|\n|   15002|           0|            4051.0| 4277.666666666667|3626.3333333333335|  0.0|[4051.0,4277.6666...|\n|   16051|           1|            3675.5|            3717.5|            2464.0|  1.0|[3675.5,3717.5,24...|\n|   16062|           1|            1325.0|            1724.0|            1870.0|  1.0|[1325.0,1724.0,18...|\n|   16066|           0|             839.0|             988.0|             873.0|  0.0| [839.0,988.0,873.0]|\n|   16072|           1|              22.0|             123.0|             295.0|  1.0|  [22.0,123.0,295.0]|\n|   16073|           1|            1313.0|            1136.0|            2703.0|  1.0|[1313.0,1136.0,27...|\n|   16076|           0|            1130.0|            1321.0|            1690.0|  0.0|[1130.0,1321.0,16...|\n|   16077|           1|            1210.0|            1463.0|            1706.0|  1.0|[1210.0,1463.0,17...|\n+--------+------------+------------------+------------------+------------------+-----+--------------------+\nonly showing top 20 rows\n\n"
                }
            ], 
            "source": "from pyspark.ml.linalg import Vectors\nfrom pyspark.ml.feature import VectorAssembler\n\nvectorAssembler = VectorAssembler(inputCols=[\"NO\", \"NO2\", \"PM1\"],\n                                  outputCol=\"featuresOO\")\n\n# For your special case that has string instead of doubles you should cast them first.\n# expr = [col(c).cast(\"Double\").alias(c) \n#         for c in vectorAssembler.getInputCols()]\n\n# df2 = df2.select(*expr)\n\n#features_vectorized = vectorAssembler.transform(encoded)\nfeatures_vectorized = vectorAssembler.transform(indexed)\n\nfeatures_vectorized.show()"
        }, 
        {
            "execution_count": 33, 
            "cell_type": "code", 
            "metadata": {}, 
            "outputs": [
                {
                    "output_type": "stream", 
                    "name": "stdout", 
                    "text": "+--------+------------+------------------+------------------+------------------+-----+--------------------+--------------------+\n|CountyID|DiseaseRFeat|                NO|               NO2|               PM1|label|          featuresOO|            features|\n+--------+------------+------------------+------------------+------------------+-----+--------------------+--------------------+\n|    1001|           1|            5836.0|            4973.0|            2884.0|  1.0|[5836.0,4973.0,28...|[0.42620316950266...|\n|    1002|           0| 4913.333333333333| 4875.666666666667|            3724.0|  0.0|[4913.33333333333...|[0.36360048348503...|\n|    1003|           0|            2039.0|            2465.5|            1818.0|  0.0|[2039.0,2465.5,18...|[0.32249901146698...|\n|    1051|           1|            2589.0|            2702.0|            2928.0|  1.0|[2589.0,2702.0,29...|[0.31500182503954...|\n|    1057|           0|              83.0|             493.0|            1632.0|  0.0| [83.0,493.0,1632.0]|[0.03759057971014...|\n|    3360|           1|              84.0|             252.0|             889.0|  1.0|  [84.0,252.0,889.0]|[0.06857142857142...|\n|   10041|           0|2825.6666666666665|2989.3333333333335|2172.3333333333335|  0.0|[2825.66666666666...|[0.35376846673900...|\n|   10044|           1| 992.6666666666666|1517.6666666666667|2030.6666666666667|  1.0|[992.666666666666...|[0.21860089554430...|\n|   12065|           0|              13.0|              75.0|            1112.0|  0.0|  [13.0,75.0,1112.0]|[0.01083333333333...|\n|   14612|           0| 4159.333333333333| 4304.333333333333|            3415.5|  0.0|[4159.33333333333...|[0.35013679410733...|\n|   14713|           1|            4718.0|            4698.0|3311.6666666666665|  1.0|[4718.0,4698.0,33...|[0.37068852630751...|\n|   14730|           0|              12.0|             259.0|            1235.0|  0.0| [12.0,259.0,1235.0]|[0.00796812749003...|\n|   15002|           0|            4051.0| 4277.666666666667|3626.3333333333335|  0.0|[4051.0,4277.6666...|[0.33885403596821...|\n|   16051|           1|            3675.5|            3717.5|            2464.0|  1.0|[3675.5,3717.5,24...|[0.37288221568428...|\n|   16062|           1|            1325.0|            1724.0|            1870.0|  1.0|[1325.0,1724.0,18...|[0.26936369180727...|\n|   16066|           0|             839.0|             988.0|             873.0|  0.0| [839.0,988.0,873.0]|[0.31074074074074...|\n|   16072|           1|              22.0|             123.0|             295.0|  1.0|  [22.0,123.0,295.0]|[0.05,0.279545454...|\n|   16073|           1|            1313.0|            1136.0|            2703.0|  1.0|[1313.0,1136.0,27...|[0.25485248447204...|\n|   16076|           0|            1130.0|            1321.0|            1690.0|  0.0|[1130.0,1321.0,16...|[0.27288094663124...|\n|   16077|           1|            1210.0|            1463.0|            1706.0|  1.0|[1210.0,1463.0,17...|[0.27631879424526...|\n+--------+------------+------------------+------------------+------------------+-----+--------------------+--------------------+\nonly showing top 20 rows\n\n"
                }
            ], 
            "source": "from pyspark.ml.feature import Normalizer\nfrom pyspark.ml.linalg import Vectors\n\nnormalizer = Normalizer(inputCol=\"featuresOO\", outputCol=\"features\", p=1.0)\nl1NormData = normalizer.transform(features_vectorized)\nl1NormData.show()"
        }, 
        {
            "execution_count": 35, 
            "cell_type": "code", 
            "metadata": {}, 
            "outputs": [
                {
                    "execution_count": 35, 
                    "metadata": {}, 
                    "data": {
                        "text/plain": "GBTClassifier_4f0fa5ffa8c1839c61d7"
                    }, 
                    "output_type": "execute_result"
                }
            ], 
            "source": "from pyspark.ml.classification import GBTClassifier\nclassifier = GBTClassifier(maxIter=10)\nclassifier.setLabelCol('label')"
        }, 
        {
            "execution_count": 37, 
            "cell_type": "code", 
            "metadata": {}, 
            "outputs": [], 
            "source": "from pyspark.ml import Pipeline\npipeline = Pipeline(stages=[indexer, vectorAssembler, normalizer, classifier])\n\nmodel = pipeline.fit(df_train)\n#model.stages[3].summary.accuracy"
        }, 
        {
            "execution_count": 41, 
            "cell_type": "code", 
            "metadata": {}, 
            "outputs": [
                {
                    "output_type": "stream", 
                    "name": "stdout", 
                    "text": "+--------+------------+------------------+------------------+------------------+-----+--------------------+--------------------+--------------------+--------------------+----------+\n|CountyID|DiseaseRFeat|                NO|               NO2|               PM1|label|          featuresOO|            features|       rawPrediction|         probability|prediction|\n+--------+------------+------------------+------------------+------------------+-----+--------------------+--------------------+--------------------+--------------------+----------+\n|    1001|           1|            5836.0|            4973.0|            2884.0|  1.0|[5836.0,4973.0,28...|[0.42620316950266...|[-1.3119069754203...|[0.06762143174728...|       1.0|\n|    1002|           0| 4913.333333333333| 4875.666666666667|            3724.0|  0.0|[4913.33333333333...|[0.36360048348503...|[1.32590267922033...|[0.93412217565278...|       0.0|\n|    1003|           0|            2039.0|            2465.5|            1818.0|  0.0|[2039.0,2465.5,18...|[0.32249901146698...|[1.32590267922033...|[0.93412217565278...|       0.0|\n|    1051|           1|            2589.0|            2702.0|            2928.0|  1.0|[2589.0,2702.0,29...|[0.31500182503954...|[-1.2898912156812...|[0.07045097761734...|       1.0|\n|    1057|           0|              83.0|             493.0|            1632.0|  0.0| [83.0,493.0,1632.0]|[0.03759057971014...|[1.05328758104544...|[0.89154060909002...|       0.0|\n|    3360|           1|              84.0|             252.0|             889.0|  1.0|  [84.0,252.0,889.0]|[0.06857142857142...|[-0.9048154045324...|[0.14068275171751...|       1.0|\n|   10041|           0|2825.6666666666665|2989.3333333333335|2172.3333333333335|  0.0|[2825.66666666666...|[0.35376846673900...|[1.32590267922033...|[0.93412217565278...|       0.0|\n|   10044|           1| 992.6666666666666|1517.6666666666667|2030.6666666666667|  1.0|[992.666666666666...|[0.21860089554430...|[-1.2898912156812...|[0.07045097761734...|       1.0|\n|   12065|           0|              13.0|              75.0|            1112.0|  0.0|  [13.0,75.0,1112.0]|[0.01083333333333...|[1.28585395657182...|[0.92901840374610...|       0.0|\n|   14612|           0| 4159.333333333333| 4304.333333333333|            3415.5|  0.0|[4159.33333333333...|[0.35013679410733...|[1.32590267922033...|[0.93412217565278...|       0.0|\n|   14713|           1|            4718.0|            4698.0|3311.6666666666665|  1.0|[4718.0,4698.0,33...|[0.37068852630751...|[-1.3119069754203...|[0.06762143174728...|       1.0|\n|   14730|           0|              12.0|             259.0|            1235.0|  0.0| [12.0,259.0,1235.0]|[0.00796812749003...|[1.28585395657182...|[0.92901840374610...|       0.0|\n|   15002|           0|            4051.0| 4277.666666666667|3626.3333333333335|  0.0|[4051.0,4277.6666...|[0.33885403596821...|[1.32590267922033...|[0.93412217565278...|       0.0|\n|   16051|           1|            3675.5|            3717.5|            2464.0|  1.0|[3675.5,3717.5,24...|[0.37288221568428...|[-1.3119069754203...|[0.06762143174728...|       1.0|\n|   16062|           1|            1325.0|            1724.0|            1870.0|  1.0|[1325.0,1724.0,18...|[0.26936369180727...|[-1.2898912156812...|[0.07045097761734...|       1.0|\n|   16066|           0|             839.0|             988.0|             873.0|  0.0| [839.0,988.0,873.0]|[0.31074074074074...|[1.18767622944466...|[0.91492839244173...|       0.0|\n|   16072|           1|              22.0|             123.0|             295.0|  1.0|  [22.0,123.0,295.0]|[0.05,0.279545454...|[-0.7336728869314...|[0.18734637852472...|       1.0|\n|   16073|           1|            1313.0|            1136.0|            2703.0|  1.0|[1313.0,1136.0,27...|[0.25485248447204...|[-1.0145117897265...|[0.11618915237592...|       1.0|\n|   16076|           0|            1130.0|            1321.0|            1690.0|  0.0|[1130.0,1321.0,16...|[0.27288094663124...|[1.17800847536243...|[0.91341130005985...|       0.0|\n|   16077|           1|            1210.0|            1463.0|            1706.0|  1.0|[1210.0,1463.0,17...|[0.27631879424526...|[-1.2898912156812...|[0.07045097761734...|       1.0|\n+--------+------------+------------------+------------------+------------------+-----+--------------------+--------------------+--------------------+--------------------+----------+\nonly showing top 20 rows\n\n"
                }
            ], 
            "source": "prediction = model.transform(df_train)\nprediction.show()"
        }, 
        {
            "execution_count": 42, 
            "cell_type": "code", 
            "metadata": {}, 
            "outputs": [
                {
                    "output_type": "stream", 
                    "name": "stdout", 
                    "text": "root\n |-- CountyID: long (nullable = true)\n |-- DiseaseRFeat: long (nullable = true)\n |-- NO: double (nullable = true)\n |-- NO2: double (nullable = true)\n |-- PM1: double (nullable = true)\n |-- label: double (nullable = false)\n |-- featuresOO: vector (nullable = true)\n |-- features: vector (nullable = true)\n |-- rawPrediction: vector (nullable = true)\n |-- probability: vector (nullable = true)\n |-- prediction: double (nullable = false)\n\n"
                }
            ], 
            "source": "prediction.printSchema()"
        }, 
        {
            "execution_count": 43, 
            "cell_type": "code", 
            "metadata": {}, 
            "outputs": [
                {
                    "execution_count": 43, 
                    "metadata": {}, 
                    "data": {
                        "text/plain": "1.0"
                    }, 
                    "output_type": "execute_result"
                }
            ], 
            "source": "from pyspark.ml.evaluation import MulticlassClassificationEvaluator\nbinEval = MulticlassClassificationEvaluator().setMetricName(\"accuracy\").setPredictionCol(\"prediction\").setLabelCol(\"DiseaseRFeat\")\nbinEval.evaluate(prediction)"
        }, 
        {
            "execution_count": 49, 
            "cell_type": "code", 
            "metadata": {}, 
            "outputs": [
                {
                    "output_type": "stream", 
                    "name": "stdout", 
                    "text": "+--------+------------+------+------------------+------------------+-----+--------------------+--------------------+--------------------+--------------------+----------+\n|CountyID|DiseaseRFeat|    NO|               NO2|               PM1|label|          featuresOO|            features|       rawPrediction|         probability|prediction|\n+--------+------------+------+------------------+------------------+-----+--------------------+--------------------+--------------------+--------------------+----------+\n|    1053|           0|5759.0|            4826.0|            4200.0|  0.0|[5759.0,4826.0,42...|[0.38951640175853...|[1.32590267922033...|[0.93412217565278...|       0.0|\n|    1061|           0|6553.0|            5901.0|            2279.0|  0.0|[6553.0,5901.0,22...|[0.44478381863843...|[-1.3119069754203...|[0.06762143174728...|       1.0|\n|    7232|           1| 635.5|            1092.5|            1808.0|  1.0|[635.5,1092.5,180...|[0.17972285067873...|[1.18366832938472...|[0.91430240855523...|       0.0|\n|   16054|           1|2441.5|            1946.5|            1161.0|  1.0|[2441.5,1946.5,11...|[0.43998918724094...|[-1.3119069754203...|[0.06762143174728...|       1.0|\n|   14523|           0|1915.0|1227.3333333333333|1640.3333333333333|  0.0|[1915.0,1227.3333...|[0.40040423752439...|[1.32590267922033...|[0.93412217565278...|       0.0|\n|   15081|           0|  69.0|             237.0|            1322.0|  0.0| [69.0,237.0,1322.0]|[0.04238329238329...|[1.30300607708284...|[0.93124751079222...|       0.0|\n|   15088|           0| 468.0|             851.0|            2151.0|  0.0|[468.0,851.0,2151.0]|[0.13487031700288...|[1.06309267581204...|[0.89342232654662...|       0.0|\n|   15089|           0|3510.0|            2824.0|            3139.5|  0.0|[3510.0,2824.0,31...|[0.37050720430675...|[1.32590267922033...|[0.93412217565278...|       0.0|\n|   16055|           0|2328.0|            2818.5|            1998.5|  0.0|[2328.0,2818.5,19...|[0.32582225332400...|[1.32590267922033...|[0.93412217565278...|       0.0|\n|   16074|           0|  66.0|              63.0|             744.0|  0.0|   [66.0,63.0,744.0]|[0.07560137457044...|[1.27496027977470...|[0.92756817757706...|       0.0|\n+--------+------------+------+------------------+------------------+-----+--------------------+--------------------+--------------------+--------------------+----------+\n\n"
                }, 
                {
                    "execution_count": 49, 
                    "metadata": {}, 
                    "data": {
                        "text/plain": "0.8"
                    }, 
                    "output_type": "execute_result"
                }
            ], 
            "source": "predictionTest = model.transform(df_test)\npredictionTest.show()\nbinEval.evaluate(predictionTest)"
        }, 
        {
            "source": "## GBT Summary\nThe GBT in the default configuration gives 80% accuracy on the *dfPolLongPerc75Disease75perc* feature set (correlation between 75th percentile of high pollutant concentration and 75th percentile of Asthma Bronchiale prevalence)", 
            "cell_type": "markdown", 
            "metadata": {}
        }, 
        {
            "execution_count": null, 
            "cell_type": "code", 
            "metadata": {}, 
            "outputs": [], 
            "source": ""
        }
    ], 
    "metadata": {
        "kernelspec": {
            "display_name": "Python 3.6 with Spark", 
            "name": "python36", 
            "language": "python3"
        }, 
        "language_info": {
            "mimetype": "text/x-python", 
            "nbconvert_exporter": "python", 
            "version": "3.6.8", 
            "name": "python", 
            "file_extension": ".py", 
            "pygments_lexer": "ipython3", 
            "codemirror_mode": {
                "version": 3, 
                "name": "ipython"
            }
        }
    }, 
    "nbformat": 4
}