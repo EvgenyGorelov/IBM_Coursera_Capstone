{
 "cells": [
  {
   "cell_type": "markdown",
   "metadata": {},
   "source": [
    "# Advanced Data Science Capstone\n",
    "\n",
    "## Correlation of air pollution and Prevalence of Heart failures in Germany  \n",
    "\n",
    "## Model definition: Linear regression"
   ]
  },
  {
   "cell_type": "markdown",
   "metadata": {},
   "source": [
    "### The deliverables\n",
    "The deliverables of the current stage:\n",
    "\n",
    " - The models: at least one deep learning and at least one non-deep learning algorithm\n",
    " - Compare and document models performance\n",
    " - At least one additional iteration in the process model involving at least the feature creation task and record impact on model performance (e.g. data normalizing, PCA, …)\n",
    " \n",
    "###  Architectural Decisions Document (ADD)\n",
    "\n",
    " - The choice of specific technologies / frameworks \n",
    " - All decisions should be documented in the ADD\n",
    " \n",
    "###  Result of the stage\n",
    "\n",
    " - Save the notebook according to the process model’s naming convention\n",
    " - Proceed to the model training task \n",
    " \n",
    " First of all the necessary libraries and the feature matrices created at the Feature Engineering stage are loaded:"
   ]
  },
  {
   "cell_type": "code",
   "execution_count": 1,
   "metadata": {},
   "outputs": [],
   "source": [
    "import pandas as pd\n",
    "import numpy as np\n",
    "import matplotlib.pyplot as plt\n",
    "\n",
    "#from sklearn import preprocessing\n",
    "from sklearn.preprocessing import MinMaxScaler\n",
    "from sklearn.model_selection import train_test_split\n",
    "from sklearn import decomposition\n",
    "from sklearn.preprocessing import PolynomialFeatures\n",
    "from sklearn.linear_model import LinearRegression\n",
    "\n",
    "import statsmodels.api as sm\n",
    "from statsmodels.formula.api import ols\n",
    "from statsmodels.stats.anova import anova_lm\n",
    "\n",
    "\n",
    "FeatureSetDenseMean = pd.read_csv('Capstone.FeatureEng/Capstone.feature_eng.DenseMean.1.0.csv', index_col=None)\n",
    "FeatureSetLongMean = pd.read_csv('Capstone.FeatureEng/Capstone.feature_eng.LongMean.1.0.csv', index_col=None)\n",
    "\n",
    "FeatureSetDensePerc50 = pd.read_csv('Capstone.FeatureEng/Capstone.feature_eng.DensePerc50.1.0.csv', index_col=None)\n",
    "FeatureSetDensePerc75 = pd.read_csv('Capstone.FeatureEng/Capstone.feature_eng.DensePerc75.1.0.csv', index_col=None)\n",
    "\n",
    "FeatureSetLongPerc50 = pd.read_csv('Capstone.FeatureEng/Capstone.feature_eng.LongPerc50.1.0.csv', index_col=None)\n",
    "FeatureSetLongPerc75 = pd.read_csv('Capstone.FeatureEng/Capstone.feature_eng.LongPerc75.1.0.csv', index_col=None)"
   ]
  },
  {
   "cell_type": "markdown",
   "metadata": {},
   "source": [
    "#### Linear Regression\n",
    "##### Multivariate regression\n",
    "Due to the fact, that resulting feature matrices are of quite small size (less than 200 observations and 5 features), the Linear Regression is a natural choice for initial analysis of the data set. "
   ]
  },
  {
   "cell_type": "code",
   "execution_count": 2,
   "metadata": {},
   "outputs": [
    {
     "name": "stdout",
     "output_type": "stream",
     "text": [
      "   CountyID  DiseaseR     NO    NO2     PM1\n",
      "0     16072       8.7    7.0   21.0   275.0\n",
      "1     16073       8.3  747.0  538.0  1456.0\n",
      "2      8128       8.0  701.0  511.0  1559.0\n",
      "             df      sum_sq   mean_sq         F  PR(>F)\n",
      "X           3.0    0.560654  0.186885  0.193705  0.9006\n",
      "Residual  195.0  188.133618  0.964788       NaN     NaN\n",
      "                            OLS Regression Results                            \n",
      "==============================================================================\n",
      "Dep. Variable:                      y   R-squared:                       0.003\n",
      "Model:                            OLS   Adj. R-squared:                 -0.012\n",
      "Method:                 Least Squares   F-statistic:                    0.1937\n",
      "Date:                Thu, 08 Aug 2019   Prob (F-statistic):              0.901\n",
      "Time:                        13:56:25   Log-Likelihood:                -276.78\n",
      "No. Observations:                 199   AIC:                             561.6\n",
      "Df Residuals:                     195   BIC:                             574.7\n",
      "Df Model:                           3                                         \n",
      "Covariance Type:            nonrobust                                         \n",
      "==============================================================================\n",
      "                 coef    std err          t      P>|t|      [0.025      0.975]\n",
      "------------------------------------------------------------------------------\n",
      "Intercept      5.7317      0.189     30.354      0.000       5.359       6.104\n",
      "X[0]          -0.5201      0.860     -0.605      0.546      -2.216       1.176\n",
      "X[1]           0.6195      0.889      0.697      0.487      -1.134       2.373\n",
      "X[2]          -0.0209      0.577     -0.036      0.971      -1.159       1.117\n",
      "==============================================================================\n",
      "Omnibus:                        1.347   Durbin-Watson:                   0.013\n",
      "Prob(Omnibus):                  0.510   Jarque-Bera (JB):                1.397\n",
      "Skew:                           0.193   Prob(JB):                        0.497\n",
      "Kurtosis:                       2.863   Cond. No.                         20.1\n",
      "==============================================================================\n",
      "\n",
      "Warnings:\n",
      "[1] Standard Errors assume that the covariance matrix of the errors is correctly specified.\n"
     ]
    }
   ],
   "source": [
    "FeatureSet = FeatureSetLongPerc75\n",
    "\n",
    "print(FeatureSet.head(3))\n",
    "\n",
    "X, y = FeatureSet.drop(['CountyID', 'DiseaseR'], axis=1), FeatureSet['DiseaseR']\n",
    "scaler = MinMaxScaler()\n",
    "scaler.fit(X)\n",
    "X = scaler.transform(X)\n",
    "\n",
    "### Single variable regression\n",
    "#Xsingle = X[:,0]\n",
    "#Xsingle = sm.add_constant(Xsingle)\n",
    "#model_LR1=sm.OLS(y, Xsingle).fit()\n",
    "\n",
    "#plt.scatter(FeatureSetDensePerc50['DiseaseR'], FeatureSetDensePerc50['NOx'])\n",
    "\n",
    "#model_LR1=ols(\"DiseaseR ~ NO + NO2 + PM1\", data = FeatureSet).fit()\n",
    "model_LR1=ols(\"y ~ X\", data = FeatureSet).fit()\n",
    "\n",
    "print(anova_lm(model_LR1))\n",
    "print(model_LR1.summary())\n",
    "\n"
   ]
  },
  {
   "cell_type": "markdown",
   "metadata": {},
   "source": [
    "The results shows very high p-values, showing that the linear regression coefficients are  ...\n",
    "The same linear regression model can be realized by means of **PyTorch**:"
   ]
  },
  {
   "cell_type": "code",
   "execution_count": 3,
   "metadata": {},
   "outputs": [
    {
     "data": {
      "image/png": "[encoded data removed]",
      "text/plain": [
       "<Figure size 432x288 with 1 Axes>"
      ]
     },
     "metadata": {
      "needs_background": "light"
     },
     "output_type": "display_data"
    }
   ],
   "source": [
    "fig, ax = plt.subplots()\n",
    "fig = sm.graphics.plot_ccpr(model_LR1, 2, ax=ax)\n",
    "ax.set_title(\"Multivariate Regression\");\n",
    "\n",
    "#sm.graphics.plot_partregress(endog='DiseaseR', exog_i='NOx', exog_others=['PM1', 'NO', 'NO2', 'O3'],data=FeatureSetDensePerc50, obs_labels=False)\n",
    "##sm.graphics.plot_partregress(endog='DiseaseR', exog_i='NO', exog_others=['PM1'],data=FeatureSetDensePerc50, obs_labels=False)\n"
   ]
  },
  {
   "cell_type": "markdown",
   "metadata": {},
   "source": [
    "##### Single variable rergession"
   ]
  },
  {
   "cell_type": "code",
   "execution_count": 4,
   "metadata": {},
   "outputs": [
    {
     "name": "stdout",
     "output_type": "stream",
     "text": [
      "   CountyID  DiseaseR     NO    NO2     PM1\n",
      "0     16072       8.7    7.0   21.0   275.0\n",
      "1     16073       8.3  747.0  538.0  1456.0\n",
      "2      8128       8.0  701.0  511.0  1559.0\n"
     ]
    },
    {
     "data": {
      "image/png": "[encoded data removed]",
      "text/plain": [
       "<Figure size 432x288 with 1 Axes>"
      ]
     },
     "metadata": {
      "needs_background": "light"
     },
     "output_type": "display_data"
    }
   ],
   "source": [
    "FeatureSet = FeatureSetLongPerc75\n",
    "\n",
    "print(FeatureSet.head(3))\n",
    "\n",
    "X, y = FeatureSet.drop(['CountyID', 'DiseaseR'], axis=1), FeatureSet['DiseaseR']\n",
    "scaler = MinMaxScaler()\n",
    "scaler.fit(X)\n",
    "X = scaler.transform(X)\n",
    "\n",
    "# Selecting the regression variable:\n",
    "NumVarRegress=2\n",
    "\n",
    "Xsingle = X[:,NumVarRegress]\n",
    "Xsingle = sm.add_constant(Xsingle)\n",
    "model_LR2=sm.OLS(y, Xsingle).fit()\n",
    "\n",
    "fig, ax = plt.subplots()\n",
    "fig = sm.graphics.plot_ccpr(model_LR2, 1, ax=ax)\n",
    "ax.set_title(\"Linear Regression\");\n"
   ]
  },
  {
   "cell_type": "markdown",
   "metadata": {},
   "source": [
    "### Challenges\n",
    "The large p-values shows, that no reliable metrics of accuracy can be constructed within this approach.\n",
    "Another confounder variable, missed in the study, is the average age of the county. The problem is, that Germany is still very separated into \"west\" and \"east\", the average age in eastern and western counties differs significantly.\n",
    "For details see https://www.demografie-portal.de/SharedDocs/Aktuelles/DE/2015/151208_BiB_Durchschnittsalter_Deutschland.html (in German), the map of average age for counties is shown below:\n",
    "\n",
    "![](https://www.demografie-portal.de/SharedDocs/Bilder/Aktuelles/2015/151208_BiB_Durchschnittsalter_Deutschland.png?__blob=normal&v=2)\n",
    "\n",
    "This becomes an extremely important issue, if e.g. mortality from heart failures is being studied based on open published data: despite of lack of industry/transportation and pollutant emissions in the east counties, the heart failures prevalence is much higher due to significantly larger average age.\n",
    "\n",
    "### Model\n",
    "As far as regression models seems to be not appropriate for the problem, one can switch to classification approaches, showing e.g. whether selected county is of high risk of the disease. "
   ]
  },
  {
   "cell_type": "code",
   "execution_count": null,
   "metadata": {},
   "outputs": [],
   "source": []
  }
 ],
 "metadata": {
  "kernelspec": {
   "display_name": "Python 3",
   "language": "python",
   "name": "python3"
  },
  "language_info": {
   "codemirror_mode": {
    "name": "ipython",
    "version": 3
   },
   "file_extension": ".py",
   "mimetype": "text/x-python",
   "name": "python",
   "nbconvert_exporter": "python",
   "pygments_lexer": "ipython3",
   "version": "3.7.4"
  }
 },
 "nbformat": 4,
 "nbformat_minor": 2
}
