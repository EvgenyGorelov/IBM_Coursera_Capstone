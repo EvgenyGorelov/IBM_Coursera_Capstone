{
    "nbformat_minor": 2, 
    "cells": [
        {
            "source": "# Advanced Data Science Capstone\n\n## Correlation of air pollution and Prevalence of Asthma bronchiale in Germany  \n\n## Model definition: Cluster approaches", 
            "cell_type": "markdown", 
            "metadata": {}
        }, 
        {
            "source": "### The deliverables\nThe deliverables of the current stage:\n\n - The models: at least one deep learning and at least one non-deep learning algorithm\n - Compare and document models performance\n - At least one additional iteration in the process model involving at least the feature creation task and record impact on model performance (e.g. data normalizing, PCA, \u2026)\n \n###  Architectural Decisions Document (ADD)\n\n - The choice of specific technologies / frameworks \n - All decisions should be documented in the ADD\n \n###  Result of the stage\n\n - Save the notebook according to the process model\u2019s naming convention\n - Proceed to the model training task \n \n First of all the necessary libraries and the feature matrices created at the Feature Engineering stage are loaded:", 
            "cell_type": "markdown", 
            "metadata": {}
        }, 
        {
            "source": "### Model definition\nAs far as linear regression approach was unsuccessful, classification approaches will be used.\nAs a result class a feature, showing whether the county is of the high risk of the disease or not.\nThis **feature** can be constructed as e.g. **presence of the county in 75th quantile** of the disease:", 
            "cell_type": "markdown", 
            "metadata": {}
        }, 
        {
            "execution_count": 1, 
            "cell_type": "code", 
            "metadata": {}, 
            "outputs": [], 
            "source": "import pandas as pd\nimport numpy as np\nimport matplotlib.pyplot as plt\n\n#from sklearn import preprocessing\nfrom sklearn.preprocessing import MinMaxScaler\nfrom sklearn.model_selection import train_test_split\nfrom sklearn import decomposition\nfrom sklearn.preprocessing import PolynomialFeatures\nfrom sklearn.linear_model import LinearRegression\n\nimport statsmodels.api as sm\nfrom statsmodels.formula.api import ols\nfrom statsmodels.stats.anova import anova_lm\n\n\nFeatureSetDenseMean = pd.read_csv('Capstone.FeatureEng/Capstone.feature_eng.DenseMean.1.0.csv', index_col=None)\nFeatureSetLongMean = pd.read_csv('Capstone.FeatureEng/Capstone.feature_eng.LongMean.1.0.csv', index_col=None)\n\nFeatureSetDensePerc50 = pd.read_csv('Capstone.FeatureEng/Capstone.feature_eng.DensePerc50.1.0.csv', index_col=None)\nFeatureSetDensePerc75 = pd.read_csv('Capstone.FeatureEng/Capstone.feature_eng.DensePerc75.1.0.csv', index_col=None)\n\nFeatureSetLongPerc50 = pd.read_csv('Capstone.FeatureEng/Capstone.feature_eng.LongPerc50.1.0.csv', index_col=None)\nFeatureSetLongPerc75 = pd.read_csv('Capstone.FeatureEng/Capstone.feature_eng.LongPerc75.1.0.csv', index_col=None)"
        }, 
        {
            "source": "### Additional feature creation\n\nAdditional feature for the disease prevalence is constructed as **presence of the county in Nth percentile** of the disease prevalence:", 
            "cell_type": "markdown", 
            "metadata": {}
        }, 
        {
            "execution_count": 2, 
            "cell_type": "code", 
            "metadata": {}, 
            "outputs": [
                {
                    "execution_count": 2, 
                    "metadata": {}, 
                    "data": {
                        "text/html": "<div>\n<style scoped>\n    .dataframe tbody tr th:only-of-type {\n        vertical-align: middle;\n    }\n\n    .dataframe tbody tr th {\n        vertical-align: top;\n    }\n\n    .dataframe thead th {\n        text-align: right;\n    }\n</style>\n<table border=\"1\" class=\"dataframe\">\n  <thead>\n    <tr style=\"text-align: right;\">\n      <th></th>\n      <th>CountyID</th>\n      <th>DiseaseRFeat</th>\n      <th>NO</th>\n      <th>NO2</th>\n      <th>PM1</th>\n    </tr>\n  </thead>\n  <tbody>\n    <tr>\n      <th>0</th>\n      <td>16072</td>\n      <td>False</td>\n      <td>7.0</td>\n      <td>21.0</td>\n      <td>275.0</td>\n    </tr>\n    <tr>\n      <th>1</th>\n      <td>16073</td>\n      <td>False</td>\n      <td>747.0</td>\n      <td>538.0</td>\n      <td>1456.0</td>\n    </tr>\n    <tr>\n      <th>2</th>\n      <td>8128</td>\n      <td>False</td>\n      <td>701.0</td>\n      <td>511.0</td>\n      <td>1559.0</td>\n    </tr>\n    <tr>\n      <th>3</th>\n      <td>6413</td>\n      <td>False</td>\n      <td>4617.0</td>\n      <td>4931.0</td>\n      <td>3215.0</td>\n    </tr>\n    <tr>\n      <th>4</th>\n      <td>1001</td>\n      <td>False</td>\n      <td>5491.0</td>\n      <td>3638.0</td>\n      <td>2488.0</td>\n    </tr>\n  </tbody>\n</table>\n</div>", 
                        "text/plain": "   CountyID  DiseaseRFeat      NO     NO2     PM1\n0     16072         False     7.0    21.0   275.0\n1     16073         False   747.0   538.0  1456.0\n2      8128         False   701.0   511.0  1559.0\n3      6413         False  4617.0  4931.0  3215.0\n4      1001         False  5491.0  3638.0  2488.0"
                    }, 
                    "output_type": "execute_result"
                }
            ], 
            "source": "def DiseaseFeaturePercentile(FeatureSetDF, Percentile):\n    DiseasePercentile = (FeatureSetDF['DiseaseR']).quantile(Percentile/100.0)\n    dfFeatureOut = FeatureSetLongPerc75.copy(deep=True)\n    dfFeatureOut['DiseaseR'] = ((dfFeatureOut['DiseaseR'])>DiseasePercentile)\n    dfFeatureOut=dfFeatureOut.rename(columns = {'DiseaseR':'DiseaseRFeat'})\n    return(dfFeatureOut)\n\ndfPolMeanLongDisease50perc = DiseaseFeaturePercentile(FeatureSetLongMean, 50.0)\ndfPolMeanLongDisease75perc = DiseaseFeaturePercentile(FeatureSetLongMean, 75.0)\ndfPolMeanLongDisease95perc = DiseaseFeaturePercentile(FeatureSetLongMean, 95.0)\n\ndfPolLongPerc75Disease50perc = DiseaseFeaturePercentile(FeatureSetLongPerc75, 50.0)\ndfPolLongPerc75Disease75perc = DiseaseFeaturePercentile(FeatureSetLongPerc75, 75.0)\ndfPolLongPerc75Disease95perc = DiseaseFeaturePercentile(FeatureSetLongPerc75, 95.0)\n\ndfPolMeanLongDisease50perc.to_csv('Capstone.FeatureEng/Capstone.feature_eng.PolMeanLongDisease50perc.1.0.csv', index=False)\ndfPolMeanLongDisease75perc.to_csv('Capstone.FeatureEng/Capstone.feature_eng.PolMeanLongDisease75perc.1.0.csv', index=False)\ndfPolMeanLongDisease95perc.to_csv('Capstone.FeatureEng/Capstone.feature_eng.PolMeanLongDisease95perc.1.0.csv', index=False)\n\ndfPolLongPerc75Disease50perc.to_csv('Capstone.FeatureEng/Capstone.feature_eng.PolLongPerc75Disease50perc.1.0.csv', index=False)\ndfPolLongPerc75Disease75perc.to_csv('Capstone.FeatureEng/Capstone.feature_eng.PolLongPerc75Disease75perc.1.0.csv', index=False)\ndfPolLongPerc75Disease95perc.to_csv('Capstone.FeatureEng/Capstone.feature_eng.PolLongPerc75Disease95perc.1.0.csv', index=False)\n\ndfPolLongPerc75Disease95perc.head()"
        }, 
        {
            "source": "### Model Definition\nA number of models, based on different feature sets are defined. Since the pollutant data sets are incomplete (do not include information about *all* German counties), the test/train sets will be cropped accordingly for each pollutant feature set:", 
            "cell_type": "markdown", 
            "metadata": {}
        }, 
        {
            "execution_count": 3, 
            "cell_type": "code", 
            "metadata": {}, 
            "outputs": [
                {
                    "ename": "NameError", 
                    "evalue": "name 'dfAsthma' is not defined", 
                    "traceback": [
                        "\u001b[0;31m---------------------------------------------------------------------------\u001b[0m", 
                        "\u001b[0;31mNameError\u001b[0m                                 Traceback (most recent call last)", 
                        "\u001b[0;32m<ipython-input-3-18014538076e>\u001b[0m in \u001b[0;36m<module>\u001b[0;34m\u001b[0m\n\u001b[0;32m----> 1\u001b[0;31m \u001b[0mdfAsthma75perc\u001b[0m \u001b[0;34m=\u001b[0m \u001b[0mDiseaseFeaturePercentile\u001b[0m\u001b[0;34m(\u001b[0m\u001b[0mdfAsthma\u001b[0m\u001b[0;34m,\u001b[0m \u001b[0;36m75.0\u001b[0m\u001b[0;34m)\u001b[0m\u001b[0;34m\u001b[0m\u001b[0;34m\u001b[0m\u001b[0m\n\u001b[0m\u001b[1;32m      2\u001b[0m \u001b[0mdfAsthma75perc\u001b[0m\u001b[0;34m.\u001b[0m\u001b[0mtail\u001b[0m\u001b[0;34m(\u001b[0m\u001b[0;34m)\u001b[0m\u001b[0;34m\u001b[0m\u001b[0;34m\u001b[0m\u001b[0m\n", 
                        "\u001b[0;31mNameError\u001b[0m: name 'dfAsthma' is not defined"
                    ], 
                    "output_type": "error"
                }
            ], 
            "source": "dfAsthma75perc = DiseaseFeaturePercentile(dfAsthma, 75.0)\ndfAsthma75perc.tail()"
        }, 
        {
            "execution_count": null, 
            "cell_type": "code", 
            "metadata": {}, 
            "outputs": [], 
            "source": ""
        }
    ], 
    "metadata": {
        "kernelspec": {
            "display_name": "Python 3.6", 
            "name": "python3", 
            "language": "python"
        }, 
        "language_info": {
            "mimetype": "text/x-python", 
            "nbconvert_exporter": "python", 
            "version": "3.6.8", 
            "name": "python", 
            "file_extension": ".py", 
            "pygments_lexer": "ipython3", 
            "codemirror_mode": {
                "version": 3, 
                "name": "ipython"
            }
        }
    }, 
    "nbformat": 4
}