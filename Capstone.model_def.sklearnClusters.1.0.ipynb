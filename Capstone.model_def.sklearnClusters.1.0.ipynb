{
 "cells": [
  {
   "cell_type": "markdown",
   "metadata": {},
   "source": [
    "# Advanced Data Science Capstone\n",
    "\n",
    "## Correlation of air pollution and Prevalence of Asthma bronchiale in Germany  \n",
    "\n",
    "## Model definition: Cluster approaches"
   ]
  },
  {
   "cell_type": "markdown",
   "metadata": {},
   "source": [
    "### The deliverables\n",
    "The deliverables of the current stage:\n",
    "\n",
    " - The models: at least one deep learning and at least one non-deep learning algorithm\n",
    " - Compare and document models performance\n",
    " - At least one additional iteration in the process model involving at least the feature creation task and record impact on model performance (e.g. data normalizing, PCA, …)\n",
    " \n",
    "###  Architectural Decisions Document (ADD)\n",
    "\n",
    " - The choice of specific technologies / frameworks \n",
    " - All decisions should be documented in the ADD\n",
    " \n",
    "###  Result of the stage\n",
    "\n",
    " - Save the notebook according to the process model’s naming convention\n",
    " - Proceed to the model training task \n",
    " \n",
    " First of all the necessary libraries and the feature matrices created at the Feature Engineering stage are loaded:"
   ]
  },
  {
   "cell_type": "markdown",
   "metadata": {},
   "source": [
    "### Model definition\n",
    "As far as linear regression approach was unsuccessful, classification approaches will be used.\n",
    "As a result class a feature, showing whether the county is of the high risk of the disease or not.\n",
    "This **feature** can be constructed as e.g. **presence of the county in 75th quantile** of the disease:"
   ]
  },
  {
   "cell_type": "code",
   "execution_count": 2,
   "metadata": {},
   "outputs": [
    {
     "name": "stdout",
     "output_type": "stream",
     "text": [
      "xls sheet names:  ['Hintergrundinformationen', 'Daten']\n",
      "      Region  Regions-ID  KV             Kreistyp  Wert  Bundeswert\n",
      "0   Eisenach       16056  TH    Ländliches Umland   8.9         5.7\n",
      "1  Sonneberg       16072  TH      Ländlicher Raum   8.7         5.7\n",
      "2  Ammerland        3451  NI  Verdichtetes Umland   8.5         5.7\n",
      "Length of the dataset:  402\n"
     ]
    },
    {
     "data": {
      "text/plain": [
       "array([[<matplotlib.axes._subplots.AxesSubplot object at 0x11b24fa90>]],\n",
       "      dtype=object)"
      ]
     },
     "execution_count": 2,
     "metadata": {},
     "output_type": "execute_result"
    },
    {
     "data": {
      "text/plain": [
       "<Figure size 432x288 with 0 Axes>"
      ]
     },
     "metadata": {},
     "output_type": "display_data"
    },
    {
     "data": {
      "image/png": "[encoded data removed]",
      "text/plain": [
       "<Figure size 432x288 with 1 Axes>"
      ]
     },
     "metadata": {
      "needs_background": "light"
     },
     "output_type": "display_data"
    }
   ],
   "source": [
    "import pandas as pd\n",
    "import numpy as np\n",
    "import matplotlib.pyplot as plt\n",
    "\n",
    "#from sklearn import preprocessing\n",
    "from sklearn.preprocessing import MinMaxScaler\n",
    "from sklearn.model_selection import train_test_split\n",
    "from sklearn import decomposition\n",
    "from sklearn.preprocessing import PolynomialFeatures\n",
    "from sklearn.linear_model import LinearRegression\n",
    "\n",
    "import statsmodels.api as sm\n",
    "from statsmodels.formula.api import ols\n",
    "from statsmodels.stats.anova import anova_lm\n",
    "\n",
    "\n",
    "FeatureSetDenseMean = pd.read_csv('Capstone.FeatureEng/Capstone.feature_eng.DenseMean.1.0.csv', index_col=None)\n",
    "FeatureSetLongMean = pd.read_csv('Capstone.FeatureEng/Capstone.feature_eng.LongMean.1.0.csv', index_col=None)\n",
    "\n",
    "FeatureSetDensePerc50 = pd.read_csv('Capstone.FeatureEng/Capstone.feature_eng.DensePerc50.1.0.csv', index_col=None)\n",
    "FeatureSetDensePerc75 = pd.read_csv('Capstone.FeatureEng/Capstone.feature_eng.DensePerc75.1.0.csv', index_col=None)\n",
    "\n",
    "FeatureSetLongPerc50 = pd.read_csv('Capstone.FeatureEng/Capstone.feature_eng.LongPerc50.1.0.csv', index_col=None)\n",
    "FeatureSetLongPerc75 = pd.read_csv('Capstone.FeatureEng/Capstone.feature_eng.LongPerc75.1.0.csv', index_col=None)\n",
    "\n",
    "xlsx_file = pd.ExcelFile(\"Capstone.rawData/Asthma_2016/data_id_92_kreis11_1_j_1451606400.xlsx\")\n",
    "print(\"xls sheet names: \",xlsx_file.sheet_names)\n",
    "dfAsthma = xlsx_file.parse('Daten', header=3, decimal=\",\") \n",
    "print(dfAsthma.head(3))\n",
    "print(\"Length of the dataset: \",len(dfAsthma))\n",
    "plt.figure()\n",
    "dfAsthma.hist(column='Wert')"
   ]
  },
  {
   "cell_type": "markdown",
   "metadata": {},
   "source": [
    "### Additional feature creation\n",
    "\n",
    "Additional feature for the disease prevalence is constructed as **presence of the county in Nth percentile** of the disease prevalence:"
   ]
  },
  {
   "cell_type": "code",
   "execution_count": 29,
   "metadata": {},
   "outputs": [
    {
     "data": {
      "text/html": [
       "<div>\n",
       "<style scoped>\n",
       "    .dataframe tbody tr th:only-of-type {\n",
       "        vertical-align: middle;\n",
       "    }\n",
       "\n",
       "    .dataframe tbody tr th {\n",
       "        vertical-align: top;\n",
       "    }\n",
       "\n",
       "    .dataframe thead th {\n",
       "        text-align: right;\n",
       "    }\n",
       "</style>\n",
       "<table border=\"1\" class=\"dataframe\">\n",
       "  <thead>\n",
       "    <tr style=\"text-align: right;\">\n",
       "      <th></th>\n",
       "      <th>CountyID</th>\n",
       "      <th>DiseaseRFeat</th>\n",
       "    </tr>\n",
       "  </thead>\n",
       "  <tbody>\n",
       "    <tr>\n",
       "      <th>0</th>\n",
       "      <td>16056</td>\n",
       "      <td>True</td>\n",
       "    </tr>\n",
       "    <tr>\n",
       "      <th>1</th>\n",
       "      <td>16072</td>\n",
       "      <td>True</td>\n",
       "    </tr>\n",
       "    <tr>\n",
       "      <th>2</th>\n",
       "      <td>3451</td>\n",
       "      <td>True</td>\n",
       "    </tr>\n",
       "    <tr>\n",
       "      <th>3</th>\n",
       "      <td>16073</td>\n",
       "      <td>True</td>\n",
       "    </tr>\n",
       "    <tr>\n",
       "      <th>4</th>\n",
       "      <td>3151</td>\n",
       "      <td>True</td>\n",
       "    </tr>\n",
       "  </tbody>\n",
       "</table>\n",
       "</div>"
      ],
      "text/plain": [
       "   CountyID  DiseaseRFeat\n",
       "0     16056          True\n",
       "1     16072          True\n",
       "2      3451          True\n",
       "3     16073          True\n",
       "4      3151          True"
      ]
     },
     "execution_count": 29,
     "metadata": {},
     "output_type": "execute_result"
    }
   ],
   "source": [
    "def DiseaseFeaturePercentile(DiseaseDF, Percentile):\n",
    "    DiseasePercentile = (DiseaseDF['Wert']).quantile(Percentile/100.0)\n",
    "    dfFeatureOut = pd.DataFrame(DiseaseDF['Regions-ID'])\n",
    "    dfFeatureOut=dfFeatureOut.join((DiseaseDF['Wert'])>DiseasePercentile)\n",
    "    dfFeatureOut.columns=['CountyID','DiseaseRFeat']\n",
    "    return(dfFeatureOut)\n",
    "\n",
    "dfAsthma50perc = DiseaseFeaturePercentile(dfAsthma, 50.0)\n",
    "dfAsthma75perc = DiseaseFeaturePercentile(dfAsthma, 75.0)\n",
    "dfAsthma95perc = DiseaseFeaturePercentile(dfAsthma, 95.0)\n",
    "\n",
    "dfAsthma95perc.head()"
   ]
  },
  {
   "cell_type": "markdown",
   "metadata": {},
   "source": [
    "### Model Definition\n",
    "A number of models, based on different feature sets are defined. Since the pollutant data sets are incomplete (do not include information about *all* German counties), the test/train sets will be cropped accordingly for each pollutant feature set:"
   ]
  },
  {
   "cell_type": "code",
   "execution_count": 26,
   "metadata": {},
   "outputs": [
    {
     "data": {
      "text/html": [
       "<div>\n",
       "<style scoped>\n",
       "    .dataframe tbody tr th:only-of-type {\n",
       "        vertical-align: middle;\n",
       "    }\n",
       "\n",
       "    .dataframe tbody tr th {\n",
       "        vertical-align: top;\n",
       "    }\n",
       "\n",
       "    .dataframe thead th {\n",
       "        text-align: right;\n",
       "    }\n",
       "</style>\n",
       "<table border=\"1\" class=\"dataframe\">\n",
       "  <thead>\n",
       "    <tr style=\"text-align: right;\">\n",
       "      <th></th>\n",
       "      <th>CountyID</th>\n",
       "      <th>DiseaseRFeat</th>\n",
       "    </tr>\n",
       "  </thead>\n",
       "  <tbody>\n",
       "    <tr>\n",
       "      <th>397</th>\n",
       "      <td>8417</td>\n",
       "      <td>False</td>\n",
       "    </tr>\n",
       "    <tr>\n",
       "      <th>398</th>\n",
       "      <td>9374</td>\n",
       "      <td>False</td>\n",
       "    </tr>\n",
       "    <tr>\n",
       "      <th>399</th>\n",
       "      <td>9272</td>\n",
       "      <td>False</td>\n",
       "    </tr>\n",
       "    <tr>\n",
       "      <th>400</th>\n",
       "      <td>8327</td>\n",
       "      <td>False</td>\n",
       "    </tr>\n",
       "    <tr>\n",
       "      <th>401</th>\n",
       "      <td>8127</td>\n",
       "      <td>False</td>\n",
       "    </tr>\n",
       "  </tbody>\n",
       "</table>\n",
       "</div>"
      ],
      "text/plain": [
       "     CountyID  DiseaseRFeat\n",
       "397      8417         False\n",
       "398      9374         False\n",
       "399      9272         False\n",
       "400      8327         False\n",
       "401      8127         False"
      ]
     },
     "execution_count": 26,
     "metadata": {},
     "output_type": "execute_result"
    }
   ],
   "source": [
    "dfAsthma75perc = DiseaseFeaturePercentile(dfAsthma, 75.0)\n",
    "dfAsthma75perc.tail()"
   ]
  },
  {
   "cell_type": "code",
   "execution_count": null,
   "metadata": {},
   "outputs": [],
   "source": []
  }
 ],
 "metadata": {
  "kernelspec": {
   "display_name": "Python 3",
   "language": "python",
   "name": "python3"
  },
  "language_info": {
   "codemirror_mode": {
    "name": "ipython",
    "version": 3
   },
   "file_extension": ".py",
   "mimetype": "text/x-python",
   "name": "python",
   "nbconvert_exporter": "python",
   "pygments_lexer": "ipython3",
   "version": "3.7.4"
  }
 },
 "nbformat": 4,
 "nbformat_minor": 2
}
